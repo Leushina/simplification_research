{
 "nbformat": 4,
 "nbformat_minor": 0,
 "metadata": {
  "accelerator": "GPU",
  "colab": {
   "name": "experiment1a.ipynb",
   "provenance": [],
   "collapsed_sections": [
    "yTPJTsM67e-z",
    "03YRl9dEVUO-",
    "GP7Lmhx2M9nU",
    "vtziscvzXwJA",
    "775EDj_YqDDO",
    "5QVqEMt4ShFE",
    "rXRwmBr5Sm1U"
   ],
   "toc_visible": true
  },
  "kernelspec": {
   "display_name": "Python 3",
   "name": "python3"
  },
  "widgets": {
   "application/vnd.jupyter.widget-state+json": {
    "f314f6cbb00d4c2fa69b8a9f7cd64caf": {
     "model_module": "@jupyter-widgets/controls",
     "model_name": "HBoxModel",
     "state": {
      "_dom_classes": [],
      "_model_module": "@jupyter-widgets/controls",
      "_model_module_version": "1.5.0",
      "_model_name": "HBoxModel",
      "_view_count": null,
      "_view_module": "@jupyter-widgets/controls",
      "_view_module_version": "1.5.0",
      "_view_name": "HBoxView",
      "box_style": "",
      "children": [
       "IPY_MODEL_0e1350b3d5474cbd873c98fbd39df92a",
       "IPY_MODEL_e8be6e4402b64e918eab3be6697b2acd"
      ],
      "layout": "IPY_MODEL_126fcf1b21604be8b72f55a344a8d341"
     }
    },
    "0e1350b3d5474cbd873c98fbd39df92a": {
     "model_module": "@jupyter-widgets/controls",
     "model_name": "FloatProgressModel",
     "state": {
      "_dom_classes": [],
      "_model_module": "@jupyter-widgets/controls",
      "_model_module_version": "1.5.0",
      "_model_name": "FloatProgressModel",
      "_view_count": null,
      "_view_module": "@jupyter-widgets/controls",
      "_view_module_version": "1.5.0",
      "_view_name": "ProgressView",
      "bar_style": "success",
      "description": "Downloading: 100%",
      "description_tooltip": null,
      "layout": "IPY_MODEL_cbcdaa81960b48fb9b91625a86746c20",
      "max": 1348,
      "min": 0,
      "orientation": "horizontal",
      "style": "IPY_MODEL_1e7cda9d664d46be8f1be7689c684593",
      "value": 1348
     }
    },
    "e8be6e4402b64e918eab3be6697b2acd": {
     "model_module": "@jupyter-widgets/controls",
     "model_name": "HTMLModel",
     "state": {
      "_dom_classes": [],
      "_model_module": "@jupyter-widgets/controls",
      "_model_module_version": "1.5.0",
      "_model_name": "HTMLModel",
      "_view_count": null,
      "_view_module": "@jupyter-widgets/controls",
      "_view_module_version": "1.5.0",
      "_view_name": "HTMLView",
      "description": "",
      "description_tooltip": null,
      "layout": "IPY_MODEL_1cdd3c971e2f422d8090140b5e901632",
      "placeholder": "​",
      "style": "IPY_MODEL_6ba74a9a728e4bdc91e73271ad16f6e5",
      "value": " 1.35k/1.35k [00:20&lt;00:00, 67.3B/s]"
     }
    },
    "126fcf1b21604be8b72f55a344a8d341": {
     "model_module": "@jupyter-widgets/base",
     "model_name": "LayoutModel",
     "state": {
      "_model_module": "@jupyter-widgets/base",
      "_model_module_version": "1.2.0",
      "_model_name": "LayoutModel",
      "_view_count": null,
      "_view_module": "@jupyter-widgets/base",
      "_view_module_version": "1.2.0",
      "_view_name": "LayoutView",
      "align_content": null,
      "align_items": null,
      "align_self": null,
      "border": null,
      "bottom": null,
      "display": null,
      "flex": null,
      "flex_flow": null,
      "grid_area": null,
      "grid_auto_columns": null,
      "grid_auto_flow": null,
      "grid_auto_rows": null,
      "grid_column": null,
      "grid_gap": null,
      "grid_row": null,
      "grid_template_areas": null,
      "grid_template_columns": null,
      "grid_template_rows": null,
      "height": null,
      "justify_content": null,
      "justify_items": null,
      "left": null,
      "margin": null,
      "max_height": null,
      "max_width": null,
      "min_height": null,
      "min_width": null,
      "object_fit": null,
      "object_position": null,
      "order": null,
      "overflow": null,
      "overflow_x": null,
      "overflow_y": null,
      "padding": null,
      "right": null,
      "top": null,
      "visibility": null,
      "width": null
     }
    },
    "cbcdaa81960b48fb9b91625a86746c20": {
     "model_module": "@jupyter-widgets/base",
     "model_name": "LayoutModel",
     "state": {
      "_model_module": "@jupyter-widgets/base",
      "_model_module_version": "1.2.0",
      "_model_name": "LayoutModel",
      "_view_count": null,
      "_view_module": "@jupyter-widgets/base",
      "_view_module_version": "1.2.0",
      "_view_name": "LayoutView",
      "align_content": null,
      "align_items": null,
      "align_self": null,
      "border": null,
      "bottom": null,
      "display": null,
      "flex": null,
      "flex_flow": null,
      "grid_area": null,
      "grid_auto_columns": null,
      "grid_auto_flow": null,
      "grid_auto_rows": null,
      "grid_column": null,
      "grid_gap": null,
      "grid_row": null,
      "grid_template_areas": null,
      "grid_template_columns": null,
      "grid_template_rows": null,
      "height": null,
      "justify_content": null,
      "justify_items": null,
      "left": null,
      "margin": null,
      "max_height": null,
      "max_width": null,
      "min_height": null,
      "min_width": null,
      "object_fit": null,
      "object_position": null,
      "order": null,
      "overflow": null,
      "overflow_x": null,
      "overflow_y": null,
      "padding": null,
      "right": null,
      "top": null,
      "visibility": null,
      "width": null
     }
    },
    "1e7cda9d664d46be8f1be7689c684593": {
     "model_module": "@jupyter-widgets/controls",
     "model_name": "ProgressStyleModel",
     "state": {
      "_model_module": "@jupyter-widgets/controls",
      "_model_module_version": "1.5.0",
      "_model_name": "ProgressStyleModel",
      "_view_count": null,
      "_view_module": "@jupyter-widgets/base",
      "_view_module_version": "1.2.0",
      "_view_name": "StyleView",
      "bar_color": null,
      "description_width": "initial"
     }
    },
    "1cdd3c971e2f422d8090140b5e901632": {
     "model_module": "@jupyter-widgets/base",
     "model_name": "LayoutModel",
     "state": {
      "_model_module": "@jupyter-widgets/base",
      "_model_module_version": "1.2.0",
      "_model_name": "LayoutModel",
      "_view_count": null,
      "_view_module": "@jupyter-widgets/base",
      "_view_module_version": "1.2.0",
      "_view_name": "LayoutView",
      "align_content": null,
      "align_items": null,
      "align_self": null,
      "border": null,
      "bottom": null,
      "display": null,
      "flex": null,
      "flex_flow": null,
      "grid_area": null,
      "grid_auto_columns": null,
      "grid_auto_flow": null,
      "grid_auto_rows": null,
      "grid_column": null,
      "grid_gap": null,
      "grid_row": null,
      "grid_template_areas": null,
      "grid_template_columns": null,
      "grid_template_rows": null,
      "height": null,
      "justify_content": null,
      "justify_items": null,
      "left": null,
      "margin": null,
      "max_height": null,
      "max_width": null,
      "min_height": null,
      "min_width": null,
      "object_fit": null,
      "object_position": null,
      "order": null,
      "overflow": null,
      "overflow_x": null,
      "overflow_y": null,
      "padding": null,
      "right": null,
      "top": null,
      "visibility": null,
      "width": null
     }
    },
    "6ba74a9a728e4bdc91e73271ad16f6e5": {
     "model_module": "@jupyter-widgets/controls",
     "model_name": "DescriptionStyleModel",
     "state": {
      "_model_module": "@jupyter-widgets/controls",
      "_model_module_version": "1.5.0",
      "_model_name": "DescriptionStyleModel",
      "_view_count": null,
      "_view_module": "@jupyter-widgets/base",
      "_view_module_version": "1.2.0",
      "_view_name": "StyleView",
      "description_width": ""
     }
    },
    "883efba27f284c889a35866a8253df19": {
     "model_module": "@jupyter-widgets/controls",
     "model_name": "HBoxModel",
     "state": {
      "_dom_classes": [],
      "_model_module": "@jupyter-widgets/controls",
      "_model_module_version": "1.5.0",
      "_model_name": "HBoxModel",
      "_view_count": null,
      "_view_module": "@jupyter-widgets/controls",
      "_view_module_version": "1.5.0",
      "_view_name": "HBoxView",
      "box_style": "",
      "children": [
       "IPY_MODEL_d8ac73a1a9ba420080f8f4091da050c4",
       "IPY_MODEL_087ca3d982934602bc48a58e5981d092"
      ],
      "layout": "IPY_MODEL_f1ed102631e645e698029ee689f3fd82"
     }
    },
    "d8ac73a1a9ba420080f8f4091da050c4": {
     "model_module": "@jupyter-widgets/controls",
     "model_name": "FloatProgressModel",
     "state": {
      "_dom_classes": [],
      "_model_module": "@jupyter-widgets/controls",
      "_model_module_version": "1.5.0",
      "_model_name": "FloatProgressModel",
      "_view_count": null,
      "_view_module": "@jupyter-widgets/controls",
      "_view_module_version": "1.5.0",
      "_view_name": "ProgressView",
      "bar_style": "success",
      "description": "Downloading: 100%",
      "description_tooltip": null,
      "layout": "IPY_MODEL_3ca01555a5e14e119581b31dc8ad69d2",
      "max": 791656,
      "min": 0,
      "orientation": "horizontal",
      "style": "IPY_MODEL_1959b93f0186472b9a8800d8160c0b5e",
      "value": 791656
     }
    },
    "087ca3d982934602bc48a58e5981d092": {
     "model_module": "@jupyter-widgets/controls",
     "model_name": "HTMLModel",
     "state": {
      "_dom_classes": [],
      "_model_module": "@jupyter-widgets/controls",
      "_model_module_version": "1.5.0",
      "_model_name": "HTMLModel",
      "_view_count": null,
      "_view_module": "@jupyter-widgets/controls",
      "_view_module_version": "1.5.0",
      "_view_name": "HTMLView",
      "description": "",
      "description_tooltip": null,
      "layout": "IPY_MODEL_254a8af2fa7e41c0b62e08b1ae7fa6a5",
      "placeholder": "​",
      "style": "IPY_MODEL_4a95f9f9f08745bab8fd39fc16716d52",
      "value": " 792k/792k [00:00&lt;00:00, 4.74MB/s]"
     }
    },
    "f1ed102631e645e698029ee689f3fd82": {
     "model_module": "@jupyter-widgets/base",
     "model_name": "LayoutModel",
     "state": {
      "_model_module": "@jupyter-widgets/base",
      "_model_module_version": "1.2.0",
      "_model_name": "LayoutModel",
      "_view_count": null,
      "_view_module": "@jupyter-widgets/base",
      "_view_module_version": "1.2.0",
      "_view_name": "LayoutView",
      "align_content": null,
      "align_items": null,
      "align_self": null,
      "border": null,
      "bottom": null,
      "display": null,
      "flex": null,
      "flex_flow": null,
      "grid_area": null,
      "grid_auto_columns": null,
      "grid_auto_flow": null,
      "grid_auto_rows": null,
      "grid_column": null,
      "grid_gap": null,
      "grid_row": null,
      "grid_template_areas": null,
      "grid_template_columns": null,
      "grid_template_rows": null,
      "height": null,
      "justify_content": null,
      "justify_items": null,
      "left": null,
      "margin": null,
      "max_height": null,
      "max_width": null,
      "min_height": null,
      "min_width": null,
      "object_fit": null,
      "object_position": null,
      "order": null,
      "overflow": null,
      "overflow_x": null,
      "overflow_y": null,
      "padding": null,
      "right": null,
      "top": null,
      "visibility": null,
      "width": null
     }
    },
    "3ca01555a5e14e119581b31dc8ad69d2": {
     "model_module": "@jupyter-widgets/base",
     "model_name": "LayoutModel",
     "state": {
      "_model_module": "@jupyter-widgets/base",
      "_model_module_version": "1.2.0",
      "_model_name": "LayoutModel",
      "_view_count": null,
      "_view_module": "@jupyter-widgets/base",
      "_view_module_version": "1.2.0",
      "_view_name": "LayoutView",
      "align_content": null,
      "align_items": null,
      "align_self": null,
      "border": null,
      "bottom": null,
      "display": null,
      "flex": null,
      "flex_flow": null,
      "grid_area": null,
      "grid_auto_columns": null,
      "grid_auto_flow": null,
      "grid_auto_rows": null,
      "grid_column": null,
      "grid_gap": null,
      "grid_row": null,
      "grid_template_areas": null,
      "grid_template_columns": null,
      "grid_template_rows": null,
      "height": null,
      "justify_content": null,
      "justify_items": null,
      "left": null,
      "margin": null,
      "max_height": null,
      "max_width": null,
      "min_height": null,
      "min_width": null,
      "object_fit": null,
      "object_position": null,
      "order": null,
      "overflow": null,
      "overflow_x": null,
      "overflow_y": null,
      "padding": null,
      "right": null,
      "top": null,
      "visibility": null,
      "width": null
     }
    },
    "1959b93f0186472b9a8800d8160c0b5e": {
     "model_module": "@jupyter-widgets/controls",
     "model_name": "ProgressStyleModel",
     "state": {
      "_model_module": "@jupyter-widgets/controls",
      "_model_module_version": "1.5.0",
      "_model_name": "ProgressStyleModel",
      "_view_count": null,
      "_view_module": "@jupyter-widgets/base",
      "_view_module_version": "1.2.0",
      "_view_name": "StyleView",
      "bar_color": null,
      "description_width": "initial"
     }
    },
    "254a8af2fa7e41c0b62e08b1ae7fa6a5": {
     "model_module": "@jupyter-widgets/base",
     "model_name": "LayoutModel",
     "state": {
      "_model_module": "@jupyter-widgets/base",
      "_model_module_version": "1.2.0",
      "_model_name": "LayoutModel",
      "_view_count": null,
      "_view_module": "@jupyter-widgets/base",
      "_view_module_version": "1.2.0",
      "_view_name": "LayoutView",
      "align_content": null,
      "align_items": null,
      "align_self": null,
      "border": null,
      "bottom": null,
      "display": null,
      "flex": null,
      "flex_flow": null,
      "grid_area": null,
      "grid_auto_columns": null,
      "grid_auto_flow": null,
      "grid_auto_rows": null,
      "grid_column": null,
      "grid_gap": null,
      "grid_row": null,
      "grid_template_areas": null,
      "grid_template_columns": null,
      "grid_template_rows": null,
      "height": null,
      "justify_content": null,
      "justify_items": null,
      "left": null,
      "margin": null,
      "max_height": null,
      "max_width": null,
      "min_height": null,
      "min_width": null,
      "object_fit": null,
      "object_position": null,
      "order": null,
      "overflow": null,
      "overflow_x": null,
      "overflow_y": null,
      "padding": null,
      "right": null,
      "top": null,
      "visibility": null,
      "width": null
     }
    },
    "4a95f9f9f08745bab8fd39fc16716d52": {
     "model_module": "@jupyter-widgets/controls",
     "model_name": "DescriptionStyleModel",
     "state": {
      "_model_module": "@jupyter-widgets/controls",
      "_model_module_version": "1.5.0",
      "_model_name": "DescriptionStyleModel",
      "_view_count": null,
      "_view_module": "@jupyter-widgets/base",
      "_view_module_version": "1.2.0",
      "_view_name": "StyleView",
      "description_width": ""
     }
    },
    "3419711f17954be09a4f1fbc7d297333": {
     "model_module": "@jupyter-widgets/controls",
     "model_name": "HBoxModel",
     "state": {
      "_dom_classes": [],
      "_model_module": "@jupyter-widgets/controls",
      "_model_module_version": "1.5.0",
      "_model_name": "HBoxModel",
      "_view_count": null,
      "_view_module": "@jupyter-widgets/controls",
      "_view_module_version": "1.5.0",
      "_view_name": "HBoxView",
      "box_style": "",
      "children": [
       "IPY_MODEL_5d6d8b0cdef8441fb9ab1d83982d4658",
       "IPY_MODEL_ce3f681530d14af19fe39dfc669e49e6"
      ],
      "layout": "IPY_MODEL_420bbedd7bc84874b058f3f5ea9d5923"
     }
    },
    "5d6d8b0cdef8441fb9ab1d83982d4658": {
     "model_module": "@jupyter-widgets/controls",
     "model_name": "FloatProgressModel",
     "state": {
      "_dom_classes": [],
      "_model_module": "@jupyter-widgets/controls",
      "_model_module_version": "1.5.0",
      "_model_name": "FloatProgressModel",
      "_view_count": null,
      "_view_module": "@jupyter-widgets/controls",
      "_view_module_version": "1.5.0",
      "_view_name": "ProgressView",
      "bar_style": "success",
      "description": "Downloading: 100%",
      "description_tooltip": null,
      "layout": "IPY_MODEL_8c101e1a7d974d2193c52af7a7e701ef",
      "max": 31,
      "min": 0,
      "orientation": "horizontal",
      "style": "IPY_MODEL_a056528d25174a58aa05ab55337a42ca",
      "value": 31
     }
    },
    "ce3f681530d14af19fe39dfc669e49e6": {
     "model_module": "@jupyter-widgets/controls",
     "model_name": "HTMLModel",
     "state": {
      "_dom_classes": [],
      "_model_module": "@jupyter-widgets/controls",
      "_model_module_version": "1.5.0",
      "_model_name": "HTMLModel",
      "_view_count": null,
      "_view_module": "@jupyter-widgets/controls",
      "_view_module_version": "1.5.0",
      "_view_name": "HTMLView",
      "description": "",
      "description_tooltip": null,
      "layout": "IPY_MODEL_3d170d301eeb40798ef7b6bfd4727296",
      "placeholder": "​",
      "style": "IPY_MODEL_9ce68e691aba401498b2a5575199b888",
      "value": " 31.0/31.0 [00:00&lt;00:00, 397B/s]"
     }
    },
    "420bbedd7bc84874b058f3f5ea9d5923": {
     "model_module": "@jupyter-widgets/base",
     "model_name": "LayoutModel",
     "state": {
      "_model_module": "@jupyter-widgets/base",
      "_model_module_version": "1.2.0",
      "_model_name": "LayoutModel",
      "_view_count": null,
      "_view_module": "@jupyter-widgets/base",
      "_view_module_version": "1.2.0",
      "_view_name": "LayoutView",
      "align_content": null,
      "align_items": null,
      "align_self": null,
      "border": null,
      "bottom": null,
      "display": null,
      "flex": null,
      "flex_flow": null,
      "grid_area": null,
      "grid_auto_columns": null,
      "grid_auto_flow": null,
      "grid_auto_rows": null,
      "grid_column": null,
      "grid_gap": null,
      "grid_row": null,
      "grid_template_areas": null,
      "grid_template_columns": null,
      "grid_template_rows": null,
      "height": null,
      "justify_content": null,
      "justify_items": null,
      "left": null,
      "margin": null,
      "max_height": null,
      "max_width": null,
      "min_height": null,
      "min_width": null,
      "object_fit": null,
      "object_position": null,
      "order": null,
      "overflow": null,
      "overflow_x": null,
      "overflow_y": null,
      "padding": null,
      "right": null,
      "top": null,
      "visibility": null,
      "width": null
     }
    },
    "8c101e1a7d974d2193c52af7a7e701ef": {
     "model_module": "@jupyter-widgets/base",
     "model_name": "LayoutModel",
     "state": {
      "_model_module": "@jupyter-widgets/base",
      "_model_module_version": "1.2.0",
      "_model_name": "LayoutModel",
      "_view_count": null,
      "_view_module": "@jupyter-widgets/base",
      "_view_module_version": "1.2.0",
      "_view_name": "LayoutView",
      "align_content": null,
      "align_items": null,
      "align_self": null,
      "border": null,
      "bottom": null,
      "display": null,
      "flex": null,
      "flex_flow": null,
      "grid_area": null,
      "grid_auto_columns": null,
      "grid_auto_flow": null,
      "grid_auto_rows": null,
      "grid_column": null,
      "grid_gap": null,
      "grid_row": null,
      "grid_template_areas": null,
      "grid_template_columns": null,
      "grid_template_rows": null,
      "height": null,
      "justify_content": null,
      "justify_items": null,
      "left": null,
      "margin": null,
      "max_height": null,
      "max_width": null,
      "min_height": null,
      "min_width": null,
      "object_fit": null,
      "object_position": null,
      "order": null,
      "overflow": null,
      "overflow_x": null,
      "overflow_y": null,
      "padding": null,
      "right": null,
      "top": null,
      "visibility": null,
      "width": null
     }
    },
    "a056528d25174a58aa05ab55337a42ca": {
     "model_module": "@jupyter-widgets/controls",
     "model_name": "ProgressStyleModel",
     "state": {
      "_model_module": "@jupyter-widgets/controls",
      "_model_module_version": "1.5.0",
      "_model_name": "ProgressStyleModel",
      "_view_count": null,
      "_view_module": "@jupyter-widgets/base",
      "_view_module_version": "1.2.0",
      "_view_name": "StyleView",
      "bar_color": null,
      "description_width": "initial"
     }
    },
    "3d170d301eeb40798ef7b6bfd4727296": {
     "model_module": "@jupyter-widgets/base",
     "model_name": "LayoutModel",
     "state": {
      "_model_module": "@jupyter-widgets/base",
      "_model_module_version": "1.2.0",
      "_model_name": "LayoutModel",
      "_view_count": null,
      "_view_module": "@jupyter-widgets/base",
      "_view_module_version": "1.2.0",
      "_view_name": "LayoutView",
      "align_content": null,
      "align_items": null,
      "align_self": null,
      "border": null,
      "bottom": null,
      "display": null,
      "flex": null,
      "flex_flow": null,
      "grid_area": null,
      "grid_auto_columns": null,
      "grid_auto_flow": null,
      "grid_auto_rows": null,
      "grid_column": null,
      "grid_gap": null,
      "grid_row": null,
      "grid_template_areas": null,
      "grid_template_columns": null,
      "grid_template_rows": null,
      "height": null,
      "justify_content": null,
      "justify_items": null,
      "left": null,
      "margin": null,
      "max_height": null,
      "max_width": null,
      "min_height": null,
      "min_width": null,
      "object_fit": null,
      "object_position": null,
      "order": null,
      "overflow": null,
      "overflow_x": null,
      "overflow_y": null,
      "padding": null,
      "right": null,
      "top": null,
      "visibility": null,
      "width": null
     }
    },
    "9ce68e691aba401498b2a5575199b888": {
     "model_module": "@jupyter-widgets/controls",
     "model_name": "DescriptionStyleModel",
     "state": {
      "_model_module": "@jupyter-widgets/controls",
      "_model_module_version": "1.5.0",
      "_model_name": "DescriptionStyleModel",
      "_view_count": null,
      "_view_module": "@jupyter-widgets/base",
      "_view_module_version": "1.2.0",
      "_view_name": "StyleView",
      "description_width": ""
     }
    },
    "b84492f89fd64e0499a155058c4bdcc7": {
     "model_module": "@jupyter-widgets/controls",
     "model_name": "HBoxModel",
     "state": {
      "_dom_classes": [],
      "_model_module": "@jupyter-widgets/controls",
      "_model_module_version": "1.5.0",
      "_model_name": "HBoxModel",
      "_view_count": null,
      "_view_module": "@jupyter-widgets/controls",
      "_view_module_version": "1.5.0",
      "_view_name": "HBoxView",
      "box_style": "",
      "children": [
       "IPY_MODEL_99a42f1365f44d3ab89bbc588d247267",
       "IPY_MODEL_2bdc2d5a59cb47ef9190690f917bbb43"
      ],
      "layout": "IPY_MODEL_e92d94c99538411f955b9525d4d48ab8"
     }
    },
    "99a42f1365f44d3ab89bbc588d247267": {
     "model_module": "@jupyter-widgets/controls",
     "model_name": "FloatProgressModel",
     "state": {
      "_dom_classes": [],
      "_model_module": "@jupyter-widgets/controls",
      "_model_module_version": "1.5.0",
      "_model_name": "FloatProgressModel",
      "_view_count": null,
      "_view_module": "@jupyter-widgets/controls",
      "_view_module_version": "1.5.0",
      "_view_name": "ProgressView",
      "bar_style": "success",
      "description": "Downloading: 100%",
      "description_tooltip": null,
      "layout": "IPY_MODEL_29ab6d7448984265a5d81d7ea909e77f",
      "max": 1786,
      "min": 0,
      "orientation": "horizontal",
      "style": "IPY_MODEL_8cd572a9776e4789ac92f98c119bd4e0",
      "value": 1786
     }
    },
    "2bdc2d5a59cb47ef9190690f917bbb43": {
     "model_module": "@jupyter-widgets/controls",
     "model_name": "HTMLModel",
     "state": {
      "_dom_classes": [],
      "_model_module": "@jupyter-widgets/controls",
      "_model_module_version": "1.5.0",
      "_model_name": "HTMLModel",
      "_view_count": null,
      "_view_module": "@jupyter-widgets/controls",
      "_view_module_version": "1.5.0",
      "_view_name": "HTMLView",
      "description": "",
      "description_tooltip": null,
      "layout": "IPY_MODEL_4085609005ed40998b8cc24e1411d617",
      "placeholder": "​",
      "style": "IPY_MODEL_73afa44e1cc747f8b5f85d9d0da2685b",
      "value": " 1.79k/1.79k [00:19&lt;00:00, 90.2B/s]"
     }
    },
    "e92d94c99538411f955b9525d4d48ab8": {
     "model_module": "@jupyter-widgets/base",
     "model_name": "LayoutModel",
     "state": {
      "_model_module": "@jupyter-widgets/base",
      "_model_module_version": "1.2.0",
      "_model_name": "LayoutModel",
      "_view_count": null,
      "_view_module": "@jupyter-widgets/base",
      "_view_module_version": "1.2.0",
      "_view_name": "LayoutView",
      "align_content": null,
      "align_items": null,
      "align_self": null,
      "border": null,
      "bottom": null,
      "display": null,
      "flex": null,
      "flex_flow": null,
      "grid_area": null,
      "grid_auto_columns": null,
      "grid_auto_flow": null,
      "grid_auto_rows": null,
      "grid_column": null,
      "grid_gap": null,
      "grid_row": null,
      "grid_template_areas": null,
      "grid_template_columns": null,
      "grid_template_rows": null,
      "height": null,
      "justify_content": null,
      "justify_items": null,
      "left": null,
      "margin": null,
      "max_height": null,
      "max_width": null,
      "min_height": null,
      "min_width": null,
      "object_fit": null,
      "object_position": null,
      "order": null,
      "overflow": null,
      "overflow_x": null,
      "overflow_y": null,
      "padding": null,
      "right": null,
      "top": null,
      "visibility": null,
      "width": null
     }
    },
    "29ab6d7448984265a5d81d7ea909e77f": {
     "model_module": "@jupyter-widgets/base",
     "model_name": "LayoutModel",
     "state": {
      "_model_module": "@jupyter-widgets/base",
      "_model_module_version": "1.2.0",
      "_model_name": "LayoutModel",
      "_view_count": null,
      "_view_module": "@jupyter-widgets/base",
      "_view_module_version": "1.2.0",
      "_view_name": "LayoutView",
      "align_content": null,
      "align_items": null,
      "align_self": null,
      "border": null,
      "bottom": null,
      "display": null,
      "flex": null,
      "flex_flow": null,
      "grid_area": null,
      "grid_auto_columns": null,
      "grid_auto_flow": null,
      "grid_auto_rows": null,
      "grid_column": null,
      "grid_gap": null,
      "grid_row": null,
      "grid_template_areas": null,
      "grid_template_columns": null,
      "grid_template_rows": null,
      "height": null,
      "justify_content": null,
      "justify_items": null,
      "left": null,
      "margin": null,
      "max_height": null,
      "max_width": null,
      "min_height": null,
      "min_width": null,
      "object_fit": null,
      "object_position": null,
      "order": null,
      "overflow": null,
      "overflow_x": null,
      "overflow_y": null,
      "padding": null,
      "right": null,
      "top": null,
      "visibility": null,
      "width": null
     }
    },
    "8cd572a9776e4789ac92f98c119bd4e0": {
     "model_module": "@jupyter-widgets/controls",
     "model_name": "ProgressStyleModel",
     "state": {
      "_model_module": "@jupyter-widgets/controls",
      "_model_module_version": "1.5.0",
      "_model_name": "ProgressStyleModel",
      "_view_count": null,
      "_view_module": "@jupyter-widgets/base",
      "_view_module_version": "1.2.0",
      "_view_name": "StyleView",
      "bar_color": null,
      "description_width": "initial"
     }
    },
    "4085609005ed40998b8cc24e1411d617": {
     "model_module": "@jupyter-widgets/base",
     "model_name": "LayoutModel",
     "state": {
      "_model_module": "@jupyter-widgets/base",
      "_model_module_version": "1.2.0",
      "_model_name": "LayoutModel",
      "_view_count": null,
      "_view_module": "@jupyter-widgets/base",
      "_view_module_version": "1.2.0",
      "_view_name": "LayoutView",
      "align_content": null,
      "align_items": null,
      "align_self": null,
      "border": null,
      "bottom": null,
      "display": null,
      "flex": null,
      "flex_flow": null,
      "grid_area": null,
      "grid_auto_columns": null,
      "grid_auto_flow": null,
      "grid_auto_rows": null,
      "grid_column": null,
      "grid_gap": null,
      "grid_row": null,
      "grid_template_areas": null,
      "grid_template_columns": null,
      "grid_template_rows": null,
      "height": null,
      "justify_content": null,
      "justify_items": null,
      "left": null,
      "margin": null,
      "max_height": null,
      "max_width": null,
      "min_height": null,
      "min_width": null,
      "object_fit": null,
      "object_position": null,
      "order": null,
      "overflow": null,
      "overflow_x": null,
      "overflow_y": null,
      "padding": null,
      "right": null,
      "top": null,
      "visibility": null,
      "width": null
     }
    },
    "73afa44e1cc747f8b5f85d9d0da2685b": {
     "model_module": "@jupyter-widgets/controls",
     "model_name": "DescriptionStyleModel",
     "state": {
      "_model_module": "@jupyter-widgets/controls",
      "_model_module_version": "1.5.0",
      "_model_name": "DescriptionStyleModel",
      "_view_count": null,
      "_view_module": "@jupyter-widgets/base",
      "_view_module_version": "1.2.0",
      "_view_name": "StyleView",
      "description_width": ""
     }
    },
    "3b37d751f3594bc4959d2ea215315408": {
     "model_module": "@jupyter-widgets/controls",
     "model_name": "HBoxModel",
     "state": {
      "_dom_classes": [],
      "_model_module": "@jupyter-widgets/controls",
      "_model_module_version": "1.5.0",
      "_model_name": "HBoxModel",
      "_view_count": null,
      "_view_module": "@jupyter-widgets/controls",
      "_view_module_version": "1.5.0",
      "_view_name": "HBoxView",
      "box_style": "",
      "children": [
       "IPY_MODEL_d3f622df22934ee0bb7460d1fbe1a500",
       "IPY_MODEL_7c54d657ba764fbc9d956a4314f69d1c"
      ],
      "layout": "IPY_MODEL_7d2239069225491fa791c8bad203315b"
     }
    },
    "d3f622df22934ee0bb7460d1fbe1a500": {
     "model_module": "@jupyter-widgets/controls",
     "model_name": "FloatProgressModel",
     "state": {
      "_dom_classes": [],
      "_model_module": "@jupyter-widgets/controls",
      "_model_module_version": "1.5.0",
      "_model_name": "FloatProgressModel",
      "_view_count": null,
      "_view_module": "@jupyter-widgets/controls",
      "_view_module_version": "1.5.0",
      "_view_name": "ProgressView",
      "bar_style": "success",
      "description": "Downloading: 100%",
      "description_tooltip": null,
      "layout": "IPY_MODEL_6c27c66b834a4ad989fcbcf1c1d555ef",
      "max": 124,
      "min": 0,
      "orientation": "horizontal",
      "style": "IPY_MODEL_2679433f7d464446b087881a154161d1",
      "value": 124
     }
    },
    "7c54d657ba764fbc9d956a4314f69d1c": {
     "model_module": "@jupyter-widgets/controls",
     "model_name": "HTMLModel",
     "state": {
      "_dom_classes": [],
      "_model_module": "@jupyter-widgets/controls",
      "_model_module_version": "1.5.0",
      "_model_name": "HTMLModel",
      "_view_count": null,
      "_view_module": "@jupyter-widgets/controls",
      "_view_module_version": "1.5.0",
      "_view_name": "HTMLView",
      "description": "",
      "description_tooltip": null,
      "layout": "IPY_MODEL_35031f5ca39a4decadbc6941f8278f60",
      "placeholder": "​",
      "style": "IPY_MODEL_86b80590c2dd40089d0c2e8144a761ca",
      "value": " 124/124 [00:00&lt;00:00, 457B/s]"
     }
    },
    "7d2239069225491fa791c8bad203315b": {
     "model_module": "@jupyter-widgets/base",
     "model_name": "LayoutModel",
     "state": {
      "_model_module": "@jupyter-widgets/base",
      "_model_module_version": "1.2.0",
      "_model_name": "LayoutModel",
      "_view_count": null,
      "_view_module": "@jupyter-widgets/base",
      "_view_module_version": "1.2.0",
      "_view_name": "LayoutView",
      "align_content": null,
      "align_items": null,
      "align_self": null,
      "border": null,
      "bottom": null,
      "display": null,
      "flex": null,
      "flex_flow": null,
      "grid_area": null,
      "grid_auto_columns": null,
      "grid_auto_flow": null,
      "grid_auto_rows": null,
      "grid_column": null,
      "grid_gap": null,
      "grid_row": null,
      "grid_template_areas": null,
      "grid_template_columns": null,
      "grid_template_rows": null,
      "height": null,
      "justify_content": null,
      "justify_items": null,
      "left": null,
      "margin": null,
      "max_height": null,
      "max_width": null,
      "min_height": null,
      "min_width": null,
      "object_fit": null,
      "object_position": null,
      "order": null,
      "overflow": null,
      "overflow_x": null,
      "overflow_y": null,
      "padding": null,
      "right": null,
      "top": null,
      "visibility": null,
      "width": null
     }
    },
    "6c27c66b834a4ad989fcbcf1c1d555ef": {
     "model_module": "@jupyter-widgets/base",
     "model_name": "LayoutModel",
     "state": {
      "_model_module": "@jupyter-widgets/base",
      "_model_module_version": "1.2.0",
      "_model_name": "LayoutModel",
      "_view_count": null,
      "_view_module": "@jupyter-widgets/base",
      "_view_module_version": "1.2.0",
      "_view_name": "LayoutView",
      "align_content": null,
      "align_items": null,
      "align_self": null,
      "border": null,
      "bottom": null,
      "display": null,
      "flex": null,
      "flex_flow": null,
      "grid_area": null,
      "grid_auto_columns": null,
      "grid_auto_flow": null,
      "grid_auto_rows": null,
      "grid_column": null,
      "grid_gap": null,
      "grid_row": null,
      "grid_template_areas": null,
      "grid_template_columns": null,
      "grid_template_rows": null,
      "height": null,
      "justify_content": null,
      "justify_items": null,
      "left": null,
      "margin": null,
      "max_height": null,
      "max_width": null,
      "min_height": null,
      "min_width": null,
      "object_fit": null,
      "object_position": null,
      "order": null,
      "overflow": null,
      "overflow_x": null,
      "overflow_y": null,
      "padding": null,
      "right": null,
      "top": null,
      "visibility": null,
      "width": null
     }
    },
    "2679433f7d464446b087881a154161d1": {
     "model_module": "@jupyter-widgets/controls",
     "model_name": "ProgressStyleModel",
     "state": {
      "_model_module": "@jupyter-widgets/controls",
      "_model_module_version": "1.5.0",
      "_model_name": "ProgressStyleModel",
      "_view_count": null,
      "_view_module": "@jupyter-widgets/base",
      "_view_module_version": "1.2.0",
      "_view_name": "StyleView",
      "bar_color": null,
      "description_width": "initial"
     }
    },
    "35031f5ca39a4decadbc6941f8278f60": {
     "model_module": "@jupyter-widgets/base",
     "model_name": "LayoutModel",
     "state": {
      "_model_module": "@jupyter-widgets/base",
      "_model_module_version": "1.2.0",
      "_model_name": "LayoutModel",
      "_view_count": null,
      "_view_module": "@jupyter-widgets/base",
      "_view_module_version": "1.2.0",
      "_view_name": "LayoutView",
      "align_content": null,
      "align_items": null,
      "align_self": null,
      "border": null,
      "bottom": null,
      "display": null,
      "flex": null,
      "flex_flow": null,
      "grid_area": null,
      "grid_auto_columns": null,
      "grid_auto_flow": null,
      "grid_auto_rows": null,
      "grid_column": null,
      "grid_gap": null,
      "grid_row": null,
      "grid_template_areas": null,
      "grid_template_columns": null,
      "grid_template_rows": null,
      "height": null,
      "justify_content": null,
      "justify_items": null,
      "left": null,
      "margin": null,
      "max_height": null,
      "max_width": null,
      "min_height": null,
      "min_width": null,
      "object_fit": null,
      "object_position": null,
      "order": null,
      "overflow": null,
      "overflow_x": null,
      "overflow_y": null,
      "padding": null,
      "right": null,
      "top": null,
      "visibility": null,
      "width": null
     }
    },
    "86b80590c2dd40089d0c2e8144a761ca": {
     "model_module": "@jupyter-widgets/controls",
     "model_name": "DescriptionStyleModel",
     "state": {
      "_model_module": "@jupyter-widgets/controls",
      "_model_module_version": "1.5.0",
      "_model_name": "DescriptionStyleModel",
      "_view_count": null,
      "_view_module": "@jupyter-widgets/base",
      "_view_module_version": "1.2.0",
      "_view_name": "StyleView",
      "description_width": ""
     }
    },
    "25cdd7fb13994cbe91784deba13a9273": {
     "model_module": "@jupyter-widgets/controls",
     "model_name": "HBoxModel",
     "state": {
      "_dom_classes": [],
      "_model_module": "@jupyter-widgets/controls",
      "_model_module_version": "1.5.0",
      "_model_name": "HBoxModel",
      "_view_count": null,
      "_view_module": "@jupyter-widgets/controls",
      "_view_module_version": "1.5.0",
      "_view_name": "HBoxView",
      "box_style": "",
      "children": [
       "IPY_MODEL_8acc3215b5b84cd187f1c26310a2a93a",
       "IPY_MODEL_819f8d76e1f549359aef76c918f8dbe2"
      ],
      "layout": "IPY_MODEL_73e6495177fe4977aa89498b243be25f"
     }
    },
    "8acc3215b5b84cd187f1c26310a2a93a": {
     "model_module": "@jupyter-widgets/controls",
     "model_name": "FloatProgressModel",
     "state": {
      "_dom_classes": [],
      "_model_module": "@jupyter-widgets/controls",
      "_model_module_version": "1.5.0",
      "_model_name": "FloatProgressModel",
      "_view_count": null,
      "_view_module": "@jupyter-widgets/controls",
      "_view_module_version": "1.5.0",
      "_view_name": "ProgressView",
      "bar_style": "success",
      "description": "Downloading: 100%",
      "description_tooltip": null,
      "layout": "IPY_MODEL_b21f19bc91b344c098e5d422eaa515f8",
      "max": 242013376,
      "min": 0,
      "orientation": "horizontal",
      "style": "IPY_MODEL_25d5819b255146ea9cf272c006c48309",
      "value": 242013376
     }
    },
    "819f8d76e1f549359aef76c918f8dbe2": {
     "model_module": "@jupyter-widgets/controls",
     "model_name": "HTMLModel",
     "state": {
      "_dom_classes": [],
      "_model_module": "@jupyter-widgets/controls",
      "_model_module_version": "1.5.0",
      "_model_name": "HTMLModel",
      "_view_count": null,
      "_view_module": "@jupyter-widgets/controls",
      "_view_module_version": "1.5.0",
      "_view_name": "HTMLView",
      "description": "",
      "description_tooltip": null,
      "layout": "IPY_MODEL_4e5a797106974a4c80e403af18f03dd0",
      "placeholder": "​",
      "style": "IPY_MODEL_cd7f5151d7bd41f8a58e6f307e4d5890",
      "value": " 242M/242M [00:19&lt;00:00, 12.4MB/s]"
     }
    },
    "73e6495177fe4977aa89498b243be25f": {
     "model_module": "@jupyter-widgets/base",
     "model_name": "LayoutModel",
     "state": {
      "_model_module": "@jupyter-widgets/base",
      "_model_module_version": "1.2.0",
      "_model_name": "LayoutModel",
      "_view_count": null,
      "_view_module": "@jupyter-widgets/base",
      "_view_module_version": "1.2.0",
      "_view_name": "LayoutView",
      "align_content": null,
      "align_items": null,
      "align_self": null,
      "border": null,
      "bottom": null,
      "display": null,
      "flex": null,
      "flex_flow": null,
      "grid_area": null,
      "grid_auto_columns": null,
      "grid_auto_flow": null,
      "grid_auto_rows": null,
      "grid_column": null,
      "grid_gap": null,
      "grid_row": null,
      "grid_template_areas": null,
      "grid_template_columns": null,
      "grid_template_rows": null,
      "height": null,
      "justify_content": null,
      "justify_items": null,
      "left": null,
      "margin": null,
      "max_height": null,
      "max_width": null,
      "min_height": null,
      "min_width": null,
      "object_fit": null,
      "object_position": null,
      "order": null,
      "overflow": null,
      "overflow_x": null,
      "overflow_y": null,
      "padding": null,
      "right": null,
      "top": null,
      "visibility": null,
      "width": null
     }
    },
    "b21f19bc91b344c098e5d422eaa515f8": {
     "model_module": "@jupyter-widgets/base",
     "model_name": "LayoutModel",
     "state": {
      "_model_module": "@jupyter-widgets/base",
      "_model_module_version": "1.2.0",
      "_model_name": "LayoutModel",
      "_view_count": null,
      "_view_module": "@jupyter-widgets/base",
      "_view_module_version": "1.2.0",
      "_view_name": "LayoutView",
      "align_content": null,
      "align_items": null,
      "align_self": null,
      "border": null,
      "bottom": null,
      "display": null,
      "flex": null,
      "flex_flow": null,
      "grid_area": null,
      "grid_auto_columns": null,
      "grid_auto_flow": null,
      "grid_auto_rows": null,
      "grid_column": null,
      "grid_gap": null,
      "grid_row": null,
      "grid_template_areas": null,
      "grid_template_columns": null,
      "grid_template_rows": null,
      "height": null,
      "justify_content": null,
      "justify_items": null,
      "left": null,
      "margin": null,
      "max_height": null,
      "max_width": null,
      "min_height": null,
      "min_width": null,
      "object_fit": null,
      "object_position": null,
      "order": null,
      "overflow": null,
      "overflow_x": null,
      "overflow_y": null,
      "padding": null,
      "right": null,
      "top": null,
      "visibility": null,
      "width": null
     }
    },
    "25d5819b255146ea9cf272c006c48309": {
     "model_module": "@jupyter-widgets/controls",
     "model_name": "ProgressStyleModel",
     "state": {
      "_model_module": "@jupyter-widgets/controls",
      "_model_module_version": "1.5.0",
      "_model_name": "ProgressStyleModel",
      "_view_count": null,
      "_view_module": "@jupyter-widgets/base",
      "_view_module_version": "1.2.0",
      "_view_name": "StyleView",
      "bar_color": null,
      "description_width": "initial"
     }
    },
    "4e5a797106974a4c80e403af18f03dd0": {
     "model_module": "@jupyter-widgets/base",
     "model_name": "LayoutModel",
     "state": {
      "_model_module": "@jupyter-widgets/base",
      "_model_module_version": "1.2.0",
      "_model_name": "LayoutModel",
      "_view_count": null,
      "_view_module": "@jupyter-widgets/base",
      "_view_module_version": "1.2.0",
      "_view_name": "LayoutView",
      "align_content": null,
      "align_items": null,
      "align_self": null,
      "border": null,
      "bottom": null,
      "display": null,
      "flex": null,
      "flex_flow": null,
      "grid_area": null,
      "grid_auto_columns": null,
      "grid_auto_flow": null,
      "grid_auto_rows": null,
      "grid_column": null,
      "grid_gap": null,
      "grid_row": null,
      "grid_template_areas": null,
      "grid_template_columns": null,
      "grid_template_rows": null,
      "height": null,
      "justify_content": null,
      "justify_items": null,
      "left": null,
      "margin": null,
      "max_height": null,
      "max_width": null,
      "min_height": null,
      "min_width": null,
      "object_fit": null,
      "object_position": null,
      "order": null,
      "overflow": null,
      "overflow_x": null,
      "overflow_y": null,
      "padding": null,
      "right": null,
      "top": null,
      "visibility": null,
      "width": null
     }
    },
    "cd7f5151d7bd41f8a58e6f307e4d5890": {
     "model_module": "@jupyter-widgets/controls",
     "model_name": "DescriptionStyleModel",
     "state": {
      "_model_module": "@jupyter-widgets/controls",
      "_model_module_version": "1.5.0",
      "_model_name": "DescriptionStyleModel",
      "_view_count": null,
      "_view_module": "@jupyter-widgets/base",
      "_view_module_version": "1.2.0",
      "_view_name": "StyleView",
      "description_width": ""
     }
    },
    "4bc6bd322683417f922c2ed128b4e0d9": {
     "model_module": "@jupyter-widgets/controls",
     "model_name": "HBoxModel",
     "state": {
      "_view_name": "HBoxView",
      "_dom_classes": [],
      "_model_name": "HBoxModel",
      "_view_module": "@jupyter-widgets/controls",
      "_model_module_version": "1.5.0",
      "_view_count": null,
      "_view_module_version": "1.5.0",
      "box_style": "",
      "layout": "IPY_MODEL_2a4aa82a4a4f45258140b6bcb54fcc3b",
      "_model_module": "@jupyter-widgets/controls",
      "children": [
       "IPY_MODEL_efc6dc22aadf4ca4a6f7599d50da772c",
       "IPY_MODEL_3d73e7daf0bd4302ac0a8a51511da06b"
      ]
     }
    },
    "2a4aa82a4a4f45258140b6bcb54fcc3b": {
     "model_module": "@jupyter-widgets/base",
     "model_name": "LayoutModel",
     "state": {
      "_view_name": "LayoutView",
      "grid_template_rows": null,
      "right": null,
      "justify_content": null,
      "_view_module": "@jupyter-widgets/base",
      "overflow": null,
      "_model_module_version": "1.2.0",
      "_view_count": null,
      "flex_flow": null,
      "width": null,
      "min_width": null,
      "border": null,
      "align_items": null,
      "bottom": null,
      "_model_module": "@jupyter-widgets/base",
      "top": null,
      "grid_column": null,
      "overflow_y": null,
      "overflow_x": null,
      "grid_auto_flow": null,
      "grid_area": null,
      "grid_template_columns": null,
      "flex": null,
      "_model_name": "LayoutModel",
      "justify_items": null,
      "grid_row": null,
      "max_height": null,
      "align_content": null,
      "visibility": null,
      "align_self": null,
      "height": null,
      "min_height": null,
      "padding": null,
      "grid_auto_rows": null,
      "grid_gap": null,
      "max_width": null,
      "order": null,
      "_view_module_version": "1.2.0",
      "grid_template_areas": null,
      "object_position": null,
      "object_fit": null,
      "grid_auto_columns": null,
      "margin": null,
      "display": null,
      "left": null
     }
    },
    "efc6dc22aadf4ca4a6f7599d50da772c": {
     "model_module": "@jupyter-widgets/controls",
     "model_name": "FloatProgressModel",
     "state": {
      "_view_name": "ProgressView",
      "style": "IPY_MODEL_0f08d7131c344844a8376cc7066cf85b",
      "_dom_classes": [],
      "description": "100%",
      "_model_name": "FloatProgressModel",
      "bar_style": "success",
      "max": 8886,
      "_view_module": "@jupyter-widgets/controls",
      "_model_module_version": "1.5.0",
      "value": 8886,
      "_view_count": null,
      "_view_module_version": "1.5.0",
      "orientation": "horizontal",
      "min": 0,
      "description_tooltip": null,
      "_model_module": "@jupyter-widgets/controls",
      "layout": "IPY_MODEL_0aa818beb4bf4770b2f2e85c27eef4f1"
     }
    },
    "3d73e7daf0bd4302ac0a8a51511da06b": {
     "model_module": "@jupyter-widgets/controls",
     "model_name": "HTMLModel",
     "state": {
      "_view_name": "HTMLView",
      "style": "IPY_MODEL_6081bc00c6aa4169b24fa19568aecfa2",
      "_dom_classes": [],
      "description": "",
      "_model_name": "HTMLModel",
      "placeholder": "​",
      "_view_module": "@jupyter-widgets/controls",
      "_model_module_version": "1.5.0",
      "value": " 8886/8886 [1:54:12&lt;00:00,  1.30it/s]",
      "_view_count": null,
      "_view_module_version": "1.5.0",
      "description_tooltip": null,
      "_model_module": "@jupyter-widgets/controls",
      "layout": "IPY_MODEL_dd37881c5cf244e2a250a397e66a66d7"
     }
    },
    "0f08d7131c344844a8376cc7066cf85b": {
     "model_module": "@jupyter-widgets/controls",
     "model_name": "ProgressStyleModel",
     "state": {
      "_view_name": "StyleView",
      "_model_name": "ProgressStyleModel",
      "description_width": "initial",
      "_view_module": "@jupyter-widgets/base",
      "_model_module_version": "1.5.0",
      "_view_count": null,
      "_view_module_version": "1.2.0",
      "bar_color": null,
      "_model_module": "@jupyter-widgets/controls"
     }
    },
    "0aa818beb4bf4770b2f2e85c27eef4f1": {
     "model_module": "@jupyter-widgets/base",
     "model_name": "LayoutModel",
     "state": {
      "_view_name": "LayoutView",
      "grid_template_rows": null,
      "right": null,
      "justify_content": null,
      "_view_module": "@jupyter-widgets/base",
      "overflow": null,
      "_model_module_version": "1.2.0",
      "_view_count": null,
      "flex_flow": null,
      "width": null,
      "min_width": null,
      "border": null,
      "align_items": null,
      "bottom": null,
      "_model_module": "@jupyter-widgets/base",
      "top": null,
      "grid_column": null,
      "overflow_y": null,
      "overflow_x": null,
      "grid_auto_flow": null,
      "grid_area": null,
      "grid_template_columns": null,
      "flex": null,
      "_model_name": "LayoutModel",
      "justify_items": null,
      "grid_row": null,
      "max_height": null,
      "align_content": null,
      "visibility": null,
      "align_self": null,
      "height": null,
      "min_height": null,
      "padding": null,
      "grid_auto_rows": null,
      "grid_gap": null,
      "max_width": null,
      "order": null,
      "_view_module_version": "1.2.0",
      "grid_template_areas": null,
      "object_position": null,
      "object_fit": null,
      "grid_auto_columns": null,
      "margin": null,
      "display": null,
      "left": null
     }
    },
    "6081bc00c6aa4169b24fa19568aecfa2": {
     "model_module": "@jupyter-widgets/controls",
     "model_name": "DescriptionStyleModel",
     "state": {
      "_view_name": "StyleView",
      "_model_name": "DescriptionStyleModel",
      "description_width": "",
      "_view_module": "@jupyter-widgets/base",
      "_model_module_version": "1.5.0",
      "_view_count": null,
      "_view_module_version": "1.2.0",
      "_model_module": "@jupyter-widgets/controls"
     }
    },
    "dd37881c5cf244e2a250a397e66a66d7": {
     "model_module": "@jupyter-widgets/base",
     "model_name": "LayoutModel",
     "state": {
      "_view_name": "LayoutView",
      "grid_template_rows": null,
      "right": null,
      "justify_content": null,
      "_view_module": "@jupyter-widgets/base",
      "overflow": null,
      "_model_module_version": "1.2.0",
      "_view_count": null,
      "flex_flow": null,
      "width": null,
      "min_width": null,
      "border": null,
      "align_items": null,
      "bottom": null,
      "_model_module": "@jupyter-widgets/base",
      "top": null,
      "grid_column": null,
      "overflow_y": null,
      "overflow_x": null,
      "grid_auto_flow": null,
      "grid_area": null,
      "grid_template_columns": null,
      "flex": null,
      "_model_name": "LayoutModel",
      "justify_items": null,
      "grid_row": null,
      "max_height": null,
      "align_content": null,
      "visibility": null,
      "align_self": null,
      "height": null,
      "min_height": null,
      "padding": null,
      "grid_auto_rows": null,
      "grid_gap": null,
      "max_width": null,
      "order": null,
      "_view_module_version": "1.2.0",
      "grid_template_areas": null,
      "object_position": null,
      "object_fit": null,
      "grid_auto_columns": null,
      "margin": null,
      "display": null,
      "left": null
     }
    }
   }
  }
 },
 "cells": [
  {
   "cell_type": "markdown",
   "metadata": {
    "id": "yTPJTsM67e-z"
   },
   "source": [
    "# Installation\n",
    "<!-- # https://github.com/egerber/spacy-entity-linker -->"
   ]
  },
  {
   "cell_type": "code",
   "metadata": {
    "colab": {
     "base_uri": "https://localhost:8080/"
    },
    "id": "YyI_jYPz8oyG",
    "outputId": "7228e28a-f639-42bb-b88a-2f8098ca8fe2"
   },
   "source": [
    "from google.colab import drive\n",
    "drive.mount('/content/drive', force_remount=True)"
   ],
   "execution_count": null,
   "outputs": [
    {
     "output_type": "stream",
     "text": [
      "Mounted at /content/drive\n"
     ],
     "name": "stdout"
    }
   ]
  },
  {
   "cell_type": "code",
   "metadata": {
    "colab": {
     "base_uri": "https://localhost:8080/"
    },
    "id": "pg2AYEHiHJ19",
    "outputId": "2119b45f-6c9e-4861-c6d0-e8e9aee092c1"
   },
   "source": [
    "!mkdir sari\n",
    "!mv SARI.py sari/SARI.py\n",
    "!python setup.py develop\n",
    "!pip install rouge-score\n",
    "\n",
    "from sari.SARI import SARIsent"
   ],
   "execution_count": null,
   "outputs": [
    {
     "output_type": "stream",
     "text": [
      "running develop\n",
      "running egg_info\n",
      "creating sari.egg-info\n",
      "writing sari.egg-info/PKG-INFO\n",
      "writing dependency_links to sari.egg-info/dependency_links.txt\n",
      "writing top-level names to sari.egg-info/top_level.txt\n",
      "writing manifest file 'sari.egg-info/SOURCES.txt'\n",
      "package init file 'sari/__init__.py' not found (or not a regular file)\n",
      "reading manifest file 'sari.egg-info/SOURCES.txt'\n",
      "writing manifest file 'sari.egg-info/SOURCES.txt'\n",
      "running build_ext\n",
      "Creating /usr/local/lib/python3.6/dist-packages/sari.egg-link (link to .)\n",
      "Adding sari 0.0.0 to easy-install.pth file\n",
      "\n",
      "Installed /content\n",
      "Processing dependencies for sari==0.0.0\n",
      "Finished processing dependencies for sari==0.0.0\n",
      "Collecting rouge-score\n",
      "  Downloading https://files.pythonhosted.org/packages/1f/56/a81022436c08b9405a5247b71635394d44fe7e1dbedc4b28c740e09c2840/rouge_score-0.0.4-py2.py3-none-any.whl\n",
      "Requirement already satisfied: absl-py in /usr/local/lib/python3.6/dist-packages (from rouge-score) (0.10.0)\n",
      "Requirement already satisfied: nltk in /usr/local/lib/python3.6/dist-packages (from rouge-score) (3.2.5)\n",
      "Requirement already satisfied: numpy in /usr/local/lib/python3.6/dist-packages (from rouge-score) (1.19.5)\n",
      "Requirement already satisfied: six>=1.14.0 in /usr/local/lib/python3.6/dist-packages (from rouge-score) (1.15.0)\n",
      "Installing collected packages: rouge-score\n",
      "Successfully installed rouge-score-0.0.4\n"
     ],
     "name": "stdout"
    }
   ]
  },
  {
   "cell_type": "code",
   "metadata": {
    "colab": {
     "base_uri": "https://localhost:8080/"
    },
    "id": "EI8rIwKHdn2T",
    "outputId": "caffa17a-521a-4789-d859-be788ab82e1d"
   },
   "source": [
    "!pip install -U transformers\n",
    "!pip install git+https://github.com/huggingface/transformers\n",
    "# ==3.0.0\n",
    "!python -m nltk.downloader punkt\n",
    "# !git clone https://github.com/patil-suraj/question_generation.git\n",
    "!pip install wandb"
   ],
   "execution_count": null,
   "outputs": [
    {
     "output_type": "stream",
     "text": [
      "Collecting transformers\n",
      "\u001B[?25l  Downloading https://files.pythonhosted.org/packages/98/87/ef312eef26f5cecd8b17ae9654cdd8d1fae1eb6dbd87257d6d73c128a4d0/transformers-4.3.2-py3-none-any.whl (1.8MB)\n",
      "\u001B[K     |████████████████████████████████| 1.8MB 5.9MB/s \n",
      "\u001B[?25hRequirement already satisfied, skipping upgrade: tqdm>=4.27 in /usr/local/lib/python3.6/dist-packages (from transformers) (4.41.1)\n",
      "Requirement already satisfied, skipping upgrade: numpy>=1.17 in /usr/local/lib/python3.6/dist-packages (from transformers) (1.19.5)\n",
      "Collecting sacremoses\n",
      "\u001B[?25l  Downloading https://files.pythonhosted.org/packages/7d/34/09d19aff26edcc8eb2a01bed8e98f13a1537005d31e95233fd48216eed10/sacremoses-0.0.43.tar.gz (883kB)\n",
      "\u001B[K     |████████████████████████████████| 890kB 40.9MB/s \n",
      "\u001B[?25hRequirement already satisfied, skipping upgrade: importlib-metadata; python_version < \"3.8\" in /usr/local/lib/python3.6/dist-packages (from transformers) (3.4.0)\n",
      "Requirement already satisfied, skipping upgrade: dataclasses; python_version < \"3.7\" in /usr/local/lib/python3.6/dist-packages (from transformers) (0.8)\n",
      "Requirement already satisfied, skipping upgrade: packaging in /usr/local/lib/python3.6/dist-packages (from transformers) (20.9)\n",
      "Collecting tokenizers<0.11,>=0.10.1\n",
      "\u001B[?25l  Downloading https://files.pythonhosted.org/packages/fd/5b/44baae602e0a30bcc53fbdbc60bd940c15e143d252d658dfdefce736ece5/tokenizers-0.10.1-cp36-cp36m-manylinux2010_x86_64.whl (3.2MB)\n",
      "\u001B[K     |████████████████████████████████| 3.2MB 39.8MB/s \n",
      "\u001B[?25hRequirement already satisfied, skipping upgrade: requests in /usr/local/lib/python3.6/dist-packages (from transformers) (2.23.0)\n",
      "Requirement already satisfied, skipping upgrade: regex!=2019.12.17 in /usr/local/lib/python3.6/dist-packages (from transformers) (2019.12.20)\n",
      "Requirement already satisfied, skipping upgrade: filelock in /usr/local/lib/python3.6/dist-packages (from transformers) (3.0.12)\n",
      "Requirement already satisfied, skipping upgrade: six in /usr/local/lib/python3.6/dist-packages (from sacremoses->transformers) (1.15.0)\n",
      "Requirement already satisfied, skipping upgrade: click in /usr/local/lib/python3.6/dist-packages (from sacremoses->transformers) (7.1.2)\n",
      "Requirement already satisfied, skipping upgrade: joblib in /usr/local/lib/python3.6/dist-packages (from sacremoses->transformers) (1.0.0)\n",
      "Requirement already satisfied, skipping upgrade: zipp>=0.5 in /usr/local/lib/python3.6/dist-packages (from importlib-metadata; python_version < \"3.8\"->transformers) (3.4.0)\n",
      "Requirement already satisfied, skipping upgrade: typing-extensions>=3.6.4; python_version < \"3.8\" in /usr/local/lib/python3.6/dist-packages (from importlib-metadata; python_version < \"3.8\"->transformers) (3.7.4.3)\n",
      "Requirement already satisfied, skipping upgrade: pyparsing>=2.0.2 in /usr/local/lib/python3.6/dist-packages (from packaging->transformers) (2.4.7)\n",
      "Requirement already satisfied, skipping upgrade: idna<3,>=2.5 in /usr/local/lib/python3.6/dist-packages (from requests->transformers) (2.10)\n",
      "Requirement already satisfied, skipping upgrade: chardet<4,>=3.0.2 in /usr/local/lib/python3.6/dist-packages (from requests->transformers) (3.0.4)\n",
      "Requirement already satisfied, skipping upgrade: urllib3!=1.25.0,!=1.25.1,<1.26,>=1.21.1 in /usr/local/lib/python3.6/dist-packages (from requests->transformers) (1.24.3)\n",
      "Requirement already satisfied, skipping upgrade: certifi>=2017.4.17 in /usr/local/lib/python3.6/dist-packages (from requests->transformers) (2020.12.5)\n",
      "Building wheels for collected packages: sacremoses\n",
      "  Building wheel for sacremoses (setup.py) ... \u001B[?25l\u001B[?25hdone\n",
      "  Created wheel for sacremoses: filename=sacremoses-0.0.43-cp36-none-any.whl size=893261 sha256=b1969071f3a88c1c55ef0b2c0874bf05d248396726e8c7879481495f421e7296\n",
      "  Stored in directory: /root/.cache/pip/wheels/29/3c/fd/7ce5c3f0666dab31a50123635e6fb5e19ceb42ce38d4e58f45\n",
      "Successfully built sacremoses\n",
      "Installing collected packages: sacremoses, tokenizers, transformers\n",
      "Successfully installed sacremoses-0.0.43 tokenizers-0.10.1 transformers-4.3.2\n",
      "Collecting git+https://github.com/huggingface/transformers\n",
      "  Cloning https://github.com/huggingface/transformers to /tmp/pip-req-build-vrkdq8e7\n",
      "  Running command git clone -q https://github.com/huggingface/transformers /tmp/pip-req-build-vrkdq8e7\n",
      "  Installing build dependencies ... \u001B[?25l\u001B[?25hdone\n",
      "  Getting requirements to build wheel ... \u001B[?25l\u001B[?25hdone\n",
      "    Preparing wheel metadata ... \u001B[?25l\u001B[?25hdone\n",
      "Requirement already satisfied: dataclasses; python_version < \"3.7\" in /usr/local/lib/python3.6/dist-packages (from transformers==4.4.0.dev0) (0.8)\n",
      "Requirement already satisfied: regex!=2019.12.17 in /usr/local/lib/python3.6/dist-packages (from transformers==4.4.0.dev0) (2019.12.20)\n",
      "Requirement already satisfied: sacremoses in /usr/local/lib/python3.6/dist-packages (from transformers==4.4.0.dev0) (0.0.43)\n",
      "Requirement already satisfied: tqdm>=4.27 in /usr/local/lib/python3.6/dist-packages (from transformers==4.4.0.dev0) (4.41.1)\n",
      "Requirement already satisfied: tokenizers<0.11,>=0.10.1 in /usr/local/lib/python3.6/dist-packages (from transformers==4.4.0.dev0) (0.10.1)\n",
      "Requirement already satisfied: importlib-metadata; python_version < \"3.8\" in /usr/local/lib/python3.6/dist-packages (from transformers==4.4.0.dev0) (3.4.0)\n",
      "Requirement already satisfied: packaging in /usr/local/lib/python3.6/dist-packages (from transformers==4.4.0.dev0) (20.9)\n",
      "Requirement already satisfied: requests in /usr/local/lib/python3.6/dist-packages (from transformers==4.4.0.dev0) (2.23.0)\n",
      "Requirement already satisfied: numpy>=1.17 in /usr/local/lib/python3.6/dist-packages (from transformers==4.4.0.dev0) (1.19.5)\n",
      "Requirement already satisfied: filelock in /usr/local/lib/python3.6/dist-packages (from transformers==4.4.0.dev0) (3.0.12)\n",
      "Requirement already satisfied: six in /usr/local/lib/python3.6/dist-packages (from sacremoses->transformers==4.4.0.dev0) (1.15.0)\n",
      "Requirement already satisfied: click in /usr/local/lib/python3.6/dist-packages (from sacremoses->transformers==4.4.0.dev0) (7.1.2)\n",
      "Requirement already satisfied: joblib in /usr/local/lib/python3.6/dist-packages (from sacremoses->transformers==4.4.0.dev0) (1.0.0)\n",
      "Requirement already satisfied: typing-extensions>=3.6.4; python_version < \"3.8\" in /usr/local/lib/python3.6/dist-packages (from importlib-metadata; python_version < \"3.8\"->transformers==4.4.0.dev0) (3.7.4.3)\n",
      "Requirement already satisfied: zipp>=0.5 in /usr/local/lib/python3.6/dist-packages (from importlib-metadata; python_version < \"3.8\"->transformers==4.4.0.dev0) (3.4.0)\n",
      "Requirement already satisfied: pyparsing>=2.0.2 in /usr/local/lib/python3.6/dist-packages (from packaging->transformers==4.4.0.dev0) (2.4.7)\n",
      "Requirement already satisfied: idna<3,>=2.5 in /usr/local/lib/python3.6/dist-packages (from requests->transformers==4.4.0.dev0) (2.10)\n",
      "Requirement already satisfied: urllib3!=1.25.0,!=1.25.1,<1.26,>=1.21.1 in /usr/local/lib/python3.6/dist-packages (from requests->transformers==4.4.0.dev0) (1.24.3)\n",
      "Requirement already satisfied: certifi>=2017.4.17 in /usr/local/lib/python3.6/dist-packages (from requests->transformers==4.4.0.dev0) (2020.12.5)\n",
      "Requirement already satisfied: chardet<4,>=3.0.2 in /usr/local/lib/python3.6/dist-packages (from requests->transformers==4.4.0.dev0) (3.0.4)\n",
      "Building wheels for collected packages: transformers\n",
      "  Building wheel for transformers (PEP 517) ... \u001B[?25l\u001B[?25hdone\n",
      "  Created wheel for transformers: filename=transformers-4.4.0.dev0-cp36-none-any.whl size=1824860 sha256=8972ee1aef5bd6e0d9eaa4ba366ac25b0a9921961ff01aaee0c10e0337ae7b8c\n",
      "  Stored in directory: /tmp/pip-ephem-wheel-cache-9ze3fdu2/wheels/70/d3/52/b3fa4f8b8ef04167ac62e5bb2accb62ae764db2a378247490e\n",
      "Successfully built transformers\n",
      "Installing collected packages: transformers\n",
      "  Found existing installation: transformers 4.3.2\n",
      "    Uninstalling transformers-4.3.2:\n",
      "      Successfully uninstalled transformers-4.3.2\n",
      "Successfully installed transformers-4.4.0.dev0\n",
      "/usr/lib/python3.6/runpy.py:125: RuntimeWarning: 'nltk.downloader' found in sys.modules after import of package 'nltk', but prior to execution of 'nltk.downloader'; this may result in unpredictable behaviour\n",
      "  warn(RuntimeWarning(msg))\n",
      "[nltk_data] Downloading package punkt to /root/nltk_data...\n",
      "[nltk_data]   Unzipping tokenizers/punkt.zip.\n",
      "Collecting wandb\n",
      "\u001B[?25l  Downloading https://files.pythonhosted.org/packages/68/48/4b59e775d7fd3917201de7975892241a5145ce482bc739bf22e83735e5c4/wandb-0.10.19-py2.py3-none-any.whl (2.0MB)\n",
      "\u001B[K     |████████████████████████████████| 2.0MB 4.3MB/s \n",
      "\u001B[?25hCollecting subprocess32>=3.5.3\n",
      "\u001B[?25l  Downloading https://files.pythonhosted.org/packages/32/c8/564be4d12629b912ea431f1a50eb8b3b9d00f1a0b1ceff17f266be190007/subprocess32-3.5.4.tar.gz (97kB)\n",
      "\u001B[K     |████████████████████████████████| 102kB 12.1MB/s \n",
      "\u001B[?25hRequirement already satisfied: requests<3,>=2.0.0 in /usr/local/lib/python3.6/dist-packages (from wandb) (2.23.0)\n",
      "Requirement already satisfied: promise<3,>=2.0 in /usr/local/lib/python3.6/dist-packages (from wandb) (2.3)\n",
      "Requirement already satisfied: protobuf>=3.12.0 in /usr/local/lib/python3.6/dist-packages (from wandb) (3.12.4)\n",
      "Requirement already satisfied: python-dateutil>=2.6.1 in /usr/local/lib/python3.6/dist-packages (from wandb) (2.8.1)\n",
      "Requirement already satisfied: psutil>=5.0.0 in /usr/local/lib/python3.6/dist-packages (from wandb) (5.4.8)\n",
      "Collecting sentry-sdk>=0.4.0\n",
      "\u001B[?25l  Downloading https://files.pythonhosted.org/packages/5a/57/fe9bec0a5e13d68db04dda6083fc4b559204fb4f925ef58ddce9f9b58435/sentry_sdk-0.20.2-py2.py3-none-any.whl (131kB)\n",
      "\u001B[K     |████████████████████████████████| 133kB 36.7MB/s \n",
      "\u001B[?25hRequirement already satisfied: PyYAML in /usr/local/lib/python3.6/dist-packages (from wandb) (3.13)\n",
      "Requirement already satisfied: Click>=7.0 in /usr/local/lib/python3.6/dist-packages (from wandb) (7.1.2)\n",
      "Collecting pathtools\n",
      "  Downloading https://files.pythonhosted.org/packages/e7/7f/470d6fcdf23f9f3518f6b0b76be9df16dcc8630ad409947f8be2eb0ed13a/pathtools-0.1.2.tar.gz\n",
      "Requirement already satisfied: six>=1.13.0 in /usr/local/lib/python3.6/dist-packages (from wandb) (1.15.0)\n",
      "Collecting docker-pycreds>=0.4.0\n",
      "  Downloading https://files.pythonhosted.org/packages/f5/e8/f6bd1eee09314e7e6dee49cbe2c5e22314ccdb38db16c9fc72d2fa80d054/docker_pycreds-0.4.0-py2.py3-none-any.whl\n",
      "Collecting shortuuid>=0.5.0\n",
      "  Downloading https://files.pythonhosted.org/packages/25/a6/2ecc1daa6a304e7f1b216f0896b26156b78e7c38e1211e9b798b4716c53d/shortuuid-1.0.1-py3-none-any.whl\n",
      "Collecting GitPython>=1.0.0\n",
      "\u001B[?25l  Downloading https://files.pythonhosted.org/packages/fb/67/47a04d8a9d7f94645676fe683f1ee3fe9be01fe407686c180768a92abaac/GitPython-3.1.13-py3-none-any.whl (159kB)\n",
      "\u001B[K     |████████████████████████████████| 163kB 35.9MB/s \n",
      "\u001B[?25hCollecting configparser>=3.8.1\n",
      "  Downloading https://files.pythonhosted.org/packages/08/b2/ef713e0e67f6e7ec7d59aea3ee78d05b39c15930057e724cc6d362a8c3bb/configparser-5.0.1-py3-none-any.whl\n",
      "Requirement already satisfied: urllib3!=1.25.0,!=1.25.1,<1.26,>=1.21.1 in /usr/local/lib/python3.6/dist-packages (from requests<3,>=2.0.0->wandb) (1.24.3)\n",
      "Requirement already satisfied: certifi>=2017.4.17 in /usr/local/lib/python3.6/dist-packages (from requests<3,>=2.0.0->wandb) (2020.12.5)\n",
      "Requirement already satisfied: idna<3,>=2.5 in /usr/local/lib/python3.6/dist-packages (from requests<3,>=2.0.0->wandb) (2.10)\n",
      "Requirement already satisfied: chardet<4,>=3.0.2 in /usr/local/lib/python3.6/dist-packages (from requests<3,>=2.0.0->wandb) (3.0.4)\n",
      "Requirement already satisfied: setuptools in /usr/local/lib/python3.6/dist-packages (from protobuf>=3.12.0->wandb) (53.0.0)\n",
      "Collecting gitdb<5,>=4.0.1\n",
      "\u001B[?25l  Downloading https://files.pythonhosted.org/packages/48/11/d1800bca0a3bae820b84b7d813ad1eff15a48a64caea9c823fc8c1b119e8/gitdb-4.0.5-py3-none-any.whl (63kB)\n",
      "\u001B[K     |████████████████████████████████| 71kB 9.1MB/s \n",
      "\u001B[?25hCollecting smmap<4,>=3.0.1\n",
      "  Downloading https://files.pythonhosted.org/packages/d5/1e/6130925131f639b2acde0f7f18b73e33ce082ff2d90783c436b52040af5a/smmap-3.0.5-py2.py3-none-any.whl\n",
      "Building wheels for collected packages: subprocess32, pathtools\n",
      "  Building wheel for subprocess32 (setup.py) ... \u001B[?25l\u001B[?25hdone\n",
      "  Created wheel for subprocess32: filename=subprocess32-3.5.4-cp36-none-any.whl size=6490 sha256=b3ef102881c4fb09eedeafbd4ca805dcd7a4e76c0e42caf808f4dac61738a2f2\n",
      "  Stored in directory: /root/.cache/pip/wheels/68/39/1a/5e402bdfdf004af1786c8b853fd92f8c4a04f22aad179654d1\n",
      "  Building wheel for pathtools (setup.py) ... \u001B[?25l\u001B[?25hdone\n",
      "  Created wheel for pathtools: filename=pathtools-0.1.2-cp36-none-any.whl size=8785 sha256=2acff7d7ebf96cbd0df1cd292c1cf70fc1ec3384b5c66ff1c28010132b1ed42c\n",
      "  Stored in directory: /root/.cache/pip/wheels/0b/04/79/c3b0c3a0266a3cb4376da31e5bfe8bba0c489246968a68e843\n",
      "Successfully built subprocess32 pathtools\n",
      "Installing collected packages: subprocess32, sentry-sdk, pathtools, docker-pycreds, shortuuid, smmap, gitdb, GitPython, configparser, wandb\n",
      "Successfully installed GitPython-3.1.13 configparser-5.0.1 docker-pycreds-0.4.0 gitdb-4.0.5 pathtools-0.1.2 sentry-sdk-0.20.2 shortuuid-1.0.1 smmap-3.0.5 subprocess32-3.5.4 wandb-0.10.19\n"
     ],
     "name": "stdout"
    }
   ]
  },
  {
   "cell_type": "code",
   "metadata": {
    "colab": {
     "base_uri": "https://localhost:8080/"
    },
    "id": "8BIFVgSadtXy",
    "outputId": "7f7c780b-0650-4f3d-a80d-44158e4bae01"
   },
   "source": [
    "!git clone https://github.com/huggingface/transformers  transformers_\n",
    "!pip install -e \".[dev]\"\n",
    "!pip install -r /content/transformers_/examples/seq2seq/requirements.txt\n",
    "!pip install pyarrow==0.17.1"
   ],
   "execution_count": null,
   "outputs": [
    {
     "output_type": "stream",
     "text": [
      "Cloning into 'transformers_'...\n",
      "remote: Enumerating objects: 62634, done.\u001B[K\n",
      "remote: Total 62634 (delta 0), reused 0 (delta 0), pack-reused 62634\u001B[K\n",
      "Receiving objects: 100% (62634/62634), 47.68 MiB | 14.81 MiB/s, done.\n",
      "Resolving deltas: 100% (44355/44355), done.\n",
      "\u001B[31mERROR: File \"setup.py\" not found. Directory cannot be installed in editable mode: /content\u001B[0m\n",
      "Collecting datasets>=1.1.3\n",
      "\u001B[?25l  Downloading https://files.pythonhosted.org/packages/a2/12/5fd53adc5ba8a8d562b19f2c1c859547659e96b87a767cd52556538d205e/datasets-1.3.0-py3-none-any.whl (181kB)\n",
      "\u001B[K     |████████████████████████████████| 184kB 4.1MB/s \n",
      "\u001B[?25hCollecting sentencepiece!=0.1.92\n",
      "\u001B[?25l  Downloading https://files.pythonhosted.org/packages/14/67/e42bd1181472c95c8cda79305df848264f2a7f62740995a46945d9797b67/sentencepiece-0.1.95-cp36-cp36m-manylinux2014_x86_64.whl (1.2MB)\n",
      "\u001B[K     |████████████████████████████████| 1.2MB 32.6MB/s \n",
      "\u001B[?25hRequirement already satisfied: protobuf in /usr/local/lib/python3.6/dist-packages (from -r /content/transformers_/examples/seq2seq/requirements.txt (line 3)) (3.12.4)\n",
      "Collecting sacrebleu\n",
      "\u001B[?25l  Downloading https://files.pythonhosted.org/packages/3b/7f/4fd83db8570288c3899d8e57666c2841403c15659f3d792a3cb8dc1c6689/sacrebleu-1.5.0-py3-none-any.whl (65kB)\n",
      "\u001B[K     |████████████████████████████████| 71kB 9.4MB/s \n",
      "\u001B[?25hCollecting rouge-score\n",
      "  Downloading https://files.pythonhosted.org/packages/1f/56/a81022436c08b9405a5247b71635394d44fe7e1dbedc4b28c740e09c2840/rouge_score-0.0.4-py2.py3-none-any.whl\n",
      "Requirement already satisfied: nltk in /usr/local/lib/python3.6/dist-packages (from -r /content/transformers_/examples/seq2seq/requirements.txt (line 6)) (3.2.5)\n",
      "Collecting pyarrow>=0.17.1\n",
      "\u001B[?25l  Downloading https://files.pythonhosted.org/packages/33/67/2f4fcce1b41bcc7e88a6bfdb42046597ae72e5bc95c2789b7c5ac893c433/pyarrow-3.0.0-cp36-cp36m-manylinux2014_x86_64.whl (20.7MB)\n",
      "\u001B[K     |████████████████████████████████| 20.7MB 5.6MB/s \n",
      "\u001B[?25hCollecting xxhash\n",
      "\u001B[?25l  Downloading https://files.pythonhosted.org/packages/f7/73/826b19f3594756cb1c6c23d2fbd8ca6a77a9cd3b650c9dec5acc85004c38/xxhash-2.0.0-cp36-cp36m-manylinux2010_x86_64.whl (242kB)\n",
      "\u001B[K     |████████████████████████████████| 245kB 38.7MB/s \n",
      "\u001B[?25hCollecting fsspec\n",
      "\u001B[?25l  Downloading https://files.pythonhosted.org/packages/ec/80/72ac0982cc833945fada4b76c52f0f65435ba4d53bc9317d1c70b5f7e7d5/fsspec-0.8.5-py3-none-any.whl (98kB)\n",
      "\u001B[K     |████████████████████████████████| 102kB 10.8MB/s \n",
      "\u001B[?25hCollecting huggingface-hub==0.0.2\n",
      "  Downloading https://files.pythonhosted.org/packages/b5/93/7cb0755c62c36cdadc70c79a95681df685b52cbaf76c724facb6ecac3272/huggingface_hub-0.0.2-py3-none-any.whl\n",
      "Requirement already satisfied: importlib-metadata; python_version < \"3.8\" in /usr/local/lib/python3.6/dist-packages (from datasets>=1.1.3->-r /content/transformers_/examples/seq2seq/requirements.txt (line 1)) (3.4.0)\n",
      "Requirement already satisfied: multiprocess in /usr/local/lib/python3.6/dist-packages (from datasets>=1.1.3->-r /content/transformers_/examples/seq2seq/requirements.txt (line 1)) (0.70.11.1)\n",
      "Requirement already satisfied: dill in /usr/local/lib/python3.6/dist-packages (from datasets>=1.1.3->-r /content/transformers_/examples/seq2seq/requirements.txt (line 1)) (0.3.3)\n",
      "Requirement already satisfied: dataclasses; python_version < \"3.7\" in /usr/local/lib/python3.6/dist-packages (from datasets>=1.1.3->-r /content/transformers_/examples/seq2seq/requirements.txt (line 1)) (0.8)\n",
      "Requirement already satisfied: pandas in /usr/local/lib/python3.6/dist-packages (from datasets>=1.1.3->-r /content/transformers_/examples/seq2seq/requirements.txt (line 1)) (1.1.5)\n",
      "Requirement already satisfied: tqdm<4.50.0,>=4.27 in /usr/local/lib/python3.6/dist-packages (from datasets>=1.1.3->-r /content/transformers_/examples/seq2seq/requirements.txt (line 1)) (4.41.1)\n",
      "Requirement already satisfied: numpy>=1.17 in /usr/local/lib/python3.6/dist-packages (from datasets>=1.1.3->-r /content/transformers_/examples/seq2seq/requirements.txt (line 1)) (1.19.5)\n",
      "Requirement already satisfied: requests>=2.19.0 in /usr/local/lib/python3.6/dist-packages (from datasets>=1.1.3->-r /content/transformers_/examples/seq2seq/requirements.txt (line 1)) (2.23.0)\n",
      "Requirement already satisfied: six>=1.9 in /usr/local/lib/python3.6/dist-packages (from protobuf->-r /content/transformers_/examples/seq2seq/requirements.txt (line 3)) (1.15.0)\n",
      "Requirement already satisfied: setuptools in /usr/local/lib/python3.6/dist-packages (from protobuf->-r /content/transformers_/examples/seq2seq/requirements.txt (line 3)) (53.0.0)\n",
      "Collecting portalocker\n",
      "  Downloading https://files.pythonhosted.org/packages/82/22/e684c9e2e59b561dbe36538852e81849122c666c423448e3a5c99362c228/portalocker-2.2.1-py2.py3-none-any.whl\n",
      "Requirement already satisfied: absl-py in /usr/local/lib/python3.6/dist-packages (from rouge-score->-r /content/transformers_/examples/seq2seq/requirements.txt (line 5)) (0.10.0)\n",
      "Requirement already satisfied: filelock in /usr/local/lib/python3.6/dist-packages (from huggingface-hub==0.0.2->datasets>=1.1.3->-r /content/transformers_/examples/seq2seq/requirements.txt (line 1)) (3.0.12)\n",
      "Requirement already satisfied: zipp>=0.5 in /usr/local/lib/python3.6/dist-packages (from importlib-metadata; python_version < \"3.8\"->datasets>=1.1.3->-r /content/transformers_/examples/seq2seq/requirements.txt (line 1)) (3.4.0)\n",
      "Requirement already satisfied: typing-extensions>=3.6.4; python_version < \"3.8\" in /usr/local/lib/python3.6/dist-packages (from importlib-metadata; python_version < \"3.8\"->datasets>=1.1.3->-r /content/transformers_/examples/seq2seq/requirements.txt (line 1)) (3.7.4.3)\n",
      "Requirement already satisfied: pytz>=2017.2 in /usr/local/lib/python3.6/dist-packages (from pandas->datasets>=1.1.3->-r /content/transformers_/examples/seq2seq/requirements.txt (line 1)) (2018.9)\n",
      "Requirement already satisfied: python-dateutil>=2.7.3 in /usr/local/lib/python3.6/dist-packages (from pandas->datasets>=1.1.3->-r /content/transformers_/examples/seq2seq/requirements.txt (line 1)) (2.8.1)\n",
      "Requirement already satisfied: certifi>=2017.4.17 in /usr/local/lib/python3.6/dist-packages (from requests>=2.19.0->datasets>=1.1.3->-r /content/transformers_/examples/seq2seq/requirements.txt (line 1)) (2020.12.5)\n",
      "Requirement already satisfied: urllib3!=1.25.0,!=1.25.1,<1.26,>=1.21.1 in /usr/local/lib/python3.6/dist-packages (from requests>=2.19.0->datasets>=1.1.3->-r /content/transformers_/examples/seq2seq/requirements.txt (line 1)) (1.24.3)\n",
      "Requirement already satisfied: chardet<4,>=3.0.2 in /usr/local/lib/python3.6/dist-packages (from requests>=2.19.0->datasets>=1.1.3->-r /content/transformers_/examples/seq2seq/requirements.txt (line 1)) (3.0.4)\n",
      "Requirement already satisfied: idna<3,>=2.5 in /usr/local/lib/python3.6/dist-packages (from requests>=2.19.0->datasets>=1.1.3->-r /content/transformers_/examples/seq2seq/requirements.txt (line 1)) (2.10)\n",
      "Installing collected packages: pyarrow, xxhash, fsspec, huggingface-hub, datasets, sentencepiece, portalocker, sacrebleu, rouge-score\n",
      "  Found existing installation: pyarrow 0.14.1\n",
      "    Uninstalling pyarrow-0.14.1:\n",
      "      Successfully uninstalled pyarrow-0.14.1\n",
      "Successfully installed datasets-1.3.0 fsspec-0.8.5 huggingface-hub-0.0.2 portalocker-2.2.1 pyarrow-3.0.0 rouge-score-0.0.4 sacrebleu-1.5.0 sentencepiece-0.1.95 xxhash-2.0.0\n",
      "Collecting pyarrow==0.17.1\n",
      "\u001B[?25l  Downloading https://files.pythonhosted.org/packages/ba/3f/6cac1714fff444664603f92cb9fbe91c7ae25375880158b9e9691c4584c8/pyarrow-0.17.1-cp36-cp36m-manylinux2014_x86_64.whl (63.8MB)\n",
      "\u001B[K     |████████████████████████████████| 63.8MB 100kB/s \n",
      "\u001B[?25hRequirement already satisfied: numpy>=1.14 in /usr/local/lib/python3.6/dist-packages (from pyarrow==0.17.1) (1.19.5)\n",
      "Installing collected packages: pyarrow\n",
      "  Found existing installation: pyarrow 3.0.0\n",
      "    Uninstalling pyarrow-3.0.0:\n",
      "      Successfully uninstalled pyarrow-3.0.0\n",
      "Successfully installed pyarrow-0.17.1\n"
     ],
     "name": "stdout"
    }
   ]
  },
  {
   "cell_type": "code",
   "metadata": {
    "colab": {
     "base_uri": "https://localhost:8080/",
     "height": 1000
    },
    "id": "CNGFYF1Advvf",
    "outputId": "3c1287a9-4874-4787-9609-6c4d436936bd"
   },
   "source": [
    "# !(cd /content/transformers_  && git checkout -- /content/transformers_/examples/seq2seq/utils.py )\n",
    "# !(cd /content/transformers_  && git checkout -- /content/transformers_/examples/seq2seq/finetune.py )\n",
    "!(cd /content/transformers_  &&  git checkout `git rev-list -1 --before=\"Nov 14 2020\" master`)\n",
    "!pip install -r /content/transformers_/examples/requirements.txt"
   ],
   "execution_count": null,
   "outputs": [
    {
     "output_type": "stream",
     "text": [
      "Note: checking out '24184e73c441397edd51e9068e0f49c0418d25ab'.\n",
      "\n",
      "You are in 'detached HEAD' state. You can look around, make experimental\n",
      "changes and commit them, and you can discard any commits you make in this\n",
      "state without impacting any branches by performing another checkout.\n",
      "\n",
      "If you want to create a new branch to retain commits you create, you may\n",
      "do so (now or later) by using -b with the checkout command again. Example:\n",
      "\n",
      "  git checkout -b <new-branch-name>\n",
      "\n",
      "HEAD is now at 24184e73 Rework some TF tests (#8492)\n",
      "Requirement already satisfied: tensorboard in /usr/local/lib/python3.6/dist-packages (from -r /content/transformers_/examples/requirements.txt (line 1)) (2.4.1)\n",
      "Requirement already satisfied: scikit-learn in /usr/local/lib/python3.6/dist-packages (from -r /content/transformers_/examples/requirements.txt (line 2)) (0.22.2.post1)\n",
      "Collecting seqeval\n",
      "\u001B[?25l  Downloading https://files.pythonhosted.org/packages/9d/2d/233c79d5b4e5ab1dbf111242299153f3caddddbb691219f363ad55ce783d/seqeval-1.2.2.tar.gz (43kB)\n",
      "\u001B[K     |████████████████████████████████| 51kB 2.8MB/s \n",
      "\u001B[?25hRequirement already satisfied: psutil in /usr/local/lib/python3.6/dist-packages (from -r /content/transformers_/examples/requirements.txt (line 4)) (5.4.8)\n",
      "Requirement already satisfied: sacrebleu in /usr/local/lib/python3.6/dist-packages (from -r /content/transformers_/examples/requirements.txt (line 5)) (1.5.0)\n",
      "Requirement already satisfied: rouge-score in /usr/local/lib/python3.6/dist-packages (from -r /content/transformers_/examples/requirements.txt (line 6)) (0.0.4)\n",
      "Requirement already satisfied: tensorflow_datasets in /usr/local/lib/python3.6/dist-packages (from -r /content/transformers_/examples/requirements.txt (line 7)) (4.0.1)\n",
      "Collecting pytorch-lightning==1.0.4\n",
      "\u001B[?25l  Downloading https://files.pythonhosted.org/packages/94/e7/d9ac82471c6a6246963726a62dfbd858b81ad63de71ed9dd18fc491596c4/pytorch_lightning-1.0.4-py3-none-any.whl (554kB)\n",
      "\u001B[K     |████████████████████████████████| 563kB 6.3MB/s \n",
      "\u001B[?25hRequirement already satisfied: matplotlib in /usr/local/lib/python3.6/dist-packages (from -r /content/transformers_/examples/requirements.txt (line 9)) (3.2.2)\n",
      "Collecting git-python==1.0.3\n",
      "  Downloading https://files.pythonhosted.org/packages/8a/de/0cc6353a45cdb1e137cffac5383097b300cc578e2e1133eeb847e23a1394/git_python-1.0.3-py2.py3-none-any.whl\n",
      "Collecting faiss-cpu\n",
      "\u001B[?25l  Downloading https://files.pythonhosted.org/packages/1e/a8/ed1601e6e94702ad691465bd1bead221dd2984f741bf384011b4dc59130e/faiss_cpu-1.7.0-cp36-cp36m-manylinux2014_x86_64.whl (8.1MB)\n",
      "\u001B[K     |████████████████████████████████| 8.2MB 6.4MB/s \n",
      "\u001B[?25hCollecting streamlit\n",
      "\u001B[?25l  Downloading https://files.pythonhosted.org/packages/b2/97/ae3c52932853399cc748e4f3e4947659b0b487fad3a4df391557442a92db/streamlit-0.76.0-py2.py3-none-any.whl (7.5MB)\n",
      "\u001B[K     |████████████████████████████████| 7.5MB 38.7MB/s \n",
      "\u001B[?25hCollecting elasticsearch\n",
      "\u001B[?25l  Downloading https://files.pythonhosted.org/packages/72/68/76c5d46cc6a48fddb759f585bc8728caa11bfc9b812ce6705fc5f99beab2/elasticsearch-7.11.0-py2.py3-none-any.whl (325kB)\n",
      "\u001B[K     |████████████████████████████████| 327kB 38.8MB/s \n",
      "\u001B[?25hRequirement already satisfied: nltk in /usr/local/lib/python3.6/dist-packages (from -r /content/transformers_/examples/requirements.txt (line 14)) (3.2.5)\n",
      "Requirement already satisfied: pandas in /usr/local/lib/python3.6/dist-packages (from -r /content/transformers_/examples/requirements.txt (line 15)) (1.1.5)\n",
      "Requirement already satisfied: datasets in /usr/local/lib/python3.6/dist-packages (from -r /content/transformers_/examples/requirements.txt (line 16)) (1.3.0)\n",
      "Collecting fire\n",
      "\u001B[?25l  Downloading https://files.pythonhosted.org/packages/11/07/a119a1aa04d37bc819940d95ed7e135a7dcca1c098123a3764a6dcace9e7/fire-0.4.0.tar.gz (87kB)\n",
      "\u001B[K     |████████████████████████████████| 92kB 11.0MB/s \n",
      "\u001B[?25hRequirement already satisfied: pytest in /usr/local/lib/python3.6/dist-packages (from -r /content/transformers_/examples/requirements.txt (line 18)) (3.6.4)\n",
      "Collecting conllu\n",
      "  Downloading https://files.pythonhosted.org/packages/ae/be/be6959c3ff2dbfdd87de4be0ccdff577835b5d08b1d25bf7fd4aaf0d7add/conllu-4.4-py2.py3-none-any.whl\n",
      "Requirement already satisfied: sentencepiece!=0.1.92 in /usr/local/lib/python3.6/dist-packages (from -r /content/transformers_/examples/requirements.txt (line 20)) (0.1.95)\n",
      "Requirement already satisfied: grpcio>=1.24.3 in /usr/local/lib/python3.6/dist-packages (from tensorboard->-r /content/transformers_/examples/requirements.txt (line 1)) (1.32.0)\n",
      "Requirement already satisfied: six>=1.10.0 in /usr/local/lib/python3.6/dist-packages (from tensorboard->-r /content/transformers_/examples/requirements.txt (line 1)) (1.15.0)\n",
      "Requirement already satisfied: numpy>=1.12.0 in /usr/local/lib/python3.6/dist-packages (from tensorboard->-r /content/transformers_/examples/requirements.txt (line 1)) (1.19.5)\n",
      "Requirement already satisfied: google-auth-oauthlib<0.5,>=0.4.1 in /usr/local/lib/python3.6/dist-packages (from tensorboard->-r /content/transformers_/examples/requirements.txt (line 1)) (0.4.2)\n",
      "Requirement already satisfied: absl-py>=0.4 in /usr/local/lib/python3.6/dist-packages (from tensorboard->-r /content/transformers_/examples/requirements.txt (line 1)) (0.10.0)\n",
      "Requirement already satisfied: google-auth<2,>=1.6.3 in /usr/local/lib/python3.6/dist-packages (from tensorboard->-r /content/transformers_/examples/requirements.txt (line 1)) (1.25.0)\n",
      "Requirement already satisfied: markdown>=2.6.8 in /usr/local/lib/python3.6/dist-packages (from tensorboard->-r /content/transformers_/examples/requirements.txt (line 1)) (3.3.3)\n",
      "Requirement already satisfied: werkzeug>=0.11.15 in /usr/local/lib/python3.6/dist-packages (from tensorboard->-r /content/transformers_/examples/requirements.txt (line 1)) (1.0.1)\n",
      "Requirement already satisfied: protobuf>=3.6.0 in /usr/local/lib/python3.6/dist-packages (from tensorboard->-r /content/transformers_/examples/requirements.txt (line 1)) (3.12.4)\n",
      "Requirement already satisfied: tensorboard-plugin-wit>=1.6.0 in /usr/local/lib/python3.6/dist-packages (from tensorboard->-r /content/transformers_/examples/requirements.txt (line 1)) (1.8.0)\n",
      "Requirement already satisfied: wheel>=0.26; python_version >= \"3\" in /usr/local/lib/python3.6/dist-packages (from tensorboard->-r /content/transformers_/examples/requirements.txt (line 1)) (0.36.2)\n",
      "Requirement already satisfied: requests<3,>=2.21.0 in /usr/local/lib/python3.6/dist-packages (from tensorboard->-r /content/transformers_/examples/requirements.txt (line 1)) (2.23.0)\n",
      "Requirement already satisfied: setuptools>=41.0.0 in /usr/local/lib/python3.6/dist-packages (from tensorboard->-r /content/transformers_/examples/requirements.txt (line 1)) (53.0.0)\n",
      "Requirement already satisfied: joblib>=0.11 in /usr/local/lib/python3.6/dist-packages (from scikit-learn->-r /content/transformers_/examples/requirements.txt (line 2)) (1.0.0)\n",
      "Requirement already satisfied: scipy>=0.17.0 in /usr/local/lib/python3.6/dist-packages (from scikit-learn->-r /content/transformers_/examples/requirements.txt (line 2)) (1.4.1)\n",
      "Requirement already satisfied: portalocker in /usr/local/lib/python3.6/dist-packages (from sacrebleu->-r /content/transformers_/examples/requirements.txt (line 5)) (2.2.1)\n",
      "Requirement already satisfied: tensorflow-metadata in /usr/local/lib/python3.6/dist-packages (from tensorflow_datasets->-r /content/transformers_/examples/requirements.txt (line 7)) (0.27.0)\n",
      "Requirement already satisfied: dataclasses; python_version < \"3.7\" in /usr/local/lib/python3.6/dist-packages (from tensorflow_datasets->-r /content/transformers_/examples/requirements.txt (line 7)) (0.8)\n",
      "Requirement already satisfied: dill in /usr/local/lib/python3.6/dist-packages (from tensorflow_datasets->-r /content/transformers_/examples/requirements.txt (line 7)) (0.3.3)\n",
      "Requirement already satisfied: promise in /usr/local/lib/python3.6/dist-packages (from tensorflow_datasets->-r /content/transformers_/examples/requirements.txt (line 7)) (2.3)\n",
      "Requirement already satisfied: dm-tree in /usr/local/lib/python3.6/dist-packages (from tensorflow_datasets->-r /content/transformers_/examples/requirements.txt (line 7)) (0.1.5)\n",
      "Requirement already satisfied: attrs>=18.1.0 in /usr/local/lib/python3.6/dist-packages (from tensorflow_datasets->-r /content/transformers_/examples/requirements.txt (line 7)) (20.3.0)\n",
      "Requirement already satisfied: termcolor in /usr/local/lib/python3.6/dist-packages (from tensorflow_datasets->-r /content/transformers_/examples/requirements.txt (line 7)) (1.1.0)\n",
      "Requirement already satisfied: future in /usr/local/lib/python3.6/dist-packages (from tensorflow_datasets->-r /content/transformers_/examples/requirements.txt (line 7)) (0.16.0)\n",
      "Requirement already satisfied: importlib-resources; python_version < \"3.9\" in /usr/local/lib/python3.6/dist-packages (from tensorflow_datasets->-r /content/transformers_/examples/requirements.txt (line 7)) (5.1.0)\n",
      "Requirement already satisfied: tqdm in /usr/local/lib/python3.6/dist-packages (from tensorflow_datasets->-r /content/transformers_/examples/requirements.txt (line 7)) (4.41.1)\n",
      "Collecting PyYAML>=5.1\n",
      "\u001B[?25l  Downloading https://files.pythonhosted.org/packages/7a/5b/bc0b5ab38247bba158504a410112b6c03f153c652734ece1849749e5f518/PyYAML-5.4.1-cp36-cp36m-manylinux1_x86_64.whl (640kB)\n",
      "\u001B[K     |████████████████████████████████| 645kB 36.7MB/s \n",
      "\u001B[?25hRequirement already satisfied: fsspec>=0.8.0 in /usr/local/lib/python3.6/dist-packages (from pytorch-lightning==1.0.4->-r /content/transformers_/examples/requirements.txt (line 8)) (0.8.5)\n",
      "Requirement already satisfied: torch>=1.3 in /usr/local/lib/python3.6/dist-packages (from pytorch-lightning==1.0.4->-r /content/transformers_/examples/requirements.txt (line 8)) (1.7.0+cu101)\n",
      "Requirement already satisfied: pyparsing!=2.0.4,!=2.1.2,!=2.1.6,>=2.0.1 in /usr/local/lib/python3.6/dist-packages (from matplotlib->-r /content/transformers_/examples/requirements.txt (line 9)) (2.4.7)\n",
      "Requirement already satisfied: cycler>=0.10 in /usr/local/lib/python3.6/dist-packages (from matplotlib->-r /content/transformers_/examples/requirements.txt (line 9)) (0.10.0)\n",
      "Requirement already satisfied: python-dateutil>=2.1 in /usr/local/lib/python3.6/dist-packages (from matplotlib->-r /content/transformers_/examples/requirements.txt (line 9)) (2.8.1)\n",
      "Requirement already satisfied: kiwisolver>=1.0.1 in /usr/local/lib/python3.6/dist-packages (from matplotlib->-r /content/transformers_/examples/requirements.txt (line 9)) (1.3.1)\n",
      "Requirement already satisfied: gitpython in /usr/local/lib/python3.6/dist-packages (from git-python==1.0.3->-r /content/transformers_/examples/requirements.txt (line 10)) (3.1.13)\n",
      "Requirement already satisfied: altair>=3.2.0 in /usr/local/lib/python3.6/dist-packages (from streamlit->-r /content/transformers_/examples/requirements.txt (line 12)) (4.1.0)\n",
      "Requirement already satisfied: cachetools>=4.0 in /usr/local/lib/python3.6/dist-packages (from streamlit->-r /content/transformers_/examples/requirements.txt (line 12)) (4.2.1)\n",
      "Collecting base58\n",
      "  Downloading https://files.pythonhosted.org/packages/b8/a1/d9f565e9910c09fd325dc638765e8843a19fa696275c16cc08cf3b0a3c25/base58-2.1.0-py3-none-any.whl\n",
      "Collecting pydeck>=0.1.dev5\n",
      "\u001B[?25l  Downloading https://files.pythonhosted.org/packages/1c/3f/8f04ae0c22d82ec7bec7fcc03270a142f637e362bbd285f7daeeda24fbef/pydeck-0.6.1-py2.py3-none-any.whl (4.6MB)\n",
      "\u001B[K     |████████████████████████████████| 4.6MB 36.3MB/s \n",
      "\u001B[?25hRequirement already satisfied: pyarrow; python_version < \"3.9\" in /usr/local/lib/python3.6/dist-packages (from streamlit->-r /content/transformers_/examples/requirements.txt (line 12)) (0.17.1)\n",
      "Collecting watchdog; platform_system != \"Darwin\"\n",
      "\u001B[?25l  Downloading https://files.pythonhosted.org/packages/aa/70/514ea72eb2a828eea1cfb2452f6fa9031c163928f60c2c9ad49ab7d816c1/watchdog-2.0.0-py3-none-manylinux2014_x86_64.whl (74kB)\n",
      "\u001B[K     |████████████████████████████████| 81kB 9.2MB/s \n",
      "\u001B[?25hRequirement already satisfied: tzlocal in /usr/local/lib/python3.6/dist-packages (from streamlit->-r /content/transformers_/examples/requirements.txt (line 12)) (1.5.1)\n",
      "Requirement already satisfied: packaging in /usr/local/lib/python3.6/dist-packages (from streamlit->-r /content/transformers_/examples/requirements.txt (line 12)) (20.9)\n",
      "Requirement already satisfied: astor in /usr/local/lib/python3.6/dist-packages (from streamlit->-r /content/transformers_/examples/requirements.txt (line 12)) (0.8.1)\n",
      "Collecting validators\n",
      "  Downloading https://files.pythonhosted.org/packages/db/2f/7fed3ee94ad665ad2c1de87f858f10a7785251ff75b4fd47987888d07ef1/validators-0.18.2-py3-none-any.whl\n",
      "Collecting blinker\n",
      "\u001B[?25l  Downloading https://files.pythonhosted.org/packages/1b/51/e2a9f3b757eb802f61dc1f2b09c8c99f6eb01cf06416c0671253536517b6/blinker-1.4.tar.gz (111kB)\n",
      "\u001B[K     |████████████████████████████████| 112kB 21.7MB/s \n",
      "\u001B[?25hRequirement already satisfied: tornado>=5.0 in /usr/local/lib/python3.6/dist-packages (from streamlit->-r /content/transformers_/examples/requirements.txt (line 12)) (5.1.1)\n",
      "Requirement already satisfied: pillow>=6.2.0 in /usr/local/lib/python3.6/dist-packages (from streamlit->-r /content/transformers_/examples/requirements.txt (line 12)) (7.0.0)\n",
      "Requirement already satisfied: click>=7.0 in /usr/local/lib/python3.6/dist-packages (from streamlit->-r /content/transformers_/examples/requirements.txt (line 12)) (7.1.2)\n",
      "Requirement already satisfied: toml in /usr/local/lib/python3.6/dist-packages (from streamlit->-r /content/transformers_/examples/requirements.txt (line 12)) (0.10.2)\n",
      "Requirement already satisfied: certifi in /usr/local/lib/python3.6/dist-packages (from elasticsearch->-r /content/transformers_/examples/requirements.txt (line 13)) (2020.12.5)\n",
      "Requirement already satisfied: urllib3<2,>=1.21.1 in /usr/local/lib/python3.6/dist-packages (from elasticsearch->-r /content/transformers_/examples/requirements.txt (line 13)) (1.24.3)\n",
      "Requirement already satisfied: pytz>=2017.2 in /usr/local/lib/python3.6/dist-packages (from pandas->-r /content/transformers_/examples/requirements.txt (line 15)) (2018.9)\n",
      "Requirement already satisfied: huggingface-hub==0.0.2 in /usr/local/lib/python3.6/dist-packages (from datasets->-r /content/transformers_/examples/requirements.txt (line 16)) (0.0.2)\n",
      "Requirement already satisfied: xxhash in /usr/local/lib/python3.6/dist-packages (from datasets->-r /content/transformers_/examples/requirements.txt (line 16)) (2.0.0)\n",
      "Requirement already satisfied: multiprocess in /usr/local/lib/python3.6/dist-packages (from datasets->-r /content/transformers_/examples/requirements.txt (line 16)) (0.70.11.1)\n",
      "Requirement already satisfied: importlib-metadata; python_version < \"3.8\" in /usr/local/lib/python3.6/dist-packages (from datasets->-r /content/transformers_/examples/requirements.txt (line 16)) (3.4.0)\n",
      "Requirement already satisfied: atomicwrites>=1.0 in /usr/local/lib/python3.6/dist-packages (from pytest->-r /content/transformers_/examples/requirements.txt (line 18)) (1.4.0)\n",
      "Requirement already satisfied: py>=1.5.0 in /usr/local/lib/python3.6/dist-packages (from pytest->-r /content/transformers_/examples/requirements.txt (line 18)) (1.10.0)\n",
      "Requirement already satisfied: pluggy<0.8,>=0.5 in /usr/local/lib/python3.6/dist-packages (from pytest->-r /content/transformers_/examples/requirements.txt (line 18)) (0.7.1)\n",
      "Requirement already satisfied: more-itertools>=4.0.0 in /usr/local/lib/python3.6/dist-packages (from pytest->-r /content/transformers_/examples/requirements.txt (line 18)) (8.7.0)\n",
      "Requirement already satisfied: requests-oauthlib>=0.7.0 in /usr/local/lib/python3.6/dist-packages (from google-auth-oauthlib<0.5,>=0.4.1->tensorboard->-r /content/transformers_/examples/requirements.txt (line 1)) (1.3.0)\n",
      "Requirement already satisfied: pyasn1-modules>=0.2.1 in /usr/local/lib/python3.6/dist-packages (from google-auth<2,>=1.6.3->tensorboard->-r /content/transformers_/examples/requirements.txt (line 1)) (0.2.8)\n",
      "Requirement already satisfied: rsa<5,>=3.1.4; python_version >= \"3.6\" in /usr/local/lib/python3.6/dist-packages (from google-auth<2,>=1.6.3->tensorboard->-r /content/transformers_/examples/requirements.txt (line 1)) (4.7)\n",
      "Requirement already satisfied: chardet<4,>=3.0.2 in /usr/local/lib/python3.6/dist-packages (from requests<3,>=2.21.0->tensorboard->-r /content/transformers_/examples/requirements.txt (line 1)) (3.0.4)\n",
      "Requirement already satisfied: idna<3,>=2.5 in /usr/local/lib/python3.6/dist-packages (from requests<3,>=2.21.0->tensorboard->-r /content/transformers_/examples/requirements.txt (line 1)) (2.10)\n",
      "Requirement already satisfied: googleapis-common-protos<2,>=1.52.0 in /usr/local/lib/python3.6/dist-packages (from tensorflow-metadata->tensorflow_datasets->-r /content/transformers_/examples/requirements.txt (line 7)) (1.52.0)\n",
      "Requirement already satisfied: zipp>=0.4; python_version < \"3.8\" in /usr/local/lib/python3.6/dist-packages (from importlib-resources; python_version < \"3.9\"->tensorflow_datasets->-r /content/transformers_/examples/requirements.txt (line 7)) (3.4.0)\n",
      "Requirement already satisfied: typing-extensions in /usr/local/lib/python3.6/dist-packages (from torch>=1.3->pytorch-lightning==1.0.4->-r /content/transformers_/examples/requirements.txt (line 8)) (3.7.4.3)\n",
      "Requirement already satisfied: gitdb<5,>=4.0.1 in /usr/local/lib/python3.6/dist-packages (from gitpython->git-python==1.0.3->-r /content/transformers_/examples/requirements.txt (line 10)) (4.0.5)\n",
      "Requirement already satisfied: entrypoints in /usr/local/lib/python3.6/dist-packages (from altair>=3.2.0->streamlit->-r /content/transformers_/examples/requirements.txt (line 12)) (0.3)\n",
      "Requirement already satisfied: toolz in /usr/local/lib/python3.6/dist-packages (from altair>=3.2.0->streamlit->-r /content/transformers_/examples/requirements.txt (line 12)) (0.11.1)\n",
      "Requirement already satisfied: jsonschema in /usr/local/lib/python3.6/dist-packages (from altair>=3.2.0->streamlit->-r /content/transformers_/examples/requirements.txt (line 12)) (2.6.0)\n",
      "Requirement already satisfied: jinja2 in /usr/local/lib/python3.6/dist-packages (from altair>=3.2.0->streamlit->-r /content/transformers_/examples/requirements.txt (line 12)) (2.11.3)\n",
      "Requirement already satisfied: ipywidgets>=7.0.0 in /usr/local/lib/python3.6/dist-packages (from pydeck>=0.1.dev5->streamlit->-r /content/transformers_/examples/requirements.txt (line 12)) (7.6.3)\n",
      "Requirement already satisfied: traitlets>=4.3.2 in /usr/local/lib/python3.6/dist-packages (from pydeck>=0.1.dev5->streamlit->-r /content/transformers_/examples/requirements.txt (line 12)) (4.3.3)\n",
      "Collecting ipykernel>=5.1.2; python_version >= \"3.4\"\n",
      "\u001B[?25l  Downloading https://files.pythonhosted.org/packages/7d/cc/e8908bbb2921732f6851ebbbe4b77b925aab62e644ab9402f21c84fa6107/ipykernel-5.4.3-py3-none-any.whl (120kB)\n",
      "\u001B[K     |████████████████████████████████| 122kB 43.3MB/s \n",
      "\u001B[?25hRequirement already satisfied: decorator>=3.4.0 in /usr/local/lib/python3.6/dist-packages (from validators->streamlit->-r /content/transformers_/examples/requirements.txt (line 12)) (4.4.2)\n",
      "Requirement already satisfied: filelock in /usr/local/lib/python3.6/dist-packages (from huggingface-hub==0.0.2->datasets->-r /content/transformers_/examples/requirements.txt (line 16)) (3.0.12)\n",
      "Requirement already satisfied: oauthlib>=3.0.0 in /usr/local/lib/python3.6/dist-packages (from requests-oauthlib>=0.7.0->google-auth-oauthlib<0.5,>=0.4.1->tensorboard->-r /content/transformers_/examples/requirements.txt (line 1)) (3.1.0)\n",
      "Requirement already satisfied: pyasn1<0.5.0,>=0.4.6 in /usr/local/lib/python3.6/dist-packages (from pyasn1-modules>=0.2.1->google-auth<2,>=1.6.3->tensorboard->-r /content/transformers_/examples/requirements.txt (line 1)) (0.4.8)\n",
      "Requirement already satisfied: smmap<4,>=3.0.1 in /usr/local/lib/python3.6/dist-packages (from gitdb<5,>=4.0.1->gitpython->git-python==1.0.3->-r /content/transformers_/examples/requirements.txt (line 10)) (3.0.5)\n",
      "Requirement already satisfied: MarkupSafe>=0.23 in /usr/local/lib/python3.6/dist-packages (from jinja2->altair>=3.2.0->streamlit->-r /content/transformers_/examples/requirements.txt (line 12)) (1.1.1)\n",
      "Requirement already satisfied: nbformat>=4.2.0 in /usr/local/lib/python3.6/dist-packages (from ipywidgets>=7.0.0->pydeck>=0.1.dev5->streamlit->-r /content/transformers_/examples/requirements.txt (line 12)) (5.1.2)\n",
      "Requirement already satisfied: jupyterlab-widgets>=1.0.0; python_version >= \"3.6\" in /usr/local/lib/python3.6/dist-packages (from ipywidgets>=7.0.0->pydeck>=0.1.dev5->streamlit->-r /content/transformers_/examples/requirements.txt (line 12)) (1.0.0)\n",
      "Requirement already satisfied: widgetsnbextension~=3.5.0 in /usr/local/lib/python3.6/dist-packages (from ipywidgets>=7.0.0->pydeck>=0.1.dev5->streamlit->-r /content/transformers_/examples/requirements.txt (line 12)) (3.5.1)\n",
      "Requirement already satisfied: ipython>=4.0.0; python_version >= \"3.3\" in /usr/local/lib/python3.6/dist-packages (from ipywidgets>=7.0.0->pydeck>=0.1.dev5->streamlit->-r /content/transformers_/examples/requirements.txt (line 12)) (5.5.0)\n",
      "Requirement already satisfied: ipython-genutils in /usr/local/lib/python3.6/dist-packages (from traitlets>=4.3.2->pydeck>=0.1.dev5->streamlit->-r /content/transformers_/examples/requirements.txt (line 12)) (0.2.0)\n",
      "Requirement already satisfied: jupyter-client in /usr/local/lib/python3.6/dist-packages (from ipykernel>=5.1.2; python_version >= \"3.4\"->pydeck>=0.1.dev5->streamlit->-r /content/transformers_/examples/requirements.txt (line 12)) (5.3.5)\n",
      "Requirement already satisfied: jupyter-core in /usr/local/lib/python3.6/dist-packages (from nbformat>=4.2.0->ipywidgets>=7.0.0->pydeck>=0.1.dev5->streamlit->-r /content/transformers_/examples/requirements.txt (line 12)) (4.7.1)\n",
      "Requirement already satisfied: notebook>=4.4.1 in /usr/local/lib/python3.6/dist-packages (from widgetsnbextension~=3.5.0->ipywidgets>=7.0.0->pydeck>=0.1.dev5->streamlit->-r /content/transformers_/examples/requirements.txt (line 12)) (5.3.1)\n",
      "Requirement already satisfied: pygments in /usr/local/lib/python3.6/dist-packages (from ipython>=4.0.0; python_version >= \"3.3\"->ipywidgets>=7.0.0->pydeck>=0.1.dev5->streamlit->-r /content/transformers_/examples/requirements.txt (line 12)) (2.6.1)\n",
      "Requirement already satisfied: pexpect; sys_platform != \"win32\" in /usr/local/lib/python3.6/dist-packages (from ipython>=4.0.0; python_version >= \"3.3\"->ipywidgets>=7.0.0->pydeck>=0.1.dev5->streamlit->-r /content/transformers_/examples/requirements.txt (line 12)) (4.8.0)\n",
      "Requirement already satisfied: pickleshare in /usr/local/lib/python3.6/dist-packages (from ipython>=4.0.0; python_version >= \"3.3\"->ipywidgets>=7.0.0->pydeck>=0.1.dev5->streamlit->-r /content/transformers_/examples/requirements.txt (line 12)) (0.7.5)\n",
      "Requirement already satisfied: prompt-toolkit<2.0.0,>=1.0.4 in /usr/local/lib/python3.6/dist-packages (from ipython>=4.0.0; python_version >= \"3.3\"->ipywidgets>=7.0.0->pydeck>=0.1.dev5->streamlit->-r /content/transformers_/examples/requirements.txt (line 12)) (1.0.18)\n",
      "Requirement already satisfied: simplegeneric>0.8 in /usr/local/lib/python3.6/dist-packages (from ipython>=4.0.0; python_version >= \"3.3\"->ipywidgets>=7.0.0->pydeck>=0.1.dev5->streamlit->-r /content/transformers_/examples/requirements.txt (line 12)) (0.8.1)\n",
      "Requirement already satisfied: pyzmq>=13 in /usr/local/lib/python3.6/dist-packages (from jupyter-client->ipykernel>=5.1.2; python_version >= \"3.4\"->pydeck>=0.1.dev5->streamlit->-r /content/transformers_/examples/requirements.txt (line 12)) (22.0.2)\n",
      "Requirement already satisfied: terminado>=0.8.1 in /usr/local/lib/python3.6/dist-packages (from notebook>=4.4.1->widgetsnbextension~=3.5.0->ipywidgets>=7.0.0->pydeck>=0.1.dev5->streamlit->-r /content/transformers_/examples/requirements.txt (line 12)) (0.9.2)\n",
      "Requirement already satisfied: nbconvert in /usr/local/lib/python3.6/dist-packages (from notebook>=4.4.1->widgetsnbextension~=3.5.0->ipywidgets>=7.0.0->pydeck>=0.1.dev5->streamlit->-r /content/transformers_/examples/requirements.txt (line 12)) (5.6.1)\n",
      "Requirement already satisfied: Send2Trash in /usr/local/lib/python3.6/dist-packages (from notebook>=4.4.1->widgetsnbextension~=3.5.0->ipywidgets>=7.0.0->pydeck>=0.1.dev5->streamlit->-r /content/transformers_/examples/requirements.txt (line 12)) (1.5.0)\n",
      "Requirement already satisfied: ptyprocess>=0.5 in /usr/local/lib/python3.6/dist-packages (from pexpect; sys_platform != \"win32\"->ipython>=4.0.0; python_version >= \"3.3\"->ipywidgets>=7.0.0->pydeck>=0.1.dev5->streamlit->-r /content/transformers_/examples/requirements.txt (line 12)) (0.7.0)\n",
      "Requirement already satisfied: wcwidth in /usr/local/lib/python3.6/dist-packages (from prompt-toolkit<2.0.0,>=1.0.4->ipython>=4.0.0; python_version >= \"3.3\"->ipywidgets>=7.0.0->pydeck>=0.1.dev5->streamlit->-r /content/transformers_/examples/requirements.txt (line 12)) (0.2.5)\n",
      "Requirement already satisfied: bleach in /usr/local/lib/python3.6/dist-packages (from nbconvert->notebook>=4.4.1->widgetsnbextension~=3.5.0->ipywidgets>=7.0.0->pydeck>=0.1.dev5->streamlit->-r /content/transformers_/examples/requirements.txt (line 12)) (3.3.0)\n",
      "Requirement already satisfied: pandocfilters>=1.4.1 in /usr/local/lib/python3.6/dist-packages (from nbconvert->notebook>=4.4.1->widgetsnbextension~=3.5.0->ipywidgets>=7.0.0->pydeck>=0.1.dev5->streamlit->-r /content/transformers_/examples/requirements.txt (line 12)) (1.4.3)\n",
      "Requirement already satisfied: mistune<2,>=0.8.1 in /usr/local/lib/python3.6/dist-packages (from nbconvert->notebook>=4.4.1->widgetsnbextension~=3.5.0->ipywidgets>=7.0.0->pydeck>=0.1.dev5->streamlit->-r /content/transformers_/examples/requirements.txt (line 12)) (0.8.4)\n",
      "Requirement already satisfied: defusedxml in /usr/local/lib/python3.6/dist-packages (from nbconvert->notebook>=4.4.1->widgetsnbextension~=3.5.0->ipywidgets>=7.0.0->pydeck>=0.1.dev5->streamlit->-r /content/transformers_/examples/requirements.txt (line 12)) (0.6.0)\n",
      "Requirement already satisfied: testpath in /usr/local/lib/python3.6/dist-packages (from nbconvert->notebook>=4.4.1->widgetsnbextension~=3.5.0->ipywidgets>=7.0.0->pydeck>=0.1.dev5->streamlit->-r /content/transformers_/examples/requirements.txt (line 12)) (0.4.4)\n",
      "Requirement already satisfied: webencodings in /usr/local/lib/python3.6/dist-packages (from bleach->nbconvert->notebook>=4.4.1->widgetsnbextension~=3.5.0->ipywidgets>=7.0.0->pydeck>=0.1.dev5->streamlit->-r /content/transformers_/examples/requirements.txt (line 12)) (0.5.1)\n",
      "Building wheels for collected packages: seqeval, fire, blinker\n",
      "  Building wheel for seqeval (setup.py) ... \u001B[?25l\u001B[?25hdone\n",
      "  Created wheel for seqeval: filename=seqeval-1.2.2-cp36-none-any.whl size=16171 sha256=173488a82c0211497514f1e4f0e7941143d4dc245b27d843eb3b61439aeea5dc\n",
      "  Stored in directory: /root/.cache/pip/wheels/52/df/1b/45d75646c37428f7e626214704a0e35bd3cfc32eda37e59e5f\n",
      "  Building wheel for fire (setup.py) ... \u001B[?25l\u001B[?25hdone\n",
      "  Created wheel for fire: filename=fire-0.4.0-py2.py3-none-any.whl size=115928 sha256=a12cda5d23ab548682fd52b0d0e5681d64636604f061c77753bcfaf04804e4d5\n",
      "  Stored in directory: /root/.cache/pip/wheels/af/19/30/1ea0cad502dcb4e66ed5a690279628c827aea38bbbab75d5ed\n",
      "  Building wheel for blinker (setup.py) ... \u001B[?25l\u001B[?25hdone\n",
      "  Created wheel for blinker: filename=blinker-1.4-cp36-none-any.whl size=13450 sha256=fe853726fbc4cd8460f667a49562d205440a61e9c39998d80db45b2123a8ccb6\n",
      "  Stored in directory: /root/.cache/pip/wheels/92/a0/00/8690a57883956a301d91cf4ec999cc0b258b01e3f548f86e89\n",
      "Successfully built seqeval fire blinker\n",
      "\u001B[31mERROR: google-colab 1.0.0 has requirement ipykernel~=4.10, but you'll have ipykernel 5.4.3 which is incompatible.\u001B[0m\n",
      "\u001B[31mERROR: pytorch-lightning 1.0.4 has requirement future>=0.17.1, but you'll have future 0.16.0 which is incompatible.\u001B[0m\n",
      "Installing collected packages: seqeval, PyYAML, pytorch-lightning, git-python, faiss-cpu, base58, ipykernel, pydeck, watchdog, validators, blinker, streamlit, elasticsearch, fire, conllu\n",
      "  Found existing installation: PyYAML 3.13\n",
      "    Uninstalling PyYAML-3.13:\n",
      "      Successfully uninstalled PyYAML-3.13\n",
      "  Found existing installation: ipykernel 4.10.1\n",
      "    Uninstalling ipykernel-4.10.1:\n",
      "      Successfully uninstalled ipykernel-4.10.1\n",
      "Successfully installed PyYAML-5.4.1 base58-2.1.0 blinker-1.4 conllu-4.4 elasticsearch-7.11.0 faiss-cpu-1.7.0 fire-0.4.0 git-python-1.0.3 ipykernel-5.4.3 pydeck-0.6.1 pytorch-lightning-1.0.4 seqeval-1.2.2 streamlit-0.76.0 validators-0.18.2 watchdog-2.0.0\n"
     ],
     "name": "stdout"
    },
    {
     "output_type": "display_data",
     "data": {
      "application/vnd.colab-display-data+json": {
       "pip_warning": {
        "packages": [
         "ipykernel"
        ]
       }
      }
     },
     "metadata": {
      "tags": []
     }
    }
   ]
  },
  {
   "cell_type": "code",
   "metadata": {
    "colab": {
     "base_uri": "https://localhost:8080/"
    },
    "id": "llSJkFty8t7n",
    "outputId": "ae446475-90f1-497f-a903-82740523d7b1"
   },
   "source": [
    "!pip install transformers==3.5.0\n",
    "# !git clone https://github.com/patil-suraj/question_generation.git"
   ],
   "execution_count": null,
   "outputs": [
    {
     "output_type": "stream",
     "text": [
      "Collecting transformers==3.5.0\n",
      "\u001B[?25l  Downloading https://files.pythonhosted.org/packages/9c/34/fb092588df61bf33f113ade030d1cbe74fb73a0353648f8dd938a223dce7/transformers-3.5.0-py3-none-any.whl (1.3MB)\n",
      "\u001B[K     |████████████████████████████████| 1.3MB 9.2MB/s \n",
      "\u001B[?25hCollecting sentencepiece==0.1.91\n",
      "\u001B[?25l  Downloading https://files.pythonhosted.org/packages/d4/a4/d0a884c4300004a78cca907a6ff9a5e9fe4f090f5d95ab341c53d28cbc58/sentencepiece-0.1.91-cp36-cp36m-manylinux1_x86_64.whl (1.1MB)\n",
      "\u001B[K     |████████████████████████████████| 1.1MB 35.1MB/s \n",
      "\u001B[?25hCollecting sacremoses\n",
      "\u001B[?25l  Downloading https://files.pythonhosted.org/packages/7d/34/09d19aff26edcc8eb2a01bed8e98f13a1537005d31e95233fd48216eed10/sacremoses-0.0.43.tar.gz (883kB)\n",
      "\u001B[K     |████████████████████████████████| 890kB 53.2MB/s \n",
      "\u001B[?25hRequirement already satisfied: regex!=2019.12.17 in /usr/local/lib/python3.6/dist-packages (from transformers==3.5.0) (2019.12.20)\n",
      "Requirement already satisfied: dataclasses; python_version < \"3.7\" in /usr/local/lib/python3.6/dist-packages (from transformers==3.5.0) (0.8)\n",
      "Requirement already satisfied: packaging in /usr/local/lib/python3.6/dist-packages (from transformers==3.5.0) (20.9)\n",
      "Requirement already satisfied: tqdm>=4.27 in /usr/local/lib/python3.6/dist-packages (from transformers==3.5.0) (4.41.1)\n",
      "Requirement already satisfied: protobuf in /usr/local/lib/python3.6/dist-packages (from transformers==3.5.0) (3.12.4)\n",
      "Requirement already satisfied: numpy in /usr/local/lib/python3.6/dist-packages (from transformers==3.5.0) (1.19.5)\n",
      "Collecting tokenizers==0.9.3\n",
      "\u001B[?25l  Downloading https://files.pythonhosted.org/packages/4c/34/b39eb9994bc3c999270b69c9eea40ecc6f0e97991dba28282b9fd32d44ee/tokenizers-0.9.3-cp36-cp36m-manylinux1_x86_64.whl (2.9MB)\n",
      "\u001B[K     |████████████████████████████████| 2.9MB 55.9MB/s \n",
      "\u001B[?25hRequirement already satisfied: requests in /usr/local/lib/python3.6/dist-packages (from transformers==3.5.0) (2.23.0)\n",
      "Requirement already satisfied: filelock in /usr/local/lib/python3.6/dist-packages (from transformers==3.5.0) (3.0.12)\n",
      "Requirement already satisfied: six in /usr/local/lib/python3.6/dist-packages (from sacremoses->transformers==3.5.0) (1.15.0)\n",
      "Requirement already satisfied: click in /usr/local/lib/python3.6/dist-packages (from sacremoses->transformers==3.5.0) (7.1.2)\n",
      "Requirement already satisfied: joblib in /usr/local/lib/python3.6/dist-packages (from sacremoses->transformers==3.5.0) (1.0.0)\n",
      "Requirement already satisfied: pyparsing>=2.0.2 in /usr/local/lib/python3.6/dist-packages (from packaging->transformers==3.5.0) (2.4.7)\n",
      "Requirement already satisfied: setuptools in /usr/local/lib/python3.6/dist-packages (from protobuf->transformers==3.5.0) (53.0.0)\n",
      "Requirement already satisfied: idna<3,>=2.5 in /usr/local/lib/python3.6/dist-packages (from requests->transformers==3.5.0) (2.10)\n",
      "Requirement already satisfied: chardet<4,>=3.0.2 in /usr/local/lib/python3.6/dist-packages (from requests->transformers==3.5.0) (3.0.4)\n",
      "Requirement already satisfied: urllib3!=1.25.0,!=1.25.1,<1.26,>=1.21.1 in /usr/local/lib/python3.6/dist-packages (from requests->transformers==3.5.0) (1.24.3)\n",
      "Requirement already satisfied: certifi>=2017.4.17 in /usr/local/lib/python3.6/dist-packages (from requests->transformers==3.5.0) (2020.12.5)\n",
      "Building wheels for collected packages: sacremoses\n",
      "  Building wheel for sacremoses (setup.py) ... \u001B[?25l\u001B[?25hdone\n",
      "  Created wheel for sacremoses: filename=sacremoses-0.0.43-cp36-none-any.whl size=893261 sha256=90a7758e902af0e65747f038b263a3576f938c8100a440a02e15bc84a346a7f1\n",
      "  Stored in directory: /root/.cache/pip/wheels/29/3c/fd/7ce5c3f0666dab31a50123635e6fb5e19ceb42ce38d4e58f45\n",
      "Successfully built sacremoses\n",
      "Installing collected packages: sentencepiece, sacremoses, tokenizers, transformers\n",
      "Successfully installed sacremoses-0.0.43 sentencepiece-0.1.91 tokenizers-0.9.3 transformers-3.5.0\n"
     ],
     "name": "stdout"
    }
   ]
  },
  {
   "cell_type": "code",
   "metadata": {
    "colab": {
     "base_uri": "https://localhost:8080/",
     "height": 310,
     "referenced_widgets": [
      "f314f6cbb00d4c2fa69b8a9f7cd64caf",
      "0e1350b3d5474cbd873c98fbd39df92a",
      "e8be6e4402b64e918eab3be6697b2acd",
      "126fcf1b21604be8b72f55a344a8d341",
      "cbcdaa81960b48fb9b91625a86746c20",
      "1e7cda9d664d46be8f1be7689c684593",
      "1cdd3c971e2f422d8090140b5e901632",
      "6ba74a9a728e4bdc91e73271ad16f6e5",
      "883efba27f284c889a35866a8253df19",
      "d8ac73a1a9ba420080f8f4091da050c4",
      "087ca3d982934602bc48a58e5981d092",
      "f1ed102631e645e698029ee689f3fd82",
      "3ca01555a5e14e119581b31dc8ad69d2",
      "1959b93f0186472b9a8800d8160c0b5e",
      "254a8af2fa7e41c0b62e08b1ae7fa6a5",
      "4a95f9f9f08745bab8fd39fc16716d52",
      "3419711f17954be09a4f1fbc7d297333",
      "5d6d8b0cdef8441fb9ab1d83982d4658",
      "ce3f681530d14af19fe39dfc669e49e6",
      "420bbedd7bc84874b058f3f5ea9d5923",
      "8c101e1a7d974d2193c52af7a7e701ef",
      "a056528d25174a58aa05ab55337a42ca",
      "3d170d301eeb40798ef7b6bfd4727296",
      "9ce68e691aba401498b2a5575199b888",
      "b84492f89fd64e0499a155058c4bdcc7",
      "99a42f1365f44d3ab89bbc588d247267",
      "2bdc2d5a59cb47ef9190690f917bbb43",
      "e92d94c99538411f955b9525d4d48ab8",
      "29ab6d7448984265a5d81d7ea909e77f",
      "8cd572a9776e4789ac92f98c119bd4e0",
      "4085609005ed40998b8cc24e1411d617",
      "73afa44e1cc747f8b5f85d9d0da2685b",
      "3b37d751f3594bc4959d2ea215315408",
      "d3f622df22934ee0bb7460d1fbe1a500",
      "7c54d657ba764fbc9d956a4314f69d1c",
      "7d2239069225491fa791c8bad203315b",
      "6c27c66b834a4ad989fcbcf1c1d555ef",
      "2679433f7d464446b087881a154161d1",
      "35031f5ca39a4decadbc6941f8278f60",
      "86b80590c2dd40089d0c2e8144a761ca",
      "25cdd7fb13994cbe91784deba13a9273",
      "8acc3215b5b84cd187f1c26310a2a93a",
      "819f8d76e1f549359aef76c918f8dbe2",
      "73e6495177fe4977aa89498b243be25f",
      "b21f19bc91b344c098e5d422eaa515f8",
      "25d5819b255146ea9cf272c006c48309",
      "4e5a797106974a4c80e403af18f03dd0",
      "cd7f5151d7bd41f8a58e6f307e4d5890"
     ]
    },
    "id": "forae1Wt8w-L",
    "outputId": "9982a552-d779-42a8-d510-b9949db23db7"
   },
   "source": [
    "from question_generation.pipelines import pipeline\n",
    "\n",
    "nlp = pipeline(\"e2e-qg\")"
   ],
   "execution_count": null,
   "outputs": [
    {
     "output_type": "display_data",
     "data": {
      "application/vnd.jupyter.widget-view+json": {
       "model_id": "f314f6cbb00d4c2fa69b8a9f7cd64caf",
       "version_major": 2,
       "version_minor": 0
      },
      "text/plain": [
       "HBox(children=(FloatProgress(value=0.0, description='Downloading', max=1348.0, style=ProgressStyle(description…"
      ]
     },
     "metadata": {
      "tags": []
     }
    },
    {
     "output_type": "stream",
     "text": [
      "\n"
     ],
     "name": "stdout"
    },
    {
     "output_type": "display_data",
     "data": {
      "application/vnd.jupyter.widget-view+json": {
       "model_id": "883efba27f284c889a35866a8253df19",
       "version_major": 2,
       "version_minor": 0
      },
      "text/plain": [
       "HBox(children=(FloatProgress(value=0.0, description='Downloading', max=791656.0, style=ProgressStyle(descripti…"
      ]
     },
     "metadata": {
      "tags": []
     }
    },
    {
     "output_type": "stream",
     "text": [
      "\n"
     ],
     "name": "stdout"
    },
    {
     "output_type": "display_data",
     "data": {
      "application/vnd.jupyter.widget-view+json": {
       "model_id": "3419711f17954be09a4f1fbc7d297333",
       "version_major": 2,
       "version_minor": 0
      },
      "text/plain": [
       "HBox(children=(FloatProgress(value=0.0, description='Downloading', max=31.0, style=ProgressStyle(description_w…"
      ]
     },
     "metadata": {
      "tags": []
     }
    },
    {
     "output_type": "stream",
     "text": [
      "\n"
     ],
     "name": "stdout"
    },
    {
     "output_type": "display_data",
     "data": {
      "application/vnd.jupyter.widget-view+json": {
       "model_id": "b84492f89fd64e0499a155058c4bdcc7",
       "version_major": 2,
       "version_minor": 0
      },
      "text/plain": [
       "HBox(children=(FloatProgress(value=0.0, description='Downloading', max=1786.0, style=ProgressStyle(description…"
      ]
     },
     "metadata": {
      "tags": []
     }
    },
    {
     "output_type": "stream",
     "text": [
      "\n"
     ],
     "name": "stdout"
    },
    {
     "output_type": "display_data",
     "data": {
      "application/vnd.jupyter.widget-view+json": {
       "model_id": "3b37d751f3594bc4959d2ea215315408",
       "version_major": 2,
       "version_minor": 0
      },
      "text/plain": [
       "HBox(children=(FloatProgress(value=0.0, description='Downloading', max=124.0, style=ProgressStyle(description_…"
      ]
     },
     "metadata": {
      "tags": []
     }
    },
    {
     "output_type": "stream",
     "text": [
      "\n"
     ],
     "name": "stdout"
    },
    {
     "output_type": "display_data",
     "data": {
      "application/vnd.jupyter.widget-view+json": {
       "model_id": "25cdd7fb13994cbe91784deba13a9273",
       "version_major": 2,
       "version_minor": 0
      },
      "text/plain": [
       "HBox(children=(FloatProgress(value=0.0, description='Downloading', max=242013376.0, style=ProgressStyle(descri…"
      ]
     },
     "metadata": {
      "tags": []
     }
    },
    {
     "output_type": "stream",
     "text": [
      "\n"
     ],
     "name": "stdout"
    }
   ]
  },
  {
   "cell_type": "code",
   "metadata": {
    "colab": {
     "base_uri": "https://localhost:8080/"
    },
    "id": "4OStNkG_8b1t",
    "outputId": "d931d966-d08a-49a3-df8c-9da0f1e34a01"
   },
   "source": [
    "!pip install textstat\n",
    "!pip install rouge_score\n",
    "\n",
    "%matplotlib inline  \n",
    "import matplotlib.pyplot as plt\n",
    "\n",
    "import math\n",
    "import os\n",
    "import numpy as np\n",
    "import pandas as pd\n",
    "from tqdm import tqdm"
   ],
   "execution_count": null,
   "outputs": [
    {
     "output_type": "stream",
     "text": [
      "Collecting textstat\n",
      "\u001B[?25l  Downloading https://files.pythonhosted.org/packages/ca/b1/ab40a00b727a0d209402d1be6aa3f1bc75bd03678b59ace8507b08bf12f5/textstat-0.7.0-py3-none-any.whl (99kB)\n",
      "\u001B[K     |████████████████████████████████| 102kB 6.3MB/s \n",
      "\u001B[?25hCollecting pyphen\n",
      "\u001B[?25l  Downloading https://files.pythonhosted.org/packages/7c/5a/5bc036e01389bc6a6667a932bac3e388de6e7fa5777a6ff50e652f60ec79/Pyphen-0.10.0-py3-none-any.whl (1.9MB)\n",
      "\u001B[K     |████████████████████████████████| 1.9MB 13.7MB/s \n",
      "\u001B[?25hInstalling collected packages: pyphen, textstat\n",
      "Successfully installed pyphen-0.10.0 textstat-0.7.0\n",
      "Requirement already satisfied: rouge_score in /usr/local/lib/python3.6/dist-packages (0.0.4)\n",
      "Requirement already satisfied: nltk in /usr/local/lib/python3.6/dist-packages (from rouge_score) (3.2.5)\n",
      "Requirement already satisfied: numpy in /usr/local/lib/python3.6/dist-packages (from rouge_score) (1.19.5)\n",
      "Requirement already satisfied: six>=1.14.0 in /usr/local/lib/python3.6/dist-packages (from rouge_score) (1.15.0)\n",
      "Requirement already satisfied: absl-py in /usr/local/lib/python3.6/dist-packages (from rouge_score) (0.10.0)\n"
     ],
     "name": "stdout"
    }
   ]
  },
  {
   "cell_type": "markdown",
   "metadata": {
    "id": "03YRl9dEVUO-"
   },
   "source": [
    "# Data\n"
   ]
  },
  {
   "cell_type": "code",
   "metadata": {
    "id": "jf9adzA3V9br"
   },
   "source": [
    "import os\n",
    "import pandas as pd\n",
    "\n",
    "# files = []\n",
    "# for file in os.listdir('/content/data'):\n",
    "#   if file.endswith('.txt'):\n",
    "#     print(file)\n",
    "#     files.append(file)\n"
   ],
   "execution_count": null,
   "outputs": []
  },
  {
   "cell_type": "code",
   "metadata": {
    "id": "Cz5Os8J-B4fZ"
   },
   "source": [
    "def file_parse(lines):\n",
    "  contexts = []\n",
    "  questions = []\n",
    "  for sample in lines:\n",
    "    sample = sample[:-1]\n",
    "    try:\n",
    "      context, question = sample.split('<sep>')\n",
    "    except:\n",
    "      context = sample\n",
    "      question = None\n",
    "    contexts.append(context)\n",
    "    questions.append(question)\n",
    "  return contexts, questions"
   ],
   "execution_count": null,
   "outputs": []
  },
  {
   "cell_type": "code",
   "metadata": {
    "id": "WH7N6L-OGc_c"
   },
   "source": [
    "def txt_to_df(split='test'):\n",
    "  comp_context = []\n",
    "  simple_context = []\n",
    "  for file in files:\n",
    "    if file.startswith(split):\n",
    "      with open('/content/data/' + file, 'r') as f:\n",
    "        lines = f.readlines()\n",
    "        contexts, questions = file_parse(lines)\n",
    "      if 'source' in file:\n",
    "        comp_context = contexts\n",
    "      if 'target' in file:\n",
    "        simple_context = contexts  \n",
    "  result_df = {'Context': comp_context, \n",
    "           \"Simple Context\": simple_context, \n",
    "           'Questions': questions}\n",
    "  result_df = pd.DataFrame.from_dict(result_df)\n",
    "  return result_df"
   ],
   "execution_count": null,
   "outputs": []
  },
  {
   "cell_type": "code",
   "metadata": {
    "colab": {
     "base_uri": "https://localhost:8080/",
     "height": 402
    },
    "id": "WxBxi5g-GwHB",
    "outputId": "24583ef8-63dc-43a5-c290-38eaae5cbb00"
   },
   "source": [
    "val_df = txt_to_df('val')\n",
    "# val_df.drop_duplicates(subset=['Context'])"
   ],
   "execution_count": null,
   "outputs": [
    {
     "output_type": "execute_result",
     "data": {
      "text/html": [
       "<div>\n",
       "<style scoped>\n",
       "    .dataframe tbody tr th:only-of-type {\n",
       "        vertical-align: middle;\n",
       "    }\n",
       "\n",
       "    .dataframe tbody tr th {\n",
       "        vertical-align: top;\n",
       "    }\n",
       "\n",
       "    .dataframe thead th {\n",
       "        text-align: right;\n",
       "    }\n",
       "</style>\n",
       "<table border=\"1\" class=\"dataframe\">\n",
       "  <thead>\n",
       "    <tr style=\"text-align: right;\">\n",
       "      <th></th>\n",
       "      <th>Context</th>\n",
       "      <th>Simple Context</th>\n",
       "      <th>Questions</th>\n",
       "    </tr>\n",
       "  </thead>\n",
       "  <tbody>\n",
       "    <tr>\n",
       "      <th>0</th>\n",
       "      <td>Sthe american football conference -lrb- afc -r...</td>\n",
       "      <td>The american football conference -lrb- afc -rr...</td>\n",
       "      <td>which nfl team represented the afc at super b...</td>\n",
       "    </tr>\n",
       "    <tr>\n",
       "      <th>1</th>\n",
       "      <td>the american football conference -lrb- afc -rr...</td>\n",
       "      <td>The american football conference -lrb- afc -rr...</td>\n",
       "      <td>which nfl team represented the nfc at super b...</td>\n",
       "    </tr>\n",
       "    <tr>\n",
       "      <th>2</th>\n",
       "      <td>the game was played on february 7 , 2016 , at ...</td>\n",
       "      <td>The game was played on 7th January 2008 at lev...</td>\n",
       "      <td>where did super bowl 50 take place ?</td>\n",
       "    </tr>\n",
       "    <tr>\n",
       "      <th>11</th>\n",
       "      <td>super bowl 50 was an american football game to...</td>\n",
       "      <td>super bowl 50 was an american football game . ...</td>\n",
       "      <td>super bowl 50 decided the nfl champion for wh...</td>\n",
       "    </tr>\n",
       "    <tr>\n",
       "      <th>26</th>\n",
       "      <td>the panthers finished the regular season with ...</td>\n",
       "      <td>The season finished the regular season with a ...</td>\n",
       "      <td>which carolina panthers player was named most...</td>\n",
       "    </tr>\n",
       "    <tr>\n",
       "      <th>...</th>\n",
       "      <td>...</td>\n",
       "      <td>...</td>\n",
       "      <td>...</td>\n",
       "    </tr>\n",
       "    <tr>\n",
       "      <th>7702</th>\n",
       "      <td>according to the second law of thermodynamics ...</td>\n",
       "      <td>According to the second law of thermodynamics ...</td>\n",
       "      <td>what is the law of thermodynamics associated ...</td>\n",
       "    </tr>\n",
       "    <tr>\n",
       "      <th>7704</th>\n",
       "      <td>the pound-force has a metric counterpart , les...</td>\n",
       "      <td>The pound-force is less commonly used than the...</td>\n",
       "      <td>what is the metric term less used than the ne...</td>\n",
       "    </tr>\n",
       "    <tr>\n",
       "      <th>7706</th>\n",
       "      <td>the kilogram-force leads to an alternate , but...</td>\n",
       "      <td>The kilogram-force leads to an alternate , but...</td>\n",
       "      <td>what is a very seldom used unit of mass in th...</td>\n",
       "    </tr>\n",
       "    <tr>\n",
       "      <th>7707</th>\n",
       "      <td>other arcane units of force include the sthène...</td>\n",
       "      <td>other arcane units of force include the sthène...</td>\n",
       "      <td>what seldom used term of a unit of force equa...</td>\n",
       "    </tr>\n",
       "    <tr>\n",
       "      <th>7708</th>\n",
       "      <td>other arcane units of force include the sthène...</td>\n",
       "      <td>other arcane units of force include the sthène...</td>\n",
       "      <td>what is the seldom used force unit equal to o...</td>\n",
       "    </tr>\n",
       "  </tbody>\n",
       "</table>\n",
       "<p>5408 rows × 3 columns</p>\n",
       "</div>"
      ],
      "text/plain": [
       "                                                Context  ...                                          Questions\n",
       "0     Sthe american football conference -lrb- afc -r...  ...   which nfl team represented the afc at super b...\n",
       "1     the american football conference -lrb- afc -rr...  ...   which nfl team represented the nfc at super b...\n",
       "2     the game was played on february 7 , 2016 , at ...  ...               where did super bowl 50 take place ?\n",
       "11    super bowl 50 was an american football game to...  ...   super bowl 50 decided the nfl champion for wh...\n",
       "26    the panthers finished the regular season with ...  ...   which carolina panthers player was named most...\n",
       "...                                                 ...  ...                                                ...\n",
       "7702  according to the second law of thermodynamics ...  ...   what is the law of thermodynamics associated ...\n",
       "7704  the pound-force has a metric counterpart , les...  ...   what is the metric term less used than the ne...\n",
       "7706  the kilogram-force leads to an alternate , but...  ...   what is a very seldom used unit of mass in th...\n",
       "7707  other arcane units of force include the sthène...  ...   what seldom used term of a unit of force equa...\n",
       "7708  other arcane units of force include the sthène...  ...   what is the seldom used force unit equal to o...\n",
       "\n",
       "[5408 rows x 3 columns]"
      ]
     },
     "metadata": {
      "tags": []
     },
     "execution_count": 19
    }
   ]
  },
  {
   "cell_type": "code",
   "metadata": {
    "colab": {
     "base_uri": "https://localhost:8080/",
     "height": 402
    },
    "id": "2Hi5eADnGMwO",
    "outputId": "e3e66404-3bc5-4e97-d596-0f766ac73e7c"
   },
   "source": [
    "test_df = txt_to_df('test')\n",
    "# test_df.to_csv('/content/drive/MyDrive/test_data_squad.csv')\n",
    "test_df"
   ],
   "execution_count": null,
   "outputs": [
    {
     "output_type": "execute_result",
     "data": {
      "text/html": [
       "<div>\n",
       "<style scoped>\n",
       "    .dataframe tbody tr th:only-of-type {\n",
       "        vertical-align: middle;\n",
       "    }\n",
       "\n",
       "    .dataframe tbody tr th {\n",
       "        vertical-align: top;\n",
       "    }\n",
       "\n",
       "    .dataframe thead th {\n",
       "        text-align: right;\n",
       "    }\n",
       "</style>\n",
       "<table border=\"1\" class=\"dataframe\">\n",
       "  <thead>\n",
       "    <tr style=\"text-align: right;\">\n",
       "      <th></th>\n",
       "      <th>Context</th>\n",
       "      <th>Simple Context</th>\n",
       "      <th>Questions</th>\n",
       "    </tr>\n",
       "  </thead>\n",
       "  <tbody>\n",
       "    <tr>\n",
       "      <th>0</th>\n",
       "      <td>it is a replica of the grotto at lourdes , fra...</td>\n",
       "      <td>The grotto can be found at lourdes , france wh...</td>\n",
       "      <td>to whom did the virgin mary allegedly appear ...</td>\n",
       "    </tr>\n",
       "    <tr>\n",
       "      <th>1</th>\n",
       "      <td>immediately in front of the main building and ...</td>\n",
       "      <td>However , in front of the main building and fa...</td>\n",
       "      <td>what is in front of the notre dame main build...</td>\n",
       "    </tr>\n",
       "    <tr>\n",
       "      <th>2</th>\n",
       "      <td>next to the main building is the basilica of t...</td>\n",
       "      <td>next to the main building is the basilica of t...</td>\n",
       "      <td>the basilica of the sacred heart at notre dam...</td>\n",
       "    </tr>\n",
       "    <tr>\n",
       "      <th>3</th>\n",
       "      <td>immediately behind the basilica is the grotto ...</td>\n",
       "      <td>immediately behind the basilica is the grotto ...</td>\n",
       "      <td>what is the grotto at notre dame ?</td>\n",
       "    </tr>\n",
       "    <tr>\n",
       "      <th>4</th>\n",
       "      <td>atop the main building 's gold dome is a golde...</td>\n",
       "      <td>Atop the main building 's gold dome is a large...</td>\n",
       "      <td>what sits on top of the main building at notr...</td>\n",
       "    </tr>\n",
       "    <tr>\n",
       "      <th>...</th>\n",
       "      <td>...</td>\n",
       "      <td>...</td>\n",
       "      <td>...</td>\n",
       "    </tr>\n",
       "    <tr>\n",
       "      <th>8881</th>\n",
       "      <td>notable athletes include swimmer sharron davie...</td>\n",
       "      <td>notable athletes include swimmer sharron davie...</td>\n",
       "      <td>what is the occupation of trevor francis ?</td>\n",
       "    </tr>\n",
       "    <tr>\n",
       "      <th>8882</th>\n",
       "      <td>canadian politician and legal scholar chris ax...</td>\n",
       "      <td>canadian politician and legal scholar chris me...</td>\n",
       "      <td>what is the current nationality of former ply...</td>\n",
       "    </tr>\n",
       "    <tr>\n",
       "      <th>8883</th>\n",
       "      <td>america based actor donald moffat , whose role...</td>\n",
       "      <td>american roles include american vice president...</td>\n",
       "      <td>what united states vice president did donald ...</td>\n",
       "    </tr>\n",
       "    <tr>\n",
       "      <th>8884</th>\n",
       "      <td>america based actor donald moffat , whose role...</td>\n",
       "      <td>american roles include american vice president...</td>\n",
       "      <td>in what film did donald moffat play president...</td>\n",
       "    </tr>\n",
       "    <tr>\n",
       "      <th>8885</th>\n",
       "      <td>other past residents include composer journali...</td>\n",
       "      <td>Other people who live there include composer j...</td>\n",
       "      <td>what is dawn french 's job</td>\n",
       "    </tr>\n",
       "  </tbody>\n",
       "</table>\n",
       "<p>8886 rows × 3 columns</p>\n",
       "</div>"
      ],
      "text/plain": [
       "                                                Context  ...                                          Questions\n",
       "0     it is a replica of the grotto at lourdes , fra...  ...   to whom did the virgin mary allegedly appear ...\n",
       "1     immediately in front of the main building and ...  ...   what is in front of the notre dame main build...\n",
       "2     next to the main building is the basilica of t...  ...   the basilica of the sacred heart at notre dam...\n",
       "3     immediately behind the basilica is the grotto ...  ...                 what is the grotto at notre dame ?\n",
       "4     atop the main building 's gold dome is a golde...  ...   what sits on top of the main building at notr...\n",
       "...                                                 ...  ...                                                ...\n",
       "8881  notable athletes include swimmer sharron davie...  ...         what is the occupation of trevor francis ?\n",
       "8882  canadian politician and legal scholar chris ax...  ...   what is the current nationality of former ply...\n",
       "8883  america based actor donald moffat , whose role...  ...   what united states vice president did donald ...\n",
       "8884  america based actor donald moffat , whose role...  ...   in what film did donald moffat play president...\n",
       "8885  other past residents include composer journali...  ...                         what is dawn french 's job\n",
       "\n",
       "[8886 rows x 3 columns]"
      ]
     },
     "metadata": {
      "tags": []
     },
     "execution_count": 7
    }
   ]
  },
  {
   "cell_type": "code",
   "metadata": {
    "colab": {
     "base_uri": "https://localhost:8080/",
     "height": 402
    },
    "id": "Mv8dQkhcGaVx",
    "outputId": "bb2766fa-42ef-4cce-e9a9-1843a90c3438"
   },
   "source": [
    "train_df = txt_to_df('train')\n",
    "train_df"
   ],
   "execution_count": null,
   "outputs": [
    {
     "output_type": "execute_result",
     "data": {
      "text/html": [
       "<div>\n",
       "<style scoped>\n",
       "    .dataframe tbody tr th:only-of-type {\n",
       "        vertical-align: middle;\n",
       "    }\n",
       "\n",
       "    .dataframe tbody tr th {\n",
       "        vertical-align: top;\n",
       "    }\n",
       "\n",
       "    .dataframe thead th {\n",
       "        text-align: right;\n",
       "    }\n",
       "</style>\n",
       "<table border=\"1\" class=\"dataframe\">\n",
       "  <thead>\n",
       "    <tr style=\"text-align: right;\">\n",
       "      <th></th>\n",
       "      <th>Context</th>\n",
       "      <th>Simple Context</th>\n",
       "      <th>Questions</th>\n",
       "    </tr>\n",
       "  </thead>\n",
       "  <tbody>\n",
       "    <tr>\n",
       "      <th>0</th>\n",
       "      <td>a pub / pʌb / , or public house is , despite i...</td>\n",
       "      <td>A pub / p Orderb / , or public house , is , de...</td>\n",
       "      <td>what is a pub licensed to sell ?</td>\n",
       "    </tr>\n",
       "    <tr>\n",
       "      <th>1</th>\n",
       "      <td>a pub / pʌb / , or public house is , despite i...</td>\n",
       "      <td>A pub / p Orderb / , or public house , is , de...</td>\n",
       "      <td>what is the term ` pub ' short for ?</td>\n",
       "    </tr>\n",
       "    <tr>\n",
       "      <th>2</th>\n",
       "      <td>the writings of samuel pepys describe the pub ...</td>\n",
       "      <td>The writings of samuel pepys are often called ...</td>\n",
       "      <td>who said that pubs are the heart of england ?</td>\n",
       "    </tr>\n",
       "    <tr>\n",
       "      <th>3</th>\n",
       "      <td>the history of pubs can be traced back to roma...</td>\n",
       "      <td>The history of pubs goes through the anglo-sax...</td>\n",
       "      <td>how far back does the history of pubs go back ?</td>\n",
       "    </tr>\n",
       "    <tr>\n",
       "      <th>4</th>\n",
       "      <td>the history of pubs can be traced back to roma...</td>\n",
       "      <td>The history of pubs goes through the anglo-sax...</td>\n",
       "      <td>what is a pub tied to in the 19th century ?</td>\n",
       "    </tr>\n",
       "    <tr>\n",
       "      <th>...</th>\n",
       "      <td>...</td>\n",
       "      <td>...</td>\n",
       "      <td>...</td>\n",
       "    </tr>\n",
       "    <tr>\n",
       "      <th>52451</th>\n",
       "      <td>a recent extension to the international termin...</td>\n",
       "      <td>A recent extension to the international termin...</td>\n",
       "      <td>from what city does arkefly offer nonstop fli...</td>\n",
       "    </tr>\n",
       "    <tr>\n",
       "      <th>52452</th>\n",
       "      <td>since 2013 , turkish airlines connects istanbu...</td>\n",
       "      <td>Since 2013 , turkish airlines connect the isla...</td>\n",
       "      <td>who operates flights between kathmandu and is...</td>\n",
       "    </tr>\n",
       "    <tr>\n",
       "      <th>52453</th>\n",
       "      <td>kmc 's first international relationship was es...</td>\n",
       "      <td>kmc 's first international relationship was st...</td>\n",
       "      <td>in what us state did kathmandu first establis...</td>\n",
       "    </tr>\n",
       "    <tr>\n",
       "      <th>52454</th>\n",
       "      <td>kmc 's first international relationship was es...</td>\n",
       "      <td>kmc 's first international relationship was st...</td>\n",
       "      <td>in what year did kathmandu create its initial...</td>\n",
       "    </tr>\n",
       "    <tr>\n",
       "      <th>52455</th>\n",
       "      <td>kathmandu metropolitan city -lrb- kmc -rrb- , ...</td>\n",
       "      <td>kathmandu metropolitan city -lrb- kmc -rrb- , ...</td>\n",
       "      <td>what is kmc an initialism of</td>\n",
       "    </tr>\n",
       "  </tbody>\n",
       "</table>\n",
       "<p>52456 rows × 3 columns</p>\n",
       "</div>"
      ],
      "text/plain": [
       "                                                 Context  ...                                          Questions\n",
       "0      a pub / pʌb / , or public house is , despite i...  ...                   what is a pub licensed to sell ?\n",
       "1      a pub / pʌb / , or public house is , despite i...  ...               what is the term ` pub ' short for ?\n",
       "2      the writings of samuel pepys describe the pub ...  ...      who said that pubs are the heart of england ?\n",
       "3      the history of pubs can be traced back to roma...  ...    how far back does the history of pubs go back ?\n",
       "4      the history of pubs can be traced back to roma...  ...        what is a pub tied to in the 19th century ?\n",
       "...                                                  ...  ...                                                ...\n",
       "52451  a recent extension to the international termin...  ...   from what city does arkefly offer nonstop fli...\n",
       "52452  since 2013 , turkish airlines connects istanbu...  ...   who operates flights between kathmandu and is...\n",
       "52453  kmc 's first international relationship was es...  ...   in what us state did kathmandu first establis...\n",
       "52454  kmc 's first international relationship was es...  ...   in what year did kathmandu create its initial...\n",
       "52455  kathmandu metropolitan city -lrb- kmc -rrb- , ...  ...                       what is kmc an initialism of\n",
       "\n",
       "[52456 rows x 3 columns]"
      ]
     },
     "metadata": {
      "tags": []
     },
     "execution_count": 15
    }
   ]
  },
  {
   "cell_type": "code",
   "metadata": {
    "id": "9AiEZbR5dh72"
   },
   "source": [
    "gen_context = []\n",
    "gen_questions = []\n",
    "with open(\"/content/drive/MyDrive/result-dev (1).txt\", 'r') as f:\n",
    "  lines = f.readlines()\n",
    "  for line in lines:\n",
    "    try:\n",
    "      context, question = line[:-1].split('<sep>')\n",
    "    except:\n",
    "      context = line[:-1]\n",
    "      question = None\n",
    "    gen_context.append(context)\n",
    "    gen_questions.append(question)\n",
    "\n",
    "# gen_df = {'Generated Context': gen_context,\n",
    "          # 'Generated Question': gen_questions}\n",
    "# val_df['Generated Context'] = gen_context\n",
    "# val_df['Generated Question'] = gen_questions"
   ],
   "execution_count": null,
   "outputs": []
  },
  {
   "cell_type": "markdown",
   "metadata": {
    "id": "ED454NL_esEF"
   },
   "source": [
    "Generate on test data! "
   ]
  },
  {
   "cell_type": "markdown",
   "metadata": {
    "id": "GEJLpdf-d3Yo"
   },
   "source": [
    "# Train Model\n"
   ]
  },
  {
   "cell_type": "code",
   "metadata": {
    "id": "B_a7xUVBd6ED"
   },
   "source": [
    "from tqdm.auto import tqdm\n",
    "import torch\n",
    "from torch import nn\n",
    "from torch.utils.data import DistributedSampler, RandomSampler\n",
    "\n",
    "import logging\n",
    "import os\n",
    "import sys\n",
    "import copy\n",
    "from dataclasses import dataclass, field\n",
    "from typing import Optional\n",
    "import numpy as np\n",
    "\n",
    "from transformers import (\n",
    "    AutoConfig,\n",
    "    AutoModelForSeq2SeqLM,\n",
    "    AutoTokenizer,\n",
    "    HfArgumentParser,\n",
    "    MBartTokenizer,\n",
    "    TrainingArguments,\n",
    "    set_seed,\n",
    "    Trainer,\n",
    ")\n",
    "\n",
    "from transformers.trainer_utils import EvaluationStrategy\n",
    "from transformers.optimization import (\n",
    "    Adafactor,\n",
    "    AdamW,\n",
    "    get_constant_schedule,\n",
    "    get_constant_schedule_with_warmup,\n",
    "    get_cosine_schedule_with_warmup,\n",
    "    get_cosine_with_hard_restarts_schedule_with_warmup,\n",
    "    get_linear_schedule_with_warmup,\n",
    "    get_polynomial_decay_schedule_with_warmup,\n",
    ")\n",
    "\n",
    "from typing import Any, Dict, Optional, Tuple, Union\n",
    "\n",
    "import torch\n",
    "from torch import nn\n",
    "from torch.utils.data import DistributedSampler, RandomSampler\n",
    "\n",
    "from transformers import PreTrainedModel, Trainer, logging\n",
    "from transformers.file_utils import is_torch_tpu_available"
   ],
   "execution_count": null,
   "outputs": []
  },
  {
   "cell_type": "code",
   "metadata": {
    "colab": {
     "base_uri": "https://localhost:8080/"
    },
    "id": "qbFYN49mefAG",
    "outputId": "3db5b1c3-7803-4bcc-c17b-785fa389cc79"
   },
   "source": [
    "!wandb login <your key>"
   ],
   "execution_count": null,
   "outputs": [
    {
     "output_type": "stream",
     "text": [
      "\u001B[34m\u001B[1mwandb\u001B[0m: Appending key for api.wandb.ai to your netrc file: /root/.netrc\n"
     ],
     "name": "stdout"
    }
   ]
  },
  {
   "cell_type": "markdown",
   "metadata": {
    "id": "e0bBcvwTei6c"
   },
   "source": [
    "Change finetune and utils\r\n"
   ]
  },
  {
   "cell_type": "code",
   "metadata": {
    "colab": {
     "base_uri": "https://localhost:8080/"
    },
    "id": "E7ZJmjZ3eifp",
    "outputId": "0e20c7c5-d8d7-481f-8c40-81e1e9109ef8"
   },
   "source": [
    "!python3 '/content/transformers_/examples/seq2seq/finetune.py' \\\r\n",
    "--data_dir '/content/data_qg' \\\r\n",
    "--model_name_or_path  \"valhalla/t5-small-e2e-qg\" --tokenizer_name  \"valhalla/t5-small-e2e-qg\" \\\r\n",
    "--learning_rate=5e-5 \\\r\n",
    "--train_batch_size 4 \\\r\n",
    "--eval_beams 4 --eval_max_gen_length 350 \\\r\n",
    "--max_source_length 355 \\\r\n",
    "--max_target_length 355 \\\r\n",
    "--val_max_target_length 355 \\\r\n",
    "--test_max_target_length 355 \\\r\n",
    "--num_train_epochs 1 --do_train \\\r\n",
    "--val_check_interval 0.25 --n_val 500 \\\r\n",
    "--output_dir '/content/drive/My Drive/model_squad' --gpus 1 \\\r\n",
    "--save_top_k 3 --overwrite_output_dir \\\r\n",
    "--freeze_embeds --freeze_encoder \\\r\n",
    "--logger_name wandb\r\n",
    "# --do_predict \\\r\n",
    "# \r\n",
    "# --model_name_or_path '/content/drive/My Drive/model/best_tfmr' --tokenizer_name '/content/drive/My Drive/model/best_tfmr' \\"
   ],
   "execution_count": null,
   "outputs": [
    {
     "output_type": "stream",
     "text": [
      "2021-02-17 12:00:53.571580: I tensorflow/stream_executor/platform/default/dso_loader.cc:49] Successfully opened dynamic library libcudart.so.10.1\n",
      "/usr/local/lib/python3.6/dist-packages/pytorch_lightning/utilities/distributed.py:45: UserWarning: Checkpoint directory /content/drive/My Drive/model_squad exists and is not empty. With save_top_k=3, all files in this directory will be deleted when a checkpoint is saved!\n",
      "  warnings.warn(*args, **kwargs)\n",
      "GPU available: True, used: True\n",
      "TPU available: False, using: 0 TPU cores\n",
      "LOCAL_RANK: 0 - CUDA_VISIBLE_DEVICES: [0]\n",
      "\u001B[34m\u001B[1mwandb\u001B[0m: Currently logged in as: \u001B[33mleushina\u001B[0m (use `wandb login --relogin` to force relogin)\n",
      "2021-02-17 12:01:07.002675: I tensorflow/stream_executor/platform/default/dso_loader.cc:49] Successfully opened dynamic library libcudart.so.10.1\n",
      "\u001B[34m\u001B[1mwandb\u001B[0m: Tracking run with wandb version 0.10.19\n",
      "\u001B[34m\u001B[1mwandb\u001B[0m: Syncing run \u001B[33mmodel_squad\u001B[0m\n",
      "\u001B[34m\u001B[1mwandb\u001B[0m: ⭐️ View project at \u001B[34m\u001B[4mhttps://wandb.ai/leushina/data_qg\u001B[0m\n",
      "\u001B[34m\u001B[1mwandb\u001B[0m: 🚀 View run at \u001B[34m\u001B[4mhttps://wandb.ai/leushina/data_qg/runs/ntad0noz\u001B[0m\n",
      "\u001B[34m\u001B[1mwandb\u001B[0m: Run data is saved locally in /content/wandb/run-20210217_120105-ntad0noz\n",
      "\u001B[34m\u001B[1mwandb\u001B[0m: Run `wandb offline` to turn off syncing.\n",
      "\n",
      "Validation sanity check: 100%|██████████| 2/2 [00:32<00:00, 16.13s/it]/usr/local/lib/python3.6/dist-packages/pytorch_lightning/utilities/distributed.py:45: UserWarning: The validation_epoch_end should not return anything as of 9.1.to log, use self.log(...) or self.write(...) directly in the LightningModule\n",
      "  warnings.warn(*args, **kwargs)\n",
      "/usr/local/lib/python3.6/dist-packages/pytorch_lightning/utilities/distributed.py:45: UserWarning: The {log:dict keyword} was deprecated in 0.9.1 and will be removed in 1.0.0\n",
      "Please use self.log(...) inside the lightningModule instead.\n",
      "\n",
      "# log on a step or aggregate epoch metric to the logger and/or progress bar\n",
      "# (inside LightningModule)\n",
      "self.log('train_loss', loss, on_step=True, on_epoch=True, prog_bar=True)\n",
      "  warnings.warn(*args, **kwargs)\n",
      "Epoch 0:  25%|██▍       | 3278/13178 [06:19<19:05,  8.64it/s, loss=1.110, v_num=0noz]\n",
      "Validating: 0it [00:00, ?it/s]\u001B[A\n",
      "Epoch 0:  25%|██▍       | 3279/13178 [06:30<19:37,  8.41it/s, loss=1.110, v_num=0noz]\n",
      "Epoch 0:  25%|██▍       | 3280/13178 [06:38<20:02,  8.23it/s, loss=1.110, v_num=0noz]\n",
      "Epoch 0:  25%|██▍       | 3281/13178 [06:49<20:34,  8.01it/s, loss=1.110, v_num=0noz]\n",
      "Epoch 0:  25%|██▍       | 3282/13178 [06:59<21:05,  7.82it/s, loss=1.110, v_num=0noz]\n",
      "Epoch 0:  25%|██▍       | 3283/13178 [07:10<21:36,  7.63it/s, loss=1.110, v_num=0noz]\n",
      "Epoch 0:  25%|██▍       | 3284/13178 [07:19<22:04,  7.47it/s, loss=1.110, v_num=0noz]\n",
      "Epoch 0:  25%|██▍       | 3285/13178 [07:28<22:30,  7.33it/s, loss=1.110, v_num=0noz]\n",
      "Epoch 0:  25%|██▍       | 3286/13178 [07:38<22:59,  7.17it/s, loss=1.110, v_num=0noz]\n",
      "Epoch 0:  25%|██▍       | 3287/13178 [07:47<23:26,  7.03it/s, loss=1.110, v_num=0noz]\n",
      "Epoch 0:  25%|██▍       | 3288/13178 [07:58<23:58,  6.88it/s, loss=1.110, v_num=0noz]\n",
      "Epoch 0:  25%|██▍       | 3289/13178 [08:06<24:23,  6.76it/s, loss=1.110, v_num=0noz]\n",
      "Epoch 0:  25%|██▍       | 3290/13178 [08:16<24:52,  6.63it/s, loss=1.110, v_num=0noz]\n",
      "Epoch 0:  25%|██▍       | 3291/13178 [08:25<25:17,  6.52it/s, loss=1.110, v_num=0noz]\n",
      "Epoch 0:  25%|██▍       | 3292/13178 [08:35<25:48,  6.39it/s, loss=1.110, v_num=0noz]\n",
      "Epoch 0:  25%|██▍       | 3293/13178 [08:46<26:20,  6.26it/s, loss=1.110, v_num=0noz]\n",
      "Epoch 0:  25%|██▍       | 3294/13178 [08:54<26:43,  6.17it/s, loss=1.110, v_num=0noz]/usr/local/lib/python3.6/dist-packages/torch/optim/lr_scheduler.py:216: UserWarning: Please also save or load the state of the optimizer when saving or loading the scheduler.\n",
      "  warnings.warn(SAVE_STATE_WARNING, UserWarning)\n",
      "Epoch 0:  25%|██▍       | 3294/13178 [08:58<26:56,  6.11it/s, loss=1.110, v_num=0noz]\n",
      "Epoch 0:  50%|████▉     | 6572/13178 [15:19<15:24,  7.14it/s, loss=1.056, v_num=0noz]\n",
      "Epoch 0:  50%|████▉     | 6572/13178 [15:30<15:34,  7.07it/s, loss=1.056, v_num=0noz]\n",
      "Epoch 0:  50%|████▉     | 6573/13178 [15:30<15:35,  7.06it/s, loss=1.056, v_num=0noz]\n",
      "Epoch 0:  50%|████▉     | 6574/13178 [15:39<15:44,  6.99it/s, loss=1.056, v_num=0noz]\n",
      "Epoch 0:  50%|████▉     | 6575/13178 [15:50<15:54,  6.92it/s, loss=1.056, v_num=0noz]\n",
      "Epoch 0:  50%|████▉     | 6576/13178 [16:01<16:04,  6.84it/s, loss=1.056, v_num=0noz]\n",
      "Epoch 0:  50%|████▉     | 6577/13178 [16:11<16:15,  6.77it/s, loss=1.056, v_num=0noz]\n",
      "Epoch 0:  50%|████▉     | 6578/13178 [16:23<16:26,  6.69it/s, loss=1.056, v_num=0noz]\n",
      "Epoch 0:  50%|████▉     | 6579/13178 [16:32<16:35,  6.63it/s, loss=1.056, v_num=0noz]\n",
      "Epoch 0:  50%|████▉     | 6580/13178 [16:42<16:45,  6.56it/s, loss=1.056, v_num=0noz]\n",
      "Epoch 0:  50%|████▉     | 6581/13178 [16:53<16:55,  6.50it/s, loss=1.056, v_num=0noz]\n",
      "Epoch 0:  50%|████▉     | 6582/13178 [17:03<17:05,  6.43it/s, loss=1.056, v_num=0noz]\n",
      "Epoch 0:  50%|████▉     | 6583/13178 [17:13<17:14,  6.37it/s, loss=1.056, v_num=0noz]\n",
      "Epoch 0:  50%|████▉     | 6584/13178 [17:21<17:23,  6.32it/s, loss=1.056, v_num=0noz]\n",
      "Epoch 0:  50%|████▉     | 6585/13178 [17:30<17:32,  6.27it/s, loss=1.056, v_num=0noz]\n",
      "Epoch 0:  50%|████▉     | 6586/13178 [17:40<17:41,  6.21it/s, loss=1.056, v_num=0noz]\n",
      "Epoch 0:  50%|████▉     | 6587/13178 [17:50<17:51,  6.15it/s, loss=1.056, v_num=0noz]\n",
      "Epoch 0:  50%|████▉     | 6588/13178 [18:02<18:02,  6.09it/s, loss=1.056, v_num=0noz]\n",
      "Epoch 0:  75%|███████▍  | 9866/13178 [24:23<08:11,  6.74it/s, loss=0.961, v_num=0noz]\n",
      "Validating: 0it [00:00, ?it/s]\u001B[A\n",
      "Epoch 0:  75%|███████▍  | 9867/13178 [24:40<08:16,  6.67it/s, loss=0.961, v_num=0noz]\n",
      "Epoch 0:  75%|███████▍  | 9868/13178 [24:43<08:17,  6.65it/s, loss=0.961, v_num=0noz]\n",
      "Epoch 0:  75%|███████▍  | 9869/13178 [24:54<08:20,  6.61it/s, loss=0.961, v_num=0noz]\n",
      "Epoch 0:  75%|███████▍  | 9870/13178 [25:05<08:24,  6.56it/s, loss=0.961, v_num=0noz]\n",
      "Epoch 0:  75%|███████▍  | 9871/13178 [25:14<08:27,  6.52it/s, loss=0.961, v_num=0noz]\n",
      "Epoch 0:  75%|███████▍  | 9872/13178 [25:23<08:30,  6.48it/s, loss=0.961, v_num=0noz]\n",
      "Epoch 0:  75%|███████▍  | 9873/13178 [25:34<08:33,  6.44it/s, loss=0.961, v_num=0noz]\n",
      "Epoch 0:  75%|███████▍  | 9874/13178 [25:45<08:37,  6.39it/s, loss=0.961, v_num=0noz]\n",
      "Epoch 0:  75%|███████▍  | 9875/13178 [25:55<08:40,  6.35it/s, loss=0.961, v_num=0noz]\n",
      "Epoch 0:  75%|███████▍  | 9876/13178 [26:05<08:43,  6.31it/s, loss=0.961, v_num=0noz]\n",
      "Epoch 0:  75%|███████▍  | 9877/13178 [26:14<08:46,  6.27it/s, loss=0.961, v_num=0noz]\n",
      "Epoch 0:  75%|███████▍  | 9878/13178 [26:23<08:49,  6.24it/s, loss=0.961, v_num=0noz]\n",
      "Epoch 0:  75%|███████▍  | 9879/13178 [26:33<08:52,  6.20it/s, loss=0.961, v_num=0noz]\n",
      "Epoch 0:  75%|███████▍  | 9880/13178 [26:43<08:55,  6.16it/s, loss=0.961, v_num=0noz]\n",
      "Epoch 0:  75%|███████▍  | 9881/13178 [26:54<08:58,  6.12it/s, loss=0.961, v_num=0noz]\n",
      "Epoch 0:  75%|███████▍  | 9882/13178 [27:06<09:02,  6.08it/s, loss=0.961, v_num=0noz]\n",
      "Epoch 0: 100%|█████████▉| 13160/13178 [33:27<00:02,  6.55it/s, loss=1.056, v_num=0noz]\n",
      "Validating: 0it [00:00, ?it/s]\u001B[A\n",
      "Epoch 0: 100%|█████████▉| 13161/13178 [33:40<00:02,  6.51it/s, loss=1.056, v_num=0noz]\n",
      "Epoch 0: 100%|█████████▉| 13162/13178 [33:48<00:02,  6.49it/s, loss=1.056, v_num=0noz]\n",
      "Epoch 0: 100%|█████████▉| 13163/13178 [33:58<00:02,  6.46it/s, loss=1.056, v_num=0noz]\n",
      "Epoch 0: 100%|█████████▉| 13164/13178 [34:09<00:02,  6.42it/s, loss=1.056, v_num=0noz]\n",
      "Epoch 0: 100%|█████████▉| 13165/13178 [34:19<00:02,  6.39it/s, loss=1.056, v_num=0noz]\n",
      "Epoch 0: 100%|█████████▉| 13166/13178 [34:29<00:01,  6.36it/s, loss=1.056, v_num=0noz]\n",
      "Epoch 0: 100%|█████████▉| 13167/13178 [34:38<00:01,  6.33it/s, loss=1.056, v_num=0noz]\n",
      "Epoch 0: 100%|█████████▉| 13168/13178 [34:48<00:01,  6.30it/s, loss=1.056, v_num=0noz]\n",
      "Epoch 0: 100%|█████████▉| 13169/13178 [34:58<00:01,  6.27it/s, loss=1.056, v_num=0noz]\n",
      "Epoch 0: 100%|█████████▉| 13170/13178 [35:08<00:01,  6.24it/s, loss=1.056, v_num=0noz]\n",
      "Epoch 0: 100%|█████████▉| 13171/13178 [35:18<00:01,  6.22it/s, loss=1.056, v_num=0noz]\n",
      "Epoch 0: 100%|█████████▉| 13172/13178 [35:27<00:00,  6.19it/s, loss=1.056, v_num=0noz]\n",
      "Epoch 0: 100%|█████████▉| 13173/13178 [35:37<00:00,  6.16it/s, loss=1.056, v_num=0noz]\n",
      "Epoch 0: 100%|█████████▉| 13174/13178 [35:46<00:00,  6.14it/s, loss=1.056, v_num=0noz]\n",
      "Epoch 0: 100%|█████████▉| 13175/13178 [35:58<00:00,  6.10it/s, loss=1.056, v_num=0noz]\n",
      "Epoch 0: 100%|█████████▉| 13176/13178 [36:10<00:00,  6.07it/s, loss=1.056, v_num=0noz]\n",
      "Epoch 0: 100%|██████████| 13178/13178 [36:15<00:00,  6.06it/s, loss=1.032, v_num=0noz]\n",
      "\n",
      "\u001B[34m\u001B[1mwandb\u001B[0m: Waiting for W&B process to finish, PID 691\n",
      "\u001B[34m\u001B[1mwandb\u001B[0m: Program ended successfully.\n",
      "\u001B[34m\u001B[1mwandb\u001B[0m:                                                                                \n",
      "\u001B[34m\u001B[1mwandb\u001B[0m: Find user logs for this run at: /content/wandb/run-20210217_120105-ntad0noz/logs/debug.log\n",
      "\u001B[34m\u001B[1mwandb\u001B[0m: Find internal logs for this run at: /content/wandb/run-20210217_120105-ntad0noz/logs/debug-internal.log\n",
      "\u001B[34m\u001B[1mwandb\u001B[0m: Run summary:\n",
      "\u001B[34m\u001B[1mwandb\u001B[0m:            n_params 60494080\n",
      "\u001B[34m\u001B[1mwandb\u001B[0m:                  mp 60.49408\n",
      "\u001B[34m\u001B[1mwandb\u001B[0m:             grad_mp 25.17606\n",
      "\u001B[34m\u001B[1mwandb\u001B[0m:            _runtime 2207\n",
      "\u001B[34m\u001B[1mwandb\u001B[0m:          _timestamp 1613565472\n",
      "\u001B[34m\u001B[1mwandb\u001B[0m:               _step 13380\n",
      "\u001B[34m\u001B[1mwandb\u001B[0m:          lr_group_0 0.0\n",
      "\u001B[34m\u001B[1mwandb\u001B[0m:          lr_group_1 0.0\n",
      "\u001B[34m\u001B[1mwandb\u001B[0m:         global_step 13111\n",
      "\u001B[34m\u001B[1mwandb\u001B[0m:                loss 1.49007\n",
      "\u001B[34m\u001B[1mwandb\u001B[0m:                 tpb 539\n",
      "\u001B[34m\u001B[1mwandb\u001B[0m:                  bs 4\n",
      "\u001B[34m\u001B[1mwandb\u001B[0m:         src_pad_tok 39\n",
      "\u001B[34m\u001B[1mwandb\u001B[0m:        src_pad_frac 0.11747\n",
      "\u001B[34m\u001B[1mwandb\u001B[0m:               epoch 0\n",
      "\u001B[34m\u001B[1mwandb\u001B[0m:        val_avg_loss 0.89591\n",
      "\u001B[34m\u001B[1mwandb\u001B[0m:      val_avg_rouge1 75.52851\n",
      "\u001B[34m\u001B[1mwandb\u001B[0m:      val_avg_rouge2 58.29394\n",
      "\u001B[34m\u001B[1mwandb\u001B[0m:      val_avg_rougeL 72.16996\n",
      "\u001B[34m\u001B[1mwandb\u001B[0m:   val_avg_rougeLsum 73.79654\n",
      "\u001B[34m\u001B[1mwandb\u001B[0m:    val_avg_gen_time 0.22792\n",
      "\u001B[34m\u001B[1mwandb\u001B[0m:     val_avg_gen_len 76.875\n",
      "\u001B[34m\u001B[1mwandb\u001B[0m:          step_count 5\n",
      "\u001B[34m\u001B[1mwandb\u001B[0m: Run history:\n",
      "\u001B[34m\u001B[1mwandb\u001B[0m:            n_params ▁\n",
      "\u001B[34m\u001B[1mwandb\u001B[0m:                  mp ▁\n",
      "\u001B[34m\u001B[1mwandb\u001B[0m:             grad_mp ▁\n",
      "\u001B[34m\u001B[1mwandb\u001B[0m:            _runtime ▁▁▁▁▂▂▂▂▂▂▃▃▃▃▃▄▄▄▄▄▅▅▅▅▅▆▆▆▆▆▇▇▇▇▇▇████\n",
      "\u001B[34m\u001B[1mwandb\u001B[0m:          _timestamp ▁▁▁▁▂▂▂▂▂▂▃▃▃▃▃▄▄▄▄▄▅▅▅▅▅▆▆▆▆▆▇▇▇▇▇▇████\n",
      "\u001B[34m\u001B[1mwandb\u001B[0m:               _step ▁▁▁▁▂▂▂▂▂▃▃▃▃▃▃▄▄▄▄▄▅▅▅▅▅▅▆▆▆▆▆▇▇▇▇▇▇███\n",
      "\u001B[34m\u001B[1mwandb\u001B[0m:          lr_group_0 ████▇▇▇▇▇▆▆▆▆▆▆▅▅▅▅▅▄▄▄▄▄▄▃▃▃▃▃▂▂▂▂▂▂▁▁▁\n",
      "\u001B[34m\u001B[1mwandb\u001B[0m:          lr_group_1 ████▇▇▇▇▇▆▆▆▆▆▆▅▅▅▅▅▄▄▄▄▄▄▃▃▃▃▃▂▂▂▂▂▂▁▁▁\n",
      "\u001B[34m\u001B[1mwandb\u001B[0m:         global_step ▁▁▁▂▂▂▂▂▂▃▃▃▃▃▃▄▄▄▄▄▅▅▅▅▅▅▆▆▆▆▆▆▇▇▇▇▇███\n",
      "\u001B[34m\u001B[1mwandb\u001B[0m:                loss █▇▄▄▄▄▆▂▃▆▅▅▂▄▂▃▁▃▄▆▃▃▁▄▁▃▂▄▂▃▁▃▃▂▄▅▃▄▂▂\n",
      "\u001B[34m\u001B[1mwandb\u001B[0m:                 tpb ▃▃▆▃▁▆▃▃▃▅▆▅▅▄▅█▅▄▄█▅▅▁▂▆▅█▆▅▂▇▇▅▃▆▆▆▁▃▅\n",
      "\u001B[34m\u001B[1mwandb\u001B[0m:                  bs ▁▁▁▁▁▁▁▁▁▁▁▁▁▁▁▁▁▁▁▁▁▁▁▁▁▁▁▁▁▁▁▁▁▁▁▁▁▁▁▁\n",
      "\u001B[34m\u001B[1mwandb\u001B[0m:         src_pad_tok ▁▄▃▂▄▇▄▂▃▆█▂▄▄▃▅▇▂█▅▃▅▃▁▂▃▄▅▄▂▅▂▃▁▅▁▄▃▃▃\n",
      "\u001B[34m\u001B[1mwandb\u001B[0m:        src_pad_frac ▁▅▃▂▆▆▅▂▃▆▇▂▄▅▃▄▇▃█▄▃▆▅▁▂▄▃▅▅▃▄▂▃▁▅▁▄▄▄▄\n",
      "\u001B[34m\u001B[1mwandb\u001B[0m:               epoch ▁▁▁▁▁▁▁▁▁▁▁▁▁▁▁▁▁▁▁▁▁▁▁▁▁▁▁▁▁▁▁▁▁▁▁▁▁▁▁▁\n",
      "\u001B[34m\u001B[1mwandb\u001B[0m:        val_avg_loss █▃▄▁\n",
      "\u001B[34m\u001B[1mwandb\u001B[0m:      val_avg_rouge1 ▁▆▇█\n",
      "\u001B[34m\u001B[1mwandb\u001B[0m:      val_avg_rouge2 ▁▅▆█\n",
      "\u001B[34m\u001B[1mwandb\u001B[0m:      val_avg_rougeL ▁▅▆█\n",
      "\u001B[34m\u001B[1mwandb\u001B[0m:   val_avg_rougeLsum ▁▅▇█\n",
      "\u001B[34m\u001B[1mwandb\u001B[0m:    val_avg_gen_time ▁▇█▆\n",
      "\u001B[34m\u001B[1mwandb\u001B[0m:     val_avg_gen_len ▁█▇▅\n",
      "\u001B[34m\u001B[1mwandb\u001B[0m:          step_count ▁▃▆█\n",
      "\u001B[34m\u001B[1mwandb\u001B[0m: \n",
      "\u001B[34m\u001B[1mwandb\u001B[0m: Synced 5 W&B file(s), 0 media file(s), 0 artifact file(s) and 0 other file(s)\n",
      "\u001B[34m\u001B[1mwandb\u001B[0m: \n",
      "\u001B[34m\u001B[1mwandb\u001B[0m: Synced \u001B[33mmodel_squad\u001B[0m: \u001B[34mhttps://wandb.ai/leushina/data_qg/runs/ntad0noz\u001B[0m\n"
     ],
     "name": "stdout"
    }
   ]
  },
  {
   "cell_type": "markdown",
   "metadata": {
    "id": "775EDj_YqDDO"
   },
   "source": [
    "# Analyze results\r\n"
   ]
  },
  {
   "cell_type": "markdown",
   "metadata": {
    "id": "5QVqEMt4ShFE"
   },
   "source": [
    "## Generate test results"
   ]
  },
  {
   "cell_type": "code",
   "metadata": {
    "id": "0rLpzB3qSR8j"
   },
   "source": [
    "path = \"/content/drive/My Drive/model_squad/best_tfmr\"\r\n",
    "# path = \"valhalla/t5-small-e2e-qg\"\r\n",
    "model = AutoModelForSeq2SeqLM.from_pretrained(path)\r\n",
    "tokenizer = AutoTokenizer.from_pretrained(path)\r\n",
    "model.eval()\r\n",
    "\r\n",
    "def run_model(input_string, **generator_args):\r\n",
    "    input_ids = tokenizer.encode(input_string, return_tensors=\"pt\")\r\n",
    "    res = model.generate(input_ids, **generator_args)\r\n",
    "    tokens = [tokenizer.decode(x) for x in res]\r\n",
    "    return(tokens)"
   ],
   "execution_count": null,
   "outputs": []
  },
  {
   "cell_type": "code",
   "metadata": {
    "colab": {
     "base_uri": "https://localhost:8080/"
    },
    "id": "-uNeWqsTSY1O",
    "outputId": "4e606b07-a8e5-4e04-fa53-4d3edbcaf17f"
   },
   "source": [
    "run_model(\"Atop the main building 's gold dome is a large statue of the building . <sep>\")"
   ],
   "execution_count": null,
   "outputs": [
    {
     "output_type": "execute_result",
     "data": {
      "text/plain": [
       "[\"Atop the main building's gold dome is a large statue of the building. <sep> where is the main statue?\"]"
      ]
     },
     "metadata": {
      "tags": []
     },
     "execution_count": 9
    }
   ]
  },
  {
   "cell_type": "code",
   "metadata": {
    "colab": {
     "base_uri": "https://localhost:8080/"
    },
    "id": "uPiJ_yhhSaRl",
    "outputId": "115df301-11f9-43ca-fd41-7e0c6ad7485d"
   },
   "source": [
    "run_model(\"over the years 29 residence halls have been built to accommodate students \" \\\r\n",
    "          \"and each has been constructed with its own chapel . <sep>\")"
   ],
   "execution_count": null,
   "outputs": [
    {
     "output_type": "execute_result",
     "data": {
      "text/plain": [
       "['Over the years 29 residence halls have been built to accommodate students. Each has been built with its own chapel. <sep> how many residence hall has been constructed?']"
      ]
     },
     "metadata": {
      "tags": []
     },
     "execution_count": 9
    }
   ]
  },
  {
   "cell_type": "code",
   "metadata": {
    "colab": {
     "base_uri": "https://localhost:8080/",
     "height": 502
    },
    "id": "dHuaYJgKWIJi",
    "outputId": "d645a51f-326c-4a12-893e-51b9a4a80520"
   },
   "source": [
    "test_df = pd.read_csv('/content/drive/MyDrive/test_data_squad.csv')\r\n",
    "test_df"
   ],
   "execution_count": null,
   "outputs": [
    {
     "output_type": "execute_result",
     "data": {
      "text/html": [
       "<div>\n",
       "<style scoped>\n",
       "    .dataframe tbody tr th:only-of-type {\n",
       "        vertical-align: middle;\n",
       "    }\n",
       "\n",
       "    .dataframe tbody tr th {\n",
       "        vertical-align: top;\n",
       "    }\n",
       "\n",
       "    .dataframe thead th {\n",
       "        text-align: right;\n",
       "    }\n",
       "</style>\n",
       "<table border=\"1\" class=\"dataframe\">\n",
       "  <thead>\n",
       "    <tr style=\"text-align: right;\">\n",
       "      <th></th>\n",
       "      <th>Unnamed: 0</th>\n",
       "      <th>Context</th>\n",
       "      <th>Simple Context</th>\n",
       "      <th>Questions</th>\n",
       "    </tr>\n",
       "  </thead>\n",
       "  <tbody>\n",
       "    <tr>\n",
       "      <th>0</th>\n",
       "      <td>0</td>\n",
       "      <td>it is a replica of the grotto at lourdes , fra...</td>\n",
       "      <td>The grotto can be found at lourdes , france wh...</td>\n",
       "      <td>to whom did the virgin mary allegedly appear ...</td>\n",
       "    </tr>\n",
       "    <tr>\n",
       "      <th>1</th>\n",
       "      <td>1</td>\n",
       "      <td>immediately in front of the main building and ...</td>\n",
       "      <td>However , in front of the main building and fa...</td>\n",
       "      <td>what is in front of the notre dame main build...</td>\n",
       "    </tr>\n",
       "    <tr>\n",
       "      <th>2</th>\n",
       "      <td>2</td>\n",
       "      <td>next to the main building is the basilica of t...</td>\n",
       "      <td>next to the main building is the basilica of t...</td>\n",
       "      <td>the basilica of the sacred heart at notre dam...</td>\n",
       "    </tr>\n",
       "    <tr>\n",
       "      <th>3</th>\n",
       "      <td>3</td>\n",
       "      <td>immediately behind the basilica is the grotto ...</td>\n",
       "      <td>immediately behind the basilica is the grotto ...</td>\n",
       "      <td>what is the grotto at notre dame ?</td>\n",
       "    </tr>\n",
       "    <tr>\n",
       "      <th>4</th>\n",
       "      <td>4</td>\n",
       "      <td>atop the main building 's gold dome is a golde...</td>\n",
       "      <td>Atop the main building 's gold dome is a large...</td>\n",
       "      <td>what sits on top of the main building at notr...</td>\n",
       "    </tr>\n",
       "    <tr>\n",
       "      <th>...</th>\n",
       "      <td>...</td>\n",
       "      <td>...</td>\n",
       "      <td>...</td>\n",
       "      <td>...</td>\n",
       "    </tr>\n",
       "    <tr>\n",
       "      <th>8881</th>\n",
       "      <td>8881</td>\n",
       "      <td>notable athletes include swimmer sharron davie...</td>\n",
       "      <td>notable athletes include swimmer sharron davie...</td>\n",
       "      <td>what is the occupation of trevor francis ?</td>\n",
       "    </tr>\n",
       "    <tr>\n",
       "      <th>8882</th>\n",
       "      <td>8882</td>\n",
       "      <td>canadian politician and legal scholar chris ax...</td>\n",
       "      <td>canadian politician and legal scholar chris me...</td>\n",
       "      <td>what is the current nationality of former ply...</td>\n",
       "    </tr>\n",
       "    <tr>\n",
       "      <th>8883</th>\n",
       "      <td>8883</td>\n",
       "      <td>america based actor donald moffat , whose role...</td>\n",
       "      <td>american roles include american vice president...</td>\n",
       "      <td>what united states vice president did donald ...</td>\n",
       "    </tr>\n",
       "    <tr>\n",
       "      <th>8884</th>\n",
       "      <td>8884</td>\n",
       "      <td>america based actor donald moffat , whose role...</td>\n",
       "      <td>american roles include american vice president...</td>\n",
       "      <td>in what film did donald moffat play president...</td>\n",
       "    </tr>\n",
       "    <tr>\n",
       "      <th>8885</th>\n",
       "      <td>8885</td>\n",
       "      <td>other past residents include composer journali...</td>\n",
       "      <td>Other people who live there include composer j...</td>\n",
       "      <td>what is dawn french 's job</td>\n",
       "    </tr>\n",
       "  </tbody>\n",
       "</table>\n",
       "<p>8886 rows × 4 columns</p>\n",
       "</div>"
      ],
      "text/plain": [
       "      Unnamed: 0  ...                                          Questions\n",
       "0              0  ...   to whom did the virgin mary allegedly appear ...\n",
       "1              1  ...   what is in front of the notre dame main build...\n",
       "2              2  ...   the basilica of the sacred heart at notre dam...\n",
       "3              3  ...                 what is the grotto at notre dame ?\n",
       "4              4  ...   what sits on top of the main building at notr...\n",
       "...          ...  ...                                                ...\n",
       "8881        8881  ...         what is the occupation of trevor francis ?\n",
       "8882        8882  ...   what is the current nationality of former ply...\n",
       "8883        8883  ...   what united states vice president did donald ...\n",
       "8884        8884  ...   in what film did donald moffat play president...\n",
       "8885        8885  ...                         what is dawn french 's job\n",
       "\n",
       "[8886 rows x 4 columns]"
      ]
     },
     "metadata": {
      "tags": []
     },
     "execution_count": 10
    }
   ]
  },
  {
   "cell_type": "code",
   "metadata": {
    "id": "Er8WuMb1WaFB"
   },
   "source": [
    "contexts_complex = list(test_df['Context'])\r\n",
    "contexts_simple = list(test_df['Simple Context'])\r\n",
    "refs = list(test_df['Questions'])"
   ],
   "execution_count": null,
   "outputs": []
  },
  {
   "cell_type": "code",
   "metadata": {
    "colab": {
     "base_uri": "https://localhost:8080/",
     "height": 35
    },
    "id": "F1aLwK1E1vEb",
    "outputId": "bb6cc66b-a37b-44e7-d9de-eda072be5531"
   },
   "source": [
    "len(contexts_complex)\r\n",
    "contexts_complex[4582]"
   ],
   "execution_count": null,
   "outputs": [
    {
     "output_type": "execute_result",
     "data": {
      "application/vnd.google.colaboratory.intrinsic+json": {
       "type": "string"
      },
      "text/plain": [
       "'in june 2013 , west and television personality kim kardashian announced the birth of their first child , north .  '"
      ]
     },
     "metadata": {
      "tags": []
     },
     "execution_count": 19
    }
   ]
  },
  {
   "cell_type": "code",
   "metadata": {
    "id": "MjVCrylt-hJ_"
   },
   "source": [
    "generated_questions = []\r\n",
    "generated_contexts = []\r\n",
    "with open(\"/content/drive/MyDrive/squad_questions_and_simps_new.txt\", 'r') as f:\r\n",
    "  lines = f.readlines()\r\n",
    "  generated_contexts, generated_questions = file_parse(lines)"
   ],
   "execution_count": null,
   "outputs": []
  },
  {
   "cell_type": "code",
   "metadata": {
    "colab": {
     "base_uri": "https://localhost:8080/",
     "height": 35
    },
    "id": "h_rNFYKv7aWi",
    "outputId": "349f8263-879a-48c7-bf5c-c8df8d111ca3"
   },
   "source": [
    "k = [(i, x) for i, x in enumerate(generated_contexts) if len(x) < 5][0]\r\n",
    "k[0]\r\n",
    "generated_questions.pop(k[0])\r\n",
    "generated_contexts.pop(k[0]) "
   ],
   "execution_count": null,
   "outputs": [
    {
     "output_type": "execute_result",
     "data": {
      "application/vnd.google.colaboratory.intrinsic+json": {
       "type": "string"
      },
      "text/plain": [
       "''"
      ]
     },
     "metadata": {
      "tags": []
     },
     "execution_count": 14
    }
   ]
  },
  {
   "cell_type": "code",
   "metadata": {
    "id": "_NSjnH393RoT"
   },
   "source": [
    "sep = '<sep>'\r\n",
    "с = contexts_complex[4582]\r\n",
    "s = run_model(с + sep)[0]"
   ],
   "execution_count": null,
   "outputs": []
  },
  {
   "cell_type": "code",
   "metadata": {
    "id": "f7pvsgeSjQYS"
   },
   "source": [
    "ctx, qst = s.split(sep)\r\n",
    "generated_questions.insert(4582, qst)\r\n",
    "generated_contexts.insert(4582, ctx)"
   ],
   "execution_count": null,
   "outputs": []
  },
  {
   "cell_type": "code",
   "metadata": {
    "colab": {
     "base_uri": "https://localhost:8080/"
    },
    "id": "MSt9jGTo_Rid",
    "outputId": "f39297f5-0d14-4880-e874-42909826a385"
   },
   "source": [
    "len(generated_questions)\r\n",
    "generated_contexts[4580:4583]"
   ],
   "execution_count": null,
   "outputs": [
    {
     "output_type": "execute_result",
     "data": {
      "text/plain": [
       "[\"The west released a single,  ⁇  only one '', featuring paul mccartney, on december 31, 2014. \",\n",
       " 'In june 2013, west and television personality kim kardashian announced the birth of their first child, north. ',\n",
       " 'In june 2013, west and television personality kim kardashian announced the birth of their first child, north. ']"
      ]
     },
     "metadata": {
      "tags": []
     },
     "execution_count": 28
    }
   ]
  },
  {
   "cell_type": "code",
   "metadata": {
    "colab": {
     "base_uri": "https://localhost:8080/",
     "height": 66,
     "referenced_widgets": [
      "4bc6bd322683417f922c2ed128b4e0d9",
      "2a4aa82a4a4f45258140b6bcb54fcc3b",
      "efc6dc22aadf4ca4a6f7599d50da772c",
      "3d73e7daf0bd4302ac0a8a51511da06b",
      "0f08d7131c344844a8376cc7066cf85b",
      "0aa818beb4bf4770b2f2e85c27eef4f1",
      "6081bc00c6aa4169b24fa19568aecfa2",
      "dd37881c5cf244e2a250a397e66a66d7"
     ]
    },
    "id": "WvUId9cLW6Gz",
    "outputId": "edaa0f94-3387-4560-efc3-681f0f5aaccf"
   },
   "source": [
    "sep = '<sep>'\r\n",
    "generated_questions = []\r\n",
    "generated_contexts = []\r\n",
    "with open(\"/content/drive/MyDrive/squad_questions_and_simps_new.txt\", 'a') as f:\r\n",
    "  # f.write('\\n')\r\n",
    "  for i, c in enumerate(tqdm(contexts_complex)):\r\n",
    "    # if i > 5686:\r\n",
    "      s = run_model(c + sep)[0]\r\n",
    "      f.write(s + '\\n')\r\n",
    "      try:\r\n",
    "        sc, q = s.split(sep) \r\n",
    "      except:\r\n",
    "        sc = s\r\n",
    "        q = None\r\n",
    "      generated_questions.append(q)\r\n",
    "      generated_contexts.append(sc)"
   ],
   "execution_count": null,
   "outputs": [
    {
     "output_type": "display_data",
     "data": {
      "application/vnd.jupyter.widget-view+json": {
       "model_id": "4bc6bd322683417f922c2ed128b4e0d9",
       "version_major": 2,
       "version_minor": 0
      },
      "text/plain": [
       "HBox(children=(FloatProgress(value=0.0, max=8886.0), HTML(value='')))"
      ]
     },
     "metadata": {
      "tags": []
     }
    },
    {
     "output_type": "stream",
     "text": [
      "\n"
     ],
     "name": "stdout"
    }
   ]
  },
  {
   "cell_type": "code",
   "metadata": {
    "id": "7sNJT4ySZlZE"
   },
   "source": [
    "# final_result_df = val_df[['Context', 'Simple Context','Questions', 'sent_id']].iloc[:len(generated_contexts)]\r\n",
    "test_df['Generated Context'] = generated_contexts\r\n",
    "test_df['Generated Question'] = generated_questions\r\n",
    "test_df.to_csv(\"/content/drive/MyDrive/final_result_df_squad_test.csv\")"
   ],
   "execution_count": null,
   "outputs": []
  },
  {
   "cell_type": "code",
   "metadata": {
    "colab": {
     "base_uri": "https://localhost:8080/",
     "height": 586
    },
    "id": "fsT6_FAAKKUm",
    "outputId": "1f3d66d4-ed21-477a-fec7-678f4c7a89ee"
   },
   "source": [
    "test_df"
   ],
   "execution_count": null,
   "outputs": [
    {
     "output_type": "execute_result",
     "data": {
      "text/html": [
       "<div>\n",
       "<style scoped>\n",
       "    .dataframe tbody tr th:only-of-type {\n",
       "        vertical-align: middle;\n",
       "    }\n",
       "\n",
       "    .dataframe tbody tr th {\n",
       "        vertical-align: top;\n",
       "    }\n",
       "\n",
       "    .dataframe thead th {\n",
       "        text-align: right;\n",
       "    }\n",
       "</style>\n",
       "<table border=\"1\" class=\"dataframe\">\n",
       "  <thead>\n",
       "    <tr style=\"text-align: right;\">\n",
       "      <th></th>\n",
       "      <th>Unnamed: 0</th>\n",
       "      <th>Context</th>\n",
       "      <th>Simple Context</th>\n",
       "      <th>Questions</th>\n",
       "      <th>Generated Context</th>\n",
       "      <th>Generated Question</th>\n",
       "    </tr>\n",
       "  </thead>\n",
       "  <tbody>\n",
       "    <tr>\n",
       "      <th>0</th>\n",
       "      <td>0</td>\n",
       "      <td>it is a replica of the grotto at lourdes , fra...</td>\n",
       "      <td>The grotto can be found at lourdes , france wh...</td>\n",
       "      <td>to whom did the virgin mary allegedly appear ...</td>\n",
       "      <td>It is a replica of the grotto at lourdes, fran...</td>\n",
       "      <td>where did the virgin y appear to?</td>\n",
       "    </tr>\n",
       "    <tr>\n",
       "      <th>1</th>\n",
       "      <td>1</td>\n",
       "      <td>immediately in front of the main building and ...</td>\n",
       "      <td>However , in front of the main building and fa...</td>\n",
       "      <td>what is in front of the notre dame main build...</td>\n",
       "      <td>In front of the main building and facing it, i...</td>\n",
       "      <td>a statue of the god with arms is ulauded with...</td>\n",
       "    </tr>\n",
       "    <tr>\n",
       "      <th>2</th>\n",
       "      <td>2</td>\n",
       "      <td>next to the main building is the basilica of t...</td>\n",
       "      <td>next to the main building is the basilica of t...</td>\n",
       "      <td>the basilica of the sacred heart at notre dam...</td>\n",
       "      <td>Located next to the main building is the basil...</td>\n",
       "      <td>where is basilica?</td>\n",
       "    </tr>\n",
       "    <tr>\n",
       "      <th>3</th>\n",
       "      <td>3</td>\n",
       "      <td>immediately behind the basilica is the grotto ...</td>\n",
       "      <td>immediately behind the basilica is the grotto ...</td>\n",
       "      <td>what is the grotto at notre dame ?</td>\n",
       "      <td>Located just behind the basilica is the grotto...</td>\n",
       "      <td>what is the place of prayers and reflection i...</td>\n",
       "    </tr>\n",
       "    <tr>\n",
       "      <th>4</th>\n",
       "      <td>4</td>\n",
       "      <td>atop the main building 's gold dome is a golde...</td>\n",
       "      <td>Atop the main building 's gold dome is a large...</td>\n",
       "      <td>what sits on top of the main building at notr...</td>\n",
       "      <td>atop the main building's gold dome is a statue...</td>\n",
       "      <td>a golden statue of a virgin.</td>\n",
       "    </tr>\n",
       "    <tr>\n",
       "      <th>...</th>\n",
       "      <td>...</td>\n",
       "      <td>...</td>\n",
       "      <td>...</td>\n",
       "      <td>...</td>\n",
       "      <td>...</td>\n",
       "      <td>...</td>\n",
       "    </tr>\n",
       "    <tr>\n",
       "      <th>8881</th>\n",
       "      <td>8881</td>\n",
       "      <td>notable athletes include swimmer sharron davie...</td>\n",
       "      <td>notable athletes include swimmer sharron davie...</td>\n",
       "      <td>what is the occupation of trevor francis ?</td>\n",
       "      <td>Some notable athletes include swimmer sharron ...</td>\n",
       "      <td>what athlete?</td>\n",
       "    </tr>\n",
       "    <tr>\n",
       "      <th>8882</th>\n",
       "      <td>8882</td>\n",
       "      <td>canadian politician and legal scholar chris ax...</td>\n",
       "      <td>canadian politician and legal scholar chris me...</td>\n",
       "      <td>what is the current nationality of former ply...</td>\n",
       "      <td>canadian politician and legal scholar chris ax...</td>\n",
       "      <td>who can akan politician and law scholar hail ...</td>\n",
       "    </tr>\n",
       "    <tr>\n",
       "      <th>8883</th>\n",
       "      <td>8883</td>\n",
       "      <td>america based actor donald moffat , whose role...</td>\n",
       "      <td>american roles include american vice president...</td>\n",
       "      <td>what united states vice president did donald ...</td>\n",
       "      <td>donald moffat, whose roles include vice presid...</td>\n",
       "      <td>, who was born?</td>\n",
       "    </tr>\n",
       "    <tr>\n",
       "      <th>8884</th>\n",
       "      <td>8884</td>\n",
       "      <td>america based actor donald moffat , whose role...</td>\n",
       "      <td>american roles include american vice president...</td>\n",
       "      <td>in what film did donald moffat play president...</td>\n",
       "      <td>donald moffat, whose roles include vice presid...</td>\n",
       "      <td>, who was born?</td>\n",
       "    </tr>\n",
       "    <tr>\n",
       "      <th>8885</th>\n",
       "      <td>8885</td>\n",
       "      <td>other past residents include composer journali...</td>\n",
       "      <td>Other people who live there include composer j...</td>\n",
       "      <td>what is dawn french 's job</td>\n",
       "      <td>Other past residents include composer journali...</td>\n",
       "      <td>what composer and comedian?</td>\n",
       "    </tr>\n",
       "  </tbody>\n",
       "</table>\n",
       "<p>8886 rows × 6 columns</p>\n",
       "</div>"
      ],
      "text/plain": [
       "      Unnamed: 0  ...                                 Generated Question\n",
       "0              0  ...                  where did the virgin y appear to?\n",
       "1              1  ...   a statue of the god with arms is ulauded with...\n",
       "2              2  ...                                 where is basilica?\n",
       "3              3  ...   what is the place of prayers and reflection i...\n",
       "4              4  ...                       a golden statue of a virgin.\n",
       "...          ...  ...                                                ...\n",
       "8881        8881  ...                                      what athlete?\n",
       "8882        8882  ...   who can akan politician and law scholar hail ...\n",
       "8883        8883  ...                                    , who was born?\n",
       "8884        8884  ...                                    , who was born?\n",
       "8885        8885  ...                        what composer and comedian?\n",
       "\n",
       "[8886 rows x 6 columns]"
      ]
     },
     "metadata": {
      "tags": []
     },
     "execution_count": 33
    }
   ]
  },
  {
   "cell_type": "code",
   "metadata": {
    "colab": {
     "base_uri": "https://localhost:8080/"
    },
    "id": "1xcLDWdMf5iZ",
    "outputId": "404e8e0a-0ee6-4e02-8299-865de2cfca63"
   },
   "source": [
    "n = 658\r\n",
    "# 143 urban --> rural (antonim?)\r\n",
    "print(test_df['Context'].iloc[n])\r\n",
    "print(test_df['Simple Context'].iloc[n])\r\n",
    "print(test_df['Questions'].iloc[n])\r\n",
    "print(test_df['Generated Context'].iloc[n])\r\n",
    "print(test_df['Generated Question'].iloc[n])"
   ],
   "execution_count": null,
   "outputs": [
    {
     "output_type": "stream",
     "text": [
      "sasha was conceived during the making of `` crazy in love '' , and beyoncé introduced her with the release of her 2008 album i am ... sasha fierce .  \n",
      "sasha was made during the making of tang crazy in love . She introduced her release of her 2008 album i am ... sasha fierce . \n",
      " her alter ego was born when according to beyonce ?\n",
      "sasha was conceived during the making of  ⁇  crazy in love '', and beyonce introduced her with the release of her 2008 album i am... she was fierce. \n",
      " what album did beyoncé release?\n"
     ],
     "name": "stdout"
    }
   ]
  },
  {
   "cell_type": "markdown",
   "metadata": {
    "id": "rXRwmBr5Sm1U"
   },
   "source": [
    "## Calculate scores\r\n"
   ]
  },
  {
   "cell_type": "code",
   "metadata": {
    "id": "ateaKRAdSrV9"
   },
   "source": [
    "final_result_df = pd.read_csv(\"/content/drive/MyDrive/final_result_df_squad_test.csv\")\r\n",
    "    # \"/content/drive/MyDrive/final_result_df_squad.csv\")\r\n",
    "# /content/drive/MyDrive/final_result_df_squad_test.csv"
   ],
   "execution_count": null,
   "outputs": []
  },
  {
   "cell_type": "code",
   "metadata": {
    "colab": {
     "base_uri": "https://localhost:8080/",
     "height": 654
    },
    "id": "0yGlzaCRSwUA",
    "outputId": "1e370aa4-70dd-401a-c0ee-5bf569dc15b3"
   },
   "source": [
    "final_result_df"
   ],
   "execution_count": null,
   "outputs": [
    {
     "output_type": "execute_result",
     "data": {
      "text/html": [
       "<div>\n",
       "<style scoped>\n",
       "    .dataframe tbody tr th:only-of-type {\n",
       "        vertical-align: middle;\n",
       "    }\n",
       "\n",
       "    .dataframe tbody tr th {\n",
       "        vertical-align: top;\n",
       "    }\n",
       "\n",
       "    .dataframe thead th {\n",
       "        text-align: right;\n",
       "    }\n",
       "</style>\n",
       "<table border=\"1\" class=\"dataframe\">\n",
       "  <thead>\n",
       "    <tr style=\"text-align: right;\">\n",
       "      <th></th>\n",
       "      <th>Unnamed: 0</th>\n",
       "      <th>Unnamed: 0.1</th>\n",
       "      <th>Context</th>\n",
       "      <th>Simple Context</th>\n",
       "      <th>Questions</th>\n",
       "      <th>Generated Context</th>\n",
       "      <th>Generated Question</th>\n",
       "    </tr>\n",
       "  </thead>\n",
       "  <tbody>\n",
       "    <tr>\n",
       "      <th>0</th>\n",
       "      <td>0</td>\n",
       "      <td>0</td>\n",
       "      <td>it is a replica of the grotto at lourdes , fra...</td>\n",
       "      <td>The grotto can be found at lourdes , france wh...</td>\n",
       "      <td>to whom did the virgin mary allegedly appear ...</td>\n",
       "      <td>It is a replica of the grotto at lourdes, fran...</td>\n",
       "      <td>where did the virgin y appear to?</td>\n",
       "    </tr>\n",
       "    <tr>\n",
       "      <th>1</th>\n",
       "      <td>1</td>\n",
       "      <td>1</td>\n",
       "      <td>immediately in front of the main building and ...</td>\n",
       "      <td>However , in front of the main building and fa...</td>\n",
       "      <td>what is in front of the notre dame main build...</td>\n",
       "      <td>In front of the main building and facing it, i...</td>\n",
       "      <td>a statue of the god with arms is ulauded with...</td>\n",
       "    </tr>\n",
       "    <tr>\n",
       "      <th>2</th>\n",
       "      <td>2</td>\n",
       "      <td>2</td>\n",
       "      <td>next to the main building is the basilica of t...</td>\n",
       "      <td>next to the main building is the basilica of t...</td>\n",
       "      <td>the basilica of the sacred heart at notre dam...</td>\n",
       "      <td>Located next to the main building is the basil...</td>\n",
       "      <td>where is basilica?</td>\n",
       "    </tr>\n",
       "    <tr>\n",
       "      <th>3</th>\n",
       "      <td>3</td>\n",
       "      <td>3</td>\n",
       "      <td>immediately behind the basilica is the grotto ...</td>\n",
       "      <td>immediately behind the basilica is the grotto ...</td>\n",
       "      <td>what is the grotto at notre dame ?</td>\n",
       "      <td>Located just behind the basilica is the grotto...</td>\n",
       "      <td>what is the place of prayers and reflection i...</td>\n",
       "    </tr>\n",
       "    <tr>\n",
       "      <th>4</th>\n",
       "      <td>4</td>\n",
       "      <td>4</td>\n",
       "      <td>atop the main building 's gold dome is a golde...</td>\n",
       "      <td>Atop the main building 's gold dome is a large...</td>\n",
       "      <td>what sits on top of the main building at notr...</td>\n",
       "      <td>atop the main building's gold dome is a statue...</td>\n",
       "      <td>a golden statue of a virgin.</td>\n",
       "    </tr>\n",
       "    <tr>\n",
       "      <th>...</th>\n",
       "      <td>...</td>\n",
       "      <td>...</td>\n",
       "      <td>...</td>\n",
       "      <td>...</td>\n",
       "      <td>...</td>\n",
       "      <td>...</td>\n",
       "      <td>...</td>\n",
       "    </tr>\n",
       "    <tr>\n",
       "      <th>8881</th>\n",
       "      <td>8881</td>\n",
       "      <td>8881</td>\n",
       "      <td>notable athletes include swimmer sharron davie...</td>\n",
       "      <td>notable athletes include swimmer sharron davie...</td>\n",
       "      <td>what is the occupation of trevor francis ?</td>\n",
       "      <td>Some notable athletes include swimmer sharron ...</td>\n",
       "      <td>what athlete?</td>\n",
       "    </tr>\n",
       "    <tr>\n",
       "      <th>8882</th>\n",
       "      <td>8882</td>\n",
       "      <td>8882</td>\n",
       "      <td>canadian politician and legal scholar chris ax...</td>\n",
       "      <td>canadian politician and legal scholar chris me...</td>\n",
       "      <td>what is the current nationality of former ply...</td>\n",
       "      <td>canadian politician and legal scholar chris ax...</td>\n",
       "      <td>who can akan politician and law scholar hail ...</td>\n",
       "    </tr>\n",
       "    <tr>\n",
       "      <th>8883</th>\n",
       "      <td>8883</td>\n",
       "      <td>8883</td>\n",
       "      <td>america based actor donald moffat , whose role...</td>\n",
       "      <td>american roles include american vice president...</td>\n",
       "      <td>what united states vice president did donald ...</td>\n",
       "      <td>donald moffat, whose roles include vice presid...</td>\n",
       "      <td>, who was born?</td>\n",
       "    </tr>\n",
       "    <tr>\n",
       "      <th>8884</th>\n",
       "      <td>8884</td>\n",
       "      <td>8884</td>\n",
       "      <td>america based actor donald moffat , whose role...</td>\n",
       "      <td>american roles include american vice president...</td>\n",
       "      <td>in what film did donald moffat play president...</td>\n",
       "      <td>donald moffat, whose roles include vice presid...</td>\n",
       "      <td>, who was born?</td>\n",
       "    </tr>\n",
       "    <tr>\n",
       "      <th>8885</th>\n",
       "      <td>8885</td>\n",
       "      <td>8885</td>\n",
       "      <td>other past residents include composer journali...</td>\n",
       "      <td>Other people who live there include composer j...</td>\n",
       "      <td>what is dawn french 's job</td>\n",
       "      <td>Other past residents include composer journali...</td>\n",
       "      <td>what composer and comedian?</td>\n",
       "    </tr>\n",
       "  </tbody>\n",
       "</table>\n",
       "<p>8886 rows × 7 columns</p>\n",
       "</div>"
      ],
      "text/plain": [
       "      Unnamed: 0  ...                                 Generated Question\n",
       "0              0  ...                  where did the virgin y appear to?\n",
       "1              1  ...   a statue of the god with arms is ulauded with...\n",
       "2              2  ...                                 where is basilica?\n",
       "3              3  ...   what is the place of prayers and reflection i...\n",
       "4              4  ...                       a golden statue of a virgin.\n",
       "...          ...  ...                                                ...\n",
       "8881        8881  ...                                      what athlete?\n",
       "8882        8882  ...   who can akan politician and law scholar hail ...\n",
       "8883        8883  ...                                    , who was born?\n",
       "8884        8884  ...                                    , who was born?\n",
       "8885        8885  ...                        what composer and comedian?\n",
       "\n",
       "[8886 rows x 7 columns]"
      ]
     },
     "metadata": {
      "tags": []
     },
     "execution_count": 37
    }
   ]
  },
  {
   "cell_type": "code",
   "metadata": {
    "id": "mV6JtwjUS7Hu"
   },
   "source": [
    "from rouge_score import rouge_scorer,scoring \r\n",
    "import math\r\n",
    "\r\n",
    "scorer = rouge_scorer.RougeScorer(['rougeL'], use_stemmer=True)\r\n",
    "aggregator = scoring.BootstrapAggregator()\r\n",
    "sep = '<sep>'\r\n",
    "\r\n",
    "def calculate_rouge(row):\r\n",
    "  ref = row['Questions']\r\n",
    "  gen_ques = row['Generated Question']\r\n",
    "  if type(gen_ques) == str:\r\n",
    "    scores = scorer.score(gen_ques, ref)\r\n",
    "    return [round(v.fmeasure * 100, 4) for k, v in scores.items()][0]\r\n",
    "  else:\r\n",
    "    return 0\r\n",
    "\r\n",
    "def calculate_sari(row):\r\n",
    "  ref = row['Simple Context']\r\n",
    "  context = row['Context']\r\n",
    "  gen_simp = row['Generated Context']\r\n",
    "  return SARIsent(context, gen_simp, ref)    "
   ],
   "execution_count": null,
   "outputs": []
  },
  {
   "cell_type": "code",
   "metadata": {
    "id": "CiZrGfDDSyVc"
   },
   "source": [
    "final_result_df['ROUGE score'] = final_result_df.apply(lambda x: calculate_rouge(x), axis=1)\r\n",
    "# SARI?\r\n",
    "final_result_df['SARI score'] = final_result_df.apply(lambda x: calculate_sari(x), axis=1)"
   ],
   "execution_count": null,
   "outputs": []
  },
  {
   "cell_type": "code",
   "metadata": {
    "id": "hLjqwAzNFvUj"
   },
   "source": [
    "import textstat\r\n",
    "\r\n",
    "final_result_df['FK original'] = final_result_df['Context'].apply(lambda x: textstat.flesch_kincaid_grade(x))\r\n",
    "final_result_df['FK generated'] = final_result_df['Generated Context'].apply(lambda x: textstat.flesch_kincaid_grade(x))"
   ],
   "execution_count": null,
   "outputs": []
  },
  {
   "cell_type": "code",
   "metadata": {
    "colab": {
     "base_uri": "https://localhost:8080/"
    },
    "id": "ufFZEAxYHXYi",
    "outputId": "e835dfb5-8983-47b8-a1a4-29ee0df3e4bb"
   },
   "source": [
    "final_result_df['ROUGE score'].mean()"
   ],
   "execution_count": null,
   "outputs": [
    {
     "output_type": "execute_result",
     "data": {
      "text/plain": [
       "25.523554580238006"
      ]
     },
     "metadata": {
      "tags": []
     },
     "execution_count": 41
    }
   ]
  },
  {
   "cell_type": "code",
   "metadata": {
    "colab": {
     "base_uri": "https://localhost:8080/"
    },
    "id": "LOWmGjVpPiVA",
    "outputId": "92cdea05-7b9e-4dda-f980-a2c6cfb47e3b"
   },
   "source": [
    "final_result_df['FK generated'].mean()"
   ],
   "execution_count": null,
   "outputs": [
    {
     "output_type": "execute_result",
     "data": {
      "text/plain": [
       "11.076232275489568"
      ]
     },
     "metadata": {
      "tags": []
     },
     "execution_count": 42
    }
   ]
  },
  {
   "cell_type": "code",
   "metadata": {
    "colab": {
     "base_uri": "https://localhost:8080/"
    },
    "id": "RmoUJ-L_PmSZ",
    "outputId": "07e7ac8b-3818-40a8-e8f5-bec8b7f85014"
   },
   "source": [
    "final_result_df['FK original'].mean()"
   ],
   "execution_count": null,
   "outputs": [
    {
     "output_type": "execute_result",
     "data": {
      "text/plain": [
       "14.514427188836384"
      ]
     },
     "metadata": {
      "tags": []
     },
     "execution_count": 43
    }
   ]
  },
  {
   "cell_type": "code",
   "metadata": {
    "colab": {
     "base_uri": "https://localhost:8080/"
    },
    "id": "S3sKOc45P0f2",
    "outputId": "ba4f4190-a9fa-4d2e-c69b-80adc698fc9b"
   },
   "source": [
    "final_result_df['SARI score'].mean()"
   ],
   "execution_count": null,
   "outputs": [
    {
     "output_type": "execute_result",
     "data": {
      "text/plain": [
       "0.330717215001338"
      ]
     },
     "metadata": {
      "tags": []
     },
     "execution_count": 44
    }
   ]
  },
  {
   "cell_type": "code",
   "metadata": {
    "id": "senOWD01Hggi"
   },
   "source": [
    "final_result_df.to_csv(\"/content/drive/MyDrive/final_result_df_squad_test.csv\")"
   ],
   "execution_count": null,
   "outputs": []
  },
  {
   "cell_type": "code",
   "metadata": {
    "colab": {
     "base_uri": "https://localhost:8080/",
     "height": 939
    },
    "id": "966vF12YUnKE",
    "outputId": "0c31b91d-f5fd-4df6-99ea-35deedffe052"
   },
   "source": [
    "final_result_df"
   ],
   "execution_count": null,
   "outputs": [
    {
     "output_type": "execute_result",
     "data": {
      "text/html": [
       "<div>\n",
       "<style scoped>\n",
       "    .dataframe tbody tr th:only-of-type {\n",
       "        vertical-align: middle;\n",
       "    }\n",
       "\n",
       "    .dataframe tbody tr th {\n",
       "        vertical-align: top;\n",
       "    }\n",
       "\n",
       "    .dataframe thead th {\n",
       "        text-align: right;\n",
       "    }\n",
       "</style>\n",
       "<table border=\"1\" class=\"dataframe\">\n",
       "  <thead>\n",
       "    <tr style=\"text-align: right;\">\n",
       "      <th></th>\n",
       "      <th>Unnamed: 0</th>\n",
       "      <th>Unnamed: 0.1</th>\n",
       "      <th>Context</th>\n",
       "      <th>Simple Context</th>\n",
       "      <th>Questions</th>\n",
       "      <th>Generated Context</th>\n",
       "      <th>Generated Question</th>\n",
       "      <th>ROUGE score</th>\n",
       "      <th>SARI score</th>\n",
       "      <th>FK original</th>\n",
       "      <th>FK generated</th>\n",
       "    </tr>\n",
       "  </thead>\n",
       "  <tbody>\n",
       "    <tr>\n",
       "      <th>0</th>\n",
       "      <td>0</td>\n",
       "      <td>0</td>\n",
       "      <td>it is a replica of the grotto at lourdes , fra...</td>\n",
       "      <td>The grotto can be found at lourdes , france wh...</td>\n",
       "      <td>to whom did the virgin mary allegedly appear ...</td>\n",
       "      <td>It is a replica of the grotto at lourdes, fran...</td>\n",
       "      <td>where did the virgin y appear to?</td>\n",
       "      <td>40.0000</td>\n",
       "      <td>0.328255</td>\n",
       "      <td>10.7</td>\n",
       "      <td>9.5</td>\n",
       "    </tr>\n",
       "    <tr>\n",
       "      <th>1</th>\n",
       "      <td>1</td>\n",
       "      <td>1</td>\n",
       "      <td>immediately in front of the main building and ...</td>\n",
       "      <td>However , in front of the main building and fa...</td>\n",
       "      <td>what is in front of the notre dame main build...</td>\n",
       "      <td>In front of the main building and facing it, i...</td>\n",
       "      <td>a statue of the god with arms is ulauded with...</td>\n",
       "      <td>17.3913</td>\n",
       "      <td>0.333256</td>\n",
       "      <td>14.6</td>\n",
       "      <td>11.1</td>\n",
       "    </tr>\n",
       "    <tr>\n",
       "      <th>2</th>\n",
       "      <td>2</td>\n",
       "      <td>2</td>\n",
       "      <td>next to the main building is the basilica of t...</td>\n",
       "      <td>next to the main building is the basilica of t...</td>\n",
       "      <td>the basilica of the sacred heart at notre dam...</td>\n",
       "      <td>Located next to the main building is the basil...</td>\n",
       "      <td>where is basilica?</td>\n",
       "      <td>11.7647</td>\n",
       "      <td>0.323645</td>\n",
       "      <td>8.0</td>\n",
       "      <td>7.2</td>\n",
       "    </tr>\n",
       "    <tr>\n",
       "      <th>3</th>\n",
       "      <td>3</td>\n",
       "      <td>3</td>\n",
       "      <td>immediately behind the basilica is the grotto ...</td>\n",
       "      <td>immediately behind the basilica is the grotto ...</td>\n",
       "      <td>what is the grotto at notre dame ?</td>\n",
       "      <td>Located just behind the basilica is the grotto...</td>\n",
       "      <td>what is the place of prayers and reflection i...</td>\n",
       "      <td>35.2941</td>\n",
       "      <td>0.332552</td>\n",
       "      <td>14.7</td>\n",
       "      <td>10.3</td>\n",
       "    </tr>\n",
       "    <tr>\n",
       "      <th>4</th>\n",
       "      <td>4</td>\n",
       "      <td>4</td>\n",
       "      <td>atop the main building 's gold dome is a golde...</td>\n",
       "      <td>Atop the main building 's gold dome is a large...</td>\n",
       "      <td>what sits on top of the main building at notr...</td>\n",
       "      <td>atop the main building's gold dome is a statue...</td>\n",
       "      <td>a golden statue of a virgin.</td>\n",
       "      <td>11.7647</td>\n",
       "      <td>0.332332</td>\n",
       "      <td>8.0</td>\n",
       "      <td>4.8</td>\n",
       "    </tr>\n",
       "    <tr>\n",
       "      <th>...</th>\n",
       "      <td>...</td>\n",
       "      <td>...</td>\n",
       "      <td>...</td>\n",
       "      <td>...</td>\n",
       "      <td>...</td>\n",
       "      <td>...</td>\n",
       "      <td>...</td>\n",
       "      <td>...</td>\n",
       "      <td>...</td>\n",
       "      <td>...</td>\n",
       "      <td>...</td>\n",
       "    </tr>\n",
       "    <tr>\n",
       "      <th>8881</th>\n",
       "      <td>8881</td>\n",
       "      <td>8881</td>\n",
       "      <td>notable athletes include swimmer sharron davie...</td>\n",
       "      <td>notable athletes include swimmer sharron davie...</td>\n",
       "      <td>what is the occupation of trevor francis ?</td>\n",
       "      <td>Some notable athletes include swimmer sharron ...</td>\n",
       "      <td>what athlete?</td>\n",
       "      <td>22.2222</td>\n",
       "      <td>0.331984</td>\n",
       "      <td>13.1</td>\n",
       "      <td>9.9</td>\n",
       "    </tr>\n",
       "    <tr>\n",
       "      <th>8882</th>\n",
       "      <td>8882</td>\n",
       "      <td>8882</td>\n",
       "      <td>canadian politician and legal scholar chris ax...</td>\n",
       "      <td>canadian politician and legal scholar chris me...</td>\n",
       "      <td>what is the current nationality of former ply...</td>\n",
       "      <td>canadian politician and legal scholar chris ax...</td>\n",
       "      <td>who can akan politician and law scholar hail ...</td>\n",
       "      <td>0.0000</td>\n",
       "      <td>0.326076</td>\n",
       "      <td>13.1</td>\n",
       "      <td>10.7</td>\n",
       "    </tr>\n",
       "    <tr>\n",
       "      <th>8883</th>\n",
       "      <td>8883</td>\n",
       "      <td>8883</td>\n",
       "      <td>america based actor donald moffat , whose role...</td>\n",
       "      <td>american roles include american vice president...</td>\n",
       "      <td>what united states vice president did donald ...</td>\n",
       "      <td>donald moffat, whose roles include vice presid...</td>\n",
       "      <td>, who was born?</td>\n",
       "      <td>0.0000</td>\n",
       "      <td>0.332467</td>\n",
       "      <td>18.5</td>\n",
       "      <td>13.4</td>\n",
       "    </tr>\n",
       "    <tr>\n",
       "      <th>8884</th>\n",
       "      <td>8884</td>\n",
       "      <td>8884</td>\n",
       "      <td>america based actor donald moffat , whose role...</td>\n",
       "      <td>american roles include american vice president...</td>\n",
       "      <td>in what film did donald moffat play president...</td>\n",
       "      <td>donald moffat, whose roles include vice presid...</td>\n",
       "      <td>, who was born?</td>\n",
       "      <td>0.0000</td>\n",
       "      <td>0.332467</td>\n",
       "      <td>18.5</td>\n",
       "      <td>13.4</td>\n",
       "    </tr>\n",
       "    <tr>\n",
       "      <th>8885</th>\n",
       "      <td>8885</td>\n",
       "      <td>8885</td>\n",
       "      <td>other past residents include composer journali...</td>\n",
       "      <td>Other people who live there include composer j...</td>\n",
       "      <td>what is dawn french 's job</td>\n",
       "      <td>Other past residents include composer journali...</td>\n",
       "      <td>what composer and comedian?</td>\n",
       "      <td>20.0000</td>\n",
       "      <td>0.336280</td>\n",
       "      <td>17.8</td>\n",
       "      <td>16.6</td>\n",
       "    </tr>\n",
       "  </tbody>\n",
       "</table>\n",
       "<p>8886 rows × 11 columns</p>\n",
       "</div>"
      ],
      "text/plain": [
       "      Unnamed: 0  Unnamed: 0.1  ... FK original FK generated\n",
       "0              0             0  ...        10.7          9.5\n",
       "1              1             1  ...        14.6         11.1\n",
       "2              2             2  ...         8.0          7.2\n",
       "3              3             3  ...        14.7         10.3\n",
       "4              4             4  ...         8.0          4.8\n",
       "...          ...           ...  ...         ...          ...\n",
       "8881        8881          8881  ...        13.1          9.9\n",
       "8882        8882          8882  ...        13.1         10.7\n",
       "8883        8883          8883  ...        18.5         13.4\n",
       "8884        8884          8884  ...        18.5         13.4\n",
       "8885        8885          8885  ...        17.8         16.6\n",
       "\n",
       "[8886 rows x 11 columns]"
      ]
     },
     "metadata": {
      "tags": []
     },
     "execution_count": 45
    }
   ]
  },
  {
   "cell_type": "markdown",
   "metadata": {
    "id": "6_4HvoicbIbj"
   },
   "source": [
    "# Baseline results analysis\r\n"
   ]
  },
  {
   "cell_type": "code",
   "metadata": {
    "id": "DH45MMILbOP7"
   },
   "source": [
    "baseline_df = pd.read_csv(\"/content/drive/MyDrive/result_questions.csv\")"
   ],
   "execution_count": null,
   "outputs": []
  }
 ]
}